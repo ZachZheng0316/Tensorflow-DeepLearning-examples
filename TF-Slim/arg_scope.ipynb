{
 "cells": [
  {
   "cell_type": "markdown",
   "metadata": {},
   "source": [
    "# arg_scope\n",
    "使用arg_scope，可以提供一种特殊的命名空间，在这个命名空间中可以为指定的操作设置默认的参数，从而简化代码结构。\n",
    "以下实例主要实现以下内容：\n",
    "1. 以普通的方式，实现三个卷积操作；\n",
    "2. 使用arg_scope等效实现上述例子；\n",
    "3. 嵌套使用arg_scope\n",
    "4. 构建VGG16的模型"
   ]
  },
  {
   "cell_type": "code",
   "execution_count": 1,
   "metadata": {},
   "outputs": [],
   "source": [
    "import tensorflow as tf\n",
    "import tensorflow.contrib.slim as slim"
   ]
  },
  {
   "cell_type": "code",
   "execution_count": 2,
   "metadata": {},
   "outputs": [],
   "source": [
    "# 创建输入数据\n",
    "input = tf.Variable(tf.truncated_normal([1, 320, 320, 3], \n",
    "                                        dtype=tf.float32,\n",
    "                                       stddev=1e-1),\n",
    "                   name='input')"
   ]
  },
  {
   "cell_type": "code",
   "execution_count": 3,
   "metadata": {},
   "outputs": [],
   "source": [
    "# 以普通的方式实现卷积操作\n",
    "normal_net = slim.conv2d(input, 64, [11, 11], 4, \n",
    "                         padding='SAME', \n",
    "                         weights_initializer=tf.truncated_normal_initializer(stddev=0.01),\n",
    "                         weights_regularizer=slim.l2_regularizer(0.0005),\n",
    "                         scope='normal_conv1')\n",
    "normal_net = slim.conv2d(normal_net, 128, [11, 11],\n",
    "                         padding='VALID',\n",
    "                         weights_initializer=tf.truncated_normal_initializer(stddev=0.01),\n",
    "                         weights_regularizer=slim.l2_regularizer(0.0005),\n",
    "                         scope='normal_conv2')\n",
    "normal_net = slim.conv2d(normal_net, 256, [11, 11],\n",
    "                         padding='SAME', \n",
    "                         weights_initializer=tf.truncated_normal_initializer(stddev=0.01),\n",
    "                         weights_regularizer=slim.l2_regularizer(0.0005),\n",
    "                         scope='normal_conv3')"
   ]
  },
  {
   "cell_type": "code",
   "execution_count": 4,
   "metadata": {},
   "outputs": [],
   "source": [
    "# 以arg_scope的方式实现上述卷积操作\n",
    "with slim.arg_scope([slim.conv2d], padding='SAME', \n",
    "                    weights_initializer=tf.truncated_normal_initializer(stddev=0.01),\n",
    "                    weights_regularizer=slim.l2_regularizer(0.0005)):\n",
    "    arg_net = slim.conv2d(input, 64, [11, 11], scope='arg_conv1')\n",
    "    arg_net = slim.conv2d(arg_net, 128, [11, 11], padding='VALID', scope='arg_conv2')\n",
    "    arg_net = slim.conv2d(arg_net, 256, [11, 11], scope='arg_conv3')"
   ]
  },
  {
   "cell_type": "code",
   "execution_count": 5,
   "metadata": {},
   "outputs": [],
   "source": [
    "# 嵌套使用arg_scope\n",
    "with slim.arg_scope([slim.conv2d, slim.fully_connected],\n",
    "                   activation_fn=tf.nn.relu,\n",
    "                   weights_initializer=tf.truncated_normal_initializer(stddev=0.01),\n",
    "                   weights_regularizer=slim.l2_regularizer(0.0005)):\n",
    "    with slim.arg_scope([slim.conv2d], stride=1, padding='SAME'):\n",
    "        net = slim.conv2d(input, 64, [11, 11], padding='VALID', scope='conv1')\n",
    "        net = slim.conv2d(net, 256, [5, 5], \n",
    "                          weights_initializer=tf.truncated_normal_initializer(stddev=0.03),\n",
    "                         scope='conv2')\n",
    "        net = slim.fully_connected(net, 1000, activation_fn=None, scope='fc')"
   ]
  },
  {
   "cell_type": "code",
   "execution_count": 6,
   "metadata": {},
   "outputs": [],
   "source": [
    "# 构建VGG16的模型\n",
    "def vgg6(inputs):\n",
    "    with slim.arg_scope([slim.conv2d, slim.fully_connected],\n",
    "                       activation_fn=tf.nn.relu,\n",
    "                       weigths_initializer=tf.truncated_normal_initializer(0.0, 0.01),\n",
    "                       weights_regularizer=slim.l2_regularizer(0.0005)):\n",
    "        net = slim.repeat(inputs, 2, slim.conv2d, 64, [3, 3], scope='conv1')\n",
    "        net = slim.max_pool2d(net, [2, 2], scope='pool1')\n",
    "        net = slim.repeat(net, 2, slim.conv2d, 128, [3, 3], scope='conv2')\n",
    "        net = slim.max_pool2d(net, [2, 2], scope='pool2')\n",
    "        net = slim.repeat(net, 3, slim.conv2d, 256, [3, 3], scope='conv3')\n",
    "        net = slim.max_pool2d(net, [2, 2], scope='pool3')\n",
    "        net = slim.repeat(net, 3, slim.conv2d, 512, [3, 3], scope='conv4')\n",
    "        net = slim.max_pool2d(net, [2, 2], scope='pool4')\n",
    "        net = slim.repeat(net, 3, slim.conv2d, 512, [3, 3], scope='conv5')\n",
    "        net = slim.max_pool2d(net, [2, 2], scope='pool5')\n",
    "        net = slim.fully_connected(net, 4096, scope='fc6')\n",
    "        net = slim.dropout(net, 0.5, scope='dropout6')\n",
    "        net = slim.fully_connected(net, 4096, scope='fc7')\n",
    "        net = slim.dropout(net, 0.5, scope='dropout7')\n",
    "        net = slim.fully_connected(net, 1000, activation_fn=None, scope='fc8')\n",
    "    return net"
   ]
  },
  {
   "cell_type": "code",
   "execution_count": 7,
   "metadata": {},
   "outputs": [],
   "source": [
    "# 建立会话\n",
    "with tf.Session() as sess:\n",
    "    # 执行变量初始化操作\n",
    "    sess.run(tf.global_variables_initializer())\n",
    "    \n",
    "    # 执行其他操作\n",
    "    pass"
   ]
  }
 ],
 "metadata": {
  "kernelspec": {
   "display_name": "Python 3",
   "language": "python",
   "name": "python3"
  },
  "language_info": {
   "codemirror_mode": {
    "name": "ipython",
    "version": 3
   },
   "file_extension": ".py",
   "mimetype": "text/x-python",
   "name": "python",
   "nbconvert_exporter": "python",
   "pygments_lexer": "ipython3",
   "version": "3.5.4"
  }
 },
 "nbformat": 4,
 "nbformat_minor": 2
}
