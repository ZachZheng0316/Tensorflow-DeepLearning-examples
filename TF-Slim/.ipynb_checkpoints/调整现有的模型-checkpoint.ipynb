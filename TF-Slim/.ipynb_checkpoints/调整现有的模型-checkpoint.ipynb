{
 "cells": [
  {
   "cell_type": "code",
   "execution_count": null,
   "metadata": {
    "collapsed": true
   },
   "outputs": [],
   "source": [
    "# 调整现有的模型\n",
    "\n",
    "在对模型训练之后，我们可以保存模型。待下次要使用相关模型的时候，可以恢复保存的模型。\n",
    "为了说明调整现有模型的相关特性，所列举例子如下：\n",
    "1. 微调模型实现分类Pascal VOC数据集。"
   ]
  }
 ],
 "metadata": {
  "kernelspec": {
   "display_name": "Python 3",
   "language": "python",
   "name": "python3"
  },
  "language_info": {
   "codemirror_mode": {
    "name": "ipython",
    "version": 3
   },
   "file_extension": ".py",
   "mimetype": "text/x-python",
   "name": "python",
   "nbconvert_exporter": "python",
   "pygments_lexer": "ipython3",
   "version": "3.5.4"
  }
 },
 "nbformat": 4,
 "nbformat_minor": 2
}
