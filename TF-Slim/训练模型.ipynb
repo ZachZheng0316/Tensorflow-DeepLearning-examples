{
 "cells": [
  {
   "cell_type": "markdown",
   "metadata": {},
   "source": [
    "# 训练模型\n",
    "\n",
    "TF-Slim提供了一系列通用的损失函数和一组辅助函数，用于训练过程和评估例程。\n",
    "\n",
    "以下例子说明了主要的特性：\n",
    "1. 用交叉熵训练VGG16中的一个简单例子\n",
    "2. 多损失函数模型的例子\n",
    "3. 把自定义的损失函数加入TF-Slim管理的例子"
   ]
  }
 ],
 "metadata": {
  "kernelspec": {
   "display_name": "Python 3",
   "language": "python",
   "name": "python3"
  },
  "language_info": {
   "codemirror_mode": {
    "name": "ipython",
    "version": 3
   },
   "file_extension": ".py",
   "mimetype": "text/x-python",
   "name": "python",
   "nbconvert_exporter": "python",
   "pygments_lexer": "ipython3",
   "version": "3.5.4"
  }
 },
 "nbformat": 4,
 "nbformat_minor": 2
}
