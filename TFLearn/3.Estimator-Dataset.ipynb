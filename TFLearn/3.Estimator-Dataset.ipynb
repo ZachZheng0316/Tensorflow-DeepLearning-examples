{
 "cells": [
  {
   "cell_type": "markdown",
   "metadata": {
    "toc": true
   },
   "source": [
    "<h1>Table of Contents<span class=\"tocSkip\"></span></h1>\n",
    "<div class=\"toc\"><ul class=\"toc-item\"><li><span><a href=\"#定义输入函数\" data-toc-modified-id=\"定义输入函数-1\"><span class=\"toc-item-num\">1&nbsp;&nbsp;</span>定义输入函数</a></span></li><li><span><a href=\"#定义模型\" data-toc-modified-id=\"定义模型-2\"><span class=\"toc-item-num\">2&nbsp;&nbsp;</span>定义模型</a></span></li><li><span><a href=\"#训练模型\" data-toc-modified-id=\"训练模型-3\"><span class=\"toc-item-num\">3&nbsp;&nbsp;</span>训练模型</a></span></li></ul></div>"
   ]
  },
  {
   "cell_type": "code",
   "execution_count": 2,
   "metadata": {},
   "outputs": [],
   "source": [
    "import tensorflow as tf"
   ]
  },
  {
   "cell_type": "code",
   "execution_count": 3,
   "metadata": {},
   "outputs": [],
   "source": [
    "# 重置计算图\n",
    "tf.reset_default_graph()\n",
    "\n",
    "# 设置记录消息的阈值\n",
    "tf.logging.set_verbosity(tf.logging.INFO)"
   ]
  },
  {
   "cell_type": "markdown",
   "metadata": {},
   "source": [
    "# 定义输入函数"
   ]
  },
  {
   "cell_type": "code",
   "execution_count": 4,
   "metadata": {},
   "outputs": [],
   "source": [
    "# 定义特征名称\n",
    "feature_names = ['SepalLength', 'SepalWidth', 'PetalLength', 'PetalWidth']\n",
    "\n",
    "# 定义输入函数\n",
    "def my_input_fn(file_path, perform_shuffle=False, repeat_count=1):\n",
    "    # 定义解码函数\n",
    "    def decode_csv(line):\n",
    "        # 把line(文本中每一行数据)分解成四个float, 一个int类型数据\n",
    "        parsed_line = tf.decode_csv(line, [[0.], [0.], [0.], [0.], [0]])\n",
    "        \n",
    "        # 获取label\n",
    "        label = parsed_line[-1] # 最后一个元素为label\n",
    "        del parsed_line[-1] # 删除label\n",
    "        \n",
    "        # 获取样本特征\n",
    "        features = parsed_line # 除了最后一个元素, 其他的为样本的特征数据\n",
    "        \n",
    "        # 返回特征数据和label\n",
    "        d = dict(zip(feature_names, features)), label\n",
    "        return d\n",
    "        \n",
    "    # 读入文件路径并解析数据\n",
    "    dataset = (tf.data.TextLineDataset(file_path) # 读取text file\n",
    "               .skip(1) # 跳过文件的第一行\n",
    "               .map(decode_csv)) # 对文本中每条数据应用函数decode_csv\n",
    "               \n",
    "    # 是否打乱数据顺序\n",
    "    if perform_shuffle:\n",
    "        dataset = dataset.shuffle(buffer_size=256)\n",
    "    \n",
    "    # 设置数据重复次数\n",
    "    dataset = dataset.repeat(repeat_count)\n",
    "    \n",
    "    # 设置batch大小\n",
    "    dataset = dataset.batch(32)\n",
    "    \n",
    "    # 生成数据迭代器\n",
    "    iterator = dataset.make_one_shot_iterator()\n",
    "    \n",
    "    # 获取一个batch的数据\n",
    "    batch_features, batch_labels = iterator.get_next()\n",
    "    \n",
    "    # 返回一个batch的数据\n",
    "    return batch_features, batch_labels\n",
    "\n",
    "# 创建特征列: 所有的输入都是numeric\n",
    "features_columns = [tf.feature_column.numeric_column(k) for k in feature_names]"
   ]
  },
  {
   "cell_type": "markdown",
   "metadata": {},
   "source": [
    "# 定义模型"
   ]
  },
  {
   "cell_type": "code",
   "execution_count": 5,
   "metadata": {},
   "outputs": [
    {
     "name": "stdout",
     "output_type": "stream",
     "text": [
      "INFO:tensorflow:Using default config.\n",
      "INFO:tensorflow:Using config: {'_save_checkpoints_steps': None, '_task_type': 'worker', '_master': '', '_tf_random_seed': None, '_num_ps_replicas': 0, '_is_chief': True, '_task_id': 0, '_keep_checkpoint_max': 5, '_global_id_in_cluster': 0, '_evaluation_master': '', '_keep_checkpoint_every_n_hours': 10000, '_save_checkpoints_secs': 600, '_session_config': None, '_cluster_spec': <tensorflow.python.training.server_lib.ClusterSpec object at 0x0000027F6CF40F98>, '_save_summary_steps': 100, '_service': None, '_num_worker_replicas': 1, '_log_step_count_steps': 100, '_train_distribute': None, '_model_dir': '../../datasets/tf_dataset_and_estimator_api'}\n"
     ]
    }
   ],
   "source": [
    "# 定义checkpoint存储的位置\n",
    "PATH = \"../../datasets/tf_dataset_and_estimator_api\"\n",
    "\n",
    "classifier = tf.estimator.DNNClassifier(feature_columns=features_columns, \n",
    "                                        hidden_units=[10, 10], \n",
    "                                        n_classes=3, \n",
    "                                        model_dir=PATH)"
   ]
  },
  {
   "cell_type": "markdown",
   "metadata": {},
   "source": [
    "# 训练模型"
   ]
  },
  {
   "cell_type": "code",
   "execution_count": 5,
   "metadata": {},
   "outputs": [
    {
     "name": "stdout",
     "output_type": "stream",
     "text": [
      "INFO:tensorflow:Create CheckpointSaverHook.\n",
      "INFO:tensorflow:Saving checkpoints for 1 into ../../../TensorFlow/checkpoint/tf_dataset_and_estimator_api\\model.ckpt.\n",
      "INFO:tensorflow:loss = 58.99401, step = 1\n",
      "INFO:tensorflow:Saving checkpoints for 30 into ../../../TensorFlow/checkpoint/tf_dataset_and_estimator_api\\model.ckpt.\n",
      "INFO:tensorflow:Loss for final step: 17.460835.\n"
     ]
    },
    {
     "data": {
      "text/plain": [
       "<tensorflow.python.estimator.canned.dnn.DNNClassifier at 0x23152f2f278>"
      ]
     },
     "execution_count": 5,
     "metadata": {},
     "output_type": "execute_result"
    }
   ],
   "source": [
    "FILE_TRAIN = \"../../../TensorFlow/datasets/iris_training.csv\"\n",
    "classifier.train(input_fn=lambda: my_input_fn(FILE_TRAIN, True, 8))"
   ]
  },
  {
   "cell_type": "code",
   "execution_count": null,
   "metadata": {
    "collapsed": true
   },
   "outputs": [],
   "source": [
    "\n"
   ]
  }
 ],
 "metadata": {
  "kernelspec": {
   "display_name": "Python 3",
   "language": "python",
   "name": "python3"
  },
  "language_info": {
   "codemirror_mode": {
    "name": "ipython",
    "version": 3
   },
   "file_extension": ".py",
   "mimetype": "text/x-python",
   "name": "python",
   "nbconvert_exporter": "python",
   "pygments_lexer": "ipython3",
   "version": "3.5.5"
  },
  "toc": {
   "base_numbering": 1,
   "nav_menu": {},
   "number_sections": true,
   "sideBar": true,
   "skip_h1_title": false,
   "title_cell": "Table of Contents",
   "title_sidebar": "Contents",
   "toc_cell": true,
   "toc_position": {},
   "toc_section_display": true,
   "toc_window_display": false
  }
 },
 "nbformat": 4,
 "nbformat_minor": 2
}
