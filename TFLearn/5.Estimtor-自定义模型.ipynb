{
 "cells": [
  {
   "cell_type": "markdown",
   "metadata": {
    "toc": true
   },
   "source": [
    "<h1>Table of Contents<span class=\"tocSkip\"></span></h1>\n",
    "<div class=\"toc\"><ul class=\"toc-item\"></ul></div>"
   ]
  },
  {
   "cell_type": "code",
   "execution_count": 1,
   "metadata": {
    "collapsed": true
   },
   "outputs": [],
   "source": [
    "import numpy as np\n",
    "import tensorflow as tf\n",
    "from tensorflow.examples.tutorials.mnist import input_data"
   ]
  },
  {
   "cell_type": "code",
   "execution_count": 2,
   "metadata": {
    "collapsed": true
   },
   "outputs": [],
   "source": [
    "# 设置消息阈值\n",
    "tf.logging.set_verbosity(tf.logging.INFO)"
   ]
  },
  {
   "cell_type": "code",
   "execution_count": null,
   "metadata": {
    "collapsed": true
   },
   "outputs": [],
   "source": [
    "# 设置参数和读取数据"
   ]
  },
  {
   "cell_type": "code",
   "execution_count": null,
   "metadata": {
    "collapsed": true
   },
   "outputs": [],
   "source": [
    "model_params = {\"learning_rate\": 0.01}\n",
    "\n",
    "mnist = input_data.read_data_sets(\"../../../TensorFlow/datasets/MNIST_data/\", one_hot=False)"
   ]
  },
  {
   "cell_type": "code",
   "execution_count": 3,
   "metadata": {
    "collapsed": true
   },
   "outputs": [],
   "source": [
    "# 构建模型\n",
    "\n",
    "# 计算前向传播\n",
    "def lenet(x, is_training):\n",
    "    x = tf.placeholder(x, shape=[-1, 28, 28, 1])\n",
    "    \n",
    "    conv1 = tf.layers.conv2d(x, 32, 5, activation=tf.nn.relu)\n",
    "    conv1 = tf.layers.max_pooling2d(conv1, 2, 2)\n",
    "    \n",
    "    conv2 = tf.layers.conv2d(conv1, 64, 3, activation=tf.nn.relu)\n",
    "    conv2 = tf.layers.max_pooling2d(conv2, 2, 2)\n",
    "    \n",
    "    fc1 = tf.contrib.layers.flatten(conv2)\n",
    "    fc1 = tf.layers.dense(fc1, 1024) # 添加全连接层\n",
    "    fc1 = tf.layers.dropout(fc1, rate=0.4, training=is_training)\n",
    "    result = tf.layers.dense(fc1, 10) # 添加全连接层\n",
    "    \n",
    "    return result\n",
    "\n",
    "def model_fn(features, label, mode, params):\n",
    "    # 计算前向传播过程\n",
    "    predict = lenet(features[\"image\"], mode==tf.estimator.ModeKeys.TRAIN)\n",
    "    \n",
    "    # 如果是作为预测, 则返回预测结果\n",
    "    if mode == tf.estimator.ModeKeys.PREDICT:\n",
    "        return tf.estimator.EstimatorSpec(mode=mode, predictions={\"result\": tf.argmax(predict, 1)})\n",
    "    \n",
    "    # 计算损失函数\n",
    "    loss = tf.reduce_mean(tf.nn.sparse_softmax_cross_entropy_with_logits(logits=predict, labels=labels))\n",
    "    \n",
    "    # 定义优化方法\n",
    "    optimizer = tf.train.GradientDescentOptimizer(learning_rate=params[\"learning_rate\"])\n",
    "    \n",
    "    # 计算精度\n",
    "    eval_metric_ops = {\"accuracy\": tf.metrics.accuracy(tf.argmax(predict, 1)), labels}\n",
    "    \n",
    "    # 返回计算结果\n",
    "    return tf.estimator.EstimatorSpec(mode=mode, \n",
    "                                      loss=loss, \n",
    "                                      train_op=train_op, \n",
    "                                      eval_metric_ops=eval_metric_ops)\n",
    "\n",
    "# 定义模型\n",
    "estimator = tf.estimator.Estimator(model_fn=model_fn, params=model_params)"
   ]
  },
  {
   "cell_type": "code",
   "execution_count": null,
   "metadata": {
    "collapsed": true
   },
   "outputs": [],
   "source": [
    "# 进行训练"
   ]
  },
  {
   "cell_type": "code",
   "execution_count": null,
   "metadata": {
    "collapsed": true
   },
   "outputs": [],
   "source": [
    "# 定义训练输入数据\n",
    "train_input_op = tf.estimator.inputs.numpy_input_fn(x={\"image\":mnist.train.images}, \n",
    "                                                    y=mnist.train.labels.astype(np.int32), \n",
    "                                                    num_epochs=None, \n",
    "                                                    batch_size=128, \n",
    "                                                    shuffle=True)\n",
    "\n",
    "# 进行训练\n",
    "estimator.train(input_fn=train_input_fn, steps=30000)"
   ]
  },
  {
   "cell_type": "code",
   "execution_count": null,
   "metadata": {
    "collapsed": true
   },
   "outputs": [],
   "source": [
    "# 测试模型"
   ]
  },
  {
   "cell_type": "code",
   "execution_count": null,
   "metadata": {
    "collapsed": true
   },
   "outputs": [],
   "source": [
    "# 定义测试数据\n",
    "test_input_fn = tf.estimator.inputs.numpy_input_fn(x={\"image\":mnist.test.images}, \n",
    "                                                   y=mnist.test.labels.astype(np.int32), \n",
    "                                                   num_epochs=1, \n",
    "                                                   batch_size=128, \n",
    "                                                   shuffle=False)\n",
    "\n",
    "# 进行测试\n",
    "test_results = estimator.evaluate(input_fn=test_input_fn)\n",
    "accuracy_score = test_results[\"accuracy\"]\n",
    "print(\"\\nTest accuracy: %g %%\" % (accuracy_score*100))"
   ]
  },
  {
   "cell_type": "code",
   "execution_count": null,
   "metadata": {
    "collapsed": true
   },
   "outputs": [],
   "source": [
    "# 进行预测"
   ]
  },
  {
   "cell_type": "code",
   "execution_count": null,
   "metadata": {
    "collapsed": true
   },
   "outputs": [],
   "source": [
    "# 定义预测数据\n",
    "predict_input_fn = tf.estimator.inputs.numpy_input_fn(x={\"image\":mnist.test.images[\"10\"]}, \n",
    "                                                      num_epochs=1, \n",
    "                                                      shuffle=False)\n",
    "\n",
    "# 进行预测\n",
    "predictions = estimator.predict(input_fn=predict_input_fn)\n",
    "for i, p in enumerate(predictions):\n",
    "    print(\"Prediction %s: %s\" % (i+1, p['result']))"
   ]
  }
 ],
 "metadata": {
  "kernelspec": {
   "display_name": "Python 3",
   "language": "python",
   "name": "python3"
  },
  "language_info": {
   "codemirror_mode": {
    "name": "ipython",
    "version": 3
   },
   "file_extension": ".py",
   "mimetype": "text/x-python",
   "name": "python",
   "nbconvert_exporter": "python",
   "pygments_lexer": "ipython3",
   "version": "3.6.3"
  },
  "toc": {
   "base_numbering": 1,
   "nav_menu": {},
   "number_sections": true,
   "sideBar": true,
   "skip_h1_title": false,
   "title_cell": "Table of Contents",
   "title_sidebar": "Contents",
   "toc_cell": true,
   "toc_position": {},
   "toc_section_display": true,
   "toc_window_display": false
  }
 },
 "nbformat": 4,
 "nbformat_minor": 2
}
