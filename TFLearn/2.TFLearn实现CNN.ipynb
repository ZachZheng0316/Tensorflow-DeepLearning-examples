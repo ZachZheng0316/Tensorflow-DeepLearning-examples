{
 "cells": [
  {
   "cell_type": "markdown",
   "metadata": {
    "toc": true
   },
   "source": [
    "<h1>Table of Contents<span class=\"tocSkip\"></span></h1>\n",
    "<div class=\"toc\"><ul class=\"toc-item\"><li><span><a href=\"#通过-TFLearn-的API定义卷积神经网络\" data-toc-modified-id=\"通过-TFLearn-的API定义卷积神经网络-1\"><span class=\"toc-item-num\">1&nbsp;&nbsp;</span>通过 TFLearn 的API定义卷积神经网络</a></span></li><li><span><a href=\"#通过TFLearn的API训练神经网络\" data-toc-modified-id=\"通过TFLearn的API训练神经网络-2\"><span class=\"toc-item-num\">2&nbsp;&nbsp;</span>通过TFLearn的API训练神经网络</a></span></li><li><span><a href=\"#参考资料\" data-toc-modified-id=\"参考资料-3\"><span class=\"toc-item-num\">3&nbsp;&nbsp;</span>参考资料</a></span></li></ul></div>"
   ]
  },
  {
   "cell_type": "markdown",
   "metadata": {},
   "source": [
    "# 通过 TFLearn 的API定义卷积神经网络"
   ]
  },
  {
   "cell_type": "code",
   "execution_count": 1,
   "metadata": {},
   "outputs": [
    {
     "name": "stdout",
     "output_type": "stream",
     "text": [
      "curses is not supported on this machine (please install/reinstall curses for an optimal experience)\n"
     ]
    }
   ],
   "source": [
    "# 加载库文件\n",
    "import tflearn\n",
    "\n",
    "from tflearn.layers.core import input_data, dropout, fully_connected\n",
    "from tflearn.layers.conv import conv_2d, max_pool_2d\n",
    "from tflearn.layers.estimator import regression\n",
    "\n",
    "import tflearn.datasets.mnist as mnist"
   ]
  },
  {
   "cell_type": "code",
   "execution_count": 2,
   "metadata": {},
   "outputs": [
    {
     "name": "stdout",
     "output_type": "stream",
     "text": [
      "Extracting ../../../TensorFlow/datasets/MNIST_data\\train-images-idx3-ubyte.gz\n",
      "Extracting ../../../TensorFlow/datasets/MNIST_data\\train-labels-idx1-ubyte.gz\n",
      "Extracting ../../../TensorFlow/datasets/MNIST_data\\t10k-images-idx3-ubyte.gz\n",
      "Extracting ../../../TensorFlow/datasets/MNIST_data\\t10k-labels-idx1-ubyte.gz\n",
      "WARNING:tensorflow:From D:\\Program Files (x86)\\Anaconda3\\envs\\tensorflow\\lib\\site-packages\\tflearn\\initializations.py:119: UniformUnitScaling.__init__ (from tensorflow.python.ops.init_ops) is deprecated and will be removed in a future version.\n",
      "Instructions for updating:\n",
      "Use tf.initializers.variance_scaling instead with distribution=uniform to get equivalent behavior.\n",
      "WARNING:tensorflow:From D:\\Program Files (x86)\\Anaconda3\\envs\\tensorflow\\lib\\site-packages\\tflearn\\objectives.py:66: calling reduce_sum (from tensorflow.python.ops.math_ops) with keep_dims is deprecated and will be removed in a future version.\n",
      "Instructions for updating:\n",
      "keep_dims is deprecated, use keepdims instead\n"
     ]
    }
   ],
   "source": [
    "# 获取数据\n",
    "trainX, trainY, testX, testY = mnist.load_data(data_dir=\"../../../TensorFlow/datasets/MNIST_data\", one_hot=True)\n",
    "\n",
    "# 将图像数据resize成卷积神经网络输入格式\n",
    "trainX = trainX.reshape([-1, 28, 28, 1])\n",
    "testX = testX.reshape([-1, 28, 28, 1])\n",
    "\n",
    "# 构建神经网络模型\n",
    "net = input_data(shape=[None, 28, 28, 1], name='input')\n",
    "net = conv_2d(net, 32, 5, activation='relu')\n",
    "net = max_pool_2d(net, 2)\n",
    "net = conv_2d(net, 64, 5, activation='relu')\n",
    "net = max_pool_2d(net, 2)\n",
    "net = fully_connected(net, 500, activation='relu')\n",
    "net = dropout(net, keep_prob=0.5)\n",
    "net = fully_connected(net, 10, activation='softmax')\n",
    "\n",
    "# 定义学习任务\n",
    "# 指定优化器为sgd, 学习率为0.01, 损失函数为交叉熵\n",
    "net = regression(net, optimizer='sgd', learning_rate=0.01, loss='categorical_crossentropy')\n"
   ]
  },
  {
   "cell_type": "markdown",
   "metadata": {},
   "source": [
    "# 通过TFLearn的API训练神经网络"
   ]
  },
  {
   "cell_type": "code",
   "execution_count": 3,
   "metadata": {},
   "outputs": [
    {
     "name": "stdout",
     "output_type": "stream",
     "text": [
      "Training Step: 8599  | total loss: \u001b[1m\u001b[32m0.06362\u001b[0m\u001b[0m | time: 71.744s\n",
      "| SGD | epoch: 010 | loss: 0.06362 - acc: 0.9801 -- iter: 54976/55000\n",
      "Training Step: 8600  | total loss: \u001b[1m\u001b[32m0.07365\u001b[0m\u001b[0m | time: 73.694s\n",
      "| SGD | epoch: 010 | loss: 0.07365 - acc: 0.9790 | val_loss: 0.04443 - val_acc: 0.9856 -- iter: 55000/55000\n",
      "--\n"
     ]
    }
   ],
   "source": [
    "# 通过定义网络结构训练模型, 并在指定的验证集上验证模型的效果\n",
    "model = tflearn.DNN(net, tensorboard_verbose=0)\n",
    "model.fit(trainX, trainY, n_epoch=10, validation_set=([testX, testY]), show_metric=True)"
   ]
  },
  {
   "cell_type": "markdown",
   "metadata": {},
   "source": [
    "# 参考资料\n",
    "\n",
    "1. github"
   ]
  },
  {
   "cell_type": "code",
   "execution_count": null,
   "metadata": {
    "collapsed": true
   },
   "outputs": [],
   "source": []
  }
 ],
 "metadata": {
  "kernelspec": {
   "display_name": "Python 3",
   "language": "python",
   "name": "python3"
  },
  "language_info": {
   "codemirror_mode": {
    "name": "ipython",
    "version": 3
   },
   "file_extension": ".py",
   "mimetype": "text/x-python",
   "name": "python",
   "nbconvert_exporter": "python",
   "pygments_lexer": "ipython3",
   "version": "3.5.4"
  },
  "toc": {
   "base_numbering": 1,
   "nav_menu": {},
   "number_sections": true,
   "sideBar": true,
   "skip_h1_title": false,
   "title_cell": "Table of Contents",
   "title_sidebar": "Contents",
   "toc_cell": true,
   "toc_position": {},
   "toc_section_display": true,
   "toc_window_display": false
  }
 },
 "nbformat": 4,
 "nbformat_minor": 2
}
