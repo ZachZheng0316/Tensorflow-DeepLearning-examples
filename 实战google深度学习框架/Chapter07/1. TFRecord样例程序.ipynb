{
 "cells": [
  {
   "cell_type": "code",
   "execution_count": 5,
   "metadata": {
    "collapsed": true
   },
   "outputs": [],
   "source": [
    "# 加载库文件\n",
    "import tensorflow as tf\n",
    "from tensorflow.examples.tutorials.mnist import input_data\n",
    "import numpy as np"
   ]
  },
  {
   "cell_type": "markdown",
   "metadata": {},
   "source": [
    "#### 1.将输入转化成TFRecord格式并保存"
   ]
  },
  {
   "cell_type": "code",
   "execution_count": 6,
   "metadata": {},
   "outputs": [
    {
     "name": "stdout",
     "output_type": "stream",
     "text": [
      "Extracting ../../../../TensorFlow/datasets/MNIST_data/train-images-idx3-ubyte.gz\n",
      "Extracting ../../../../TensorFlow/datasets/MNIST_data/train-labels-idx1-ubyte.gz\n",
      "Extracting ../../../../TensorFlow/datasets/MNIST_data/t10k-images-idx3-ubyte.gz\n",
      "Extracting ../../../../TensorFlow/datasets/MNIST_data/t10k-labels-idx1-ubyte.gz\n",
      "TFRecord训练文件已经保存\n",
      "TFRecor测试文件已经保存\n"
     ]
    }
   ],
   "source": [
    "# 生成整数类型的属性值\n",
    "def _int64_feature(value):\n",
    "    # 生成整数类型的属性值\n",
    "    int64_list = tf.train.Int64List(value=[value])\n",
    "    return tf.train.Feature(int64_list=int64_list)\n",
    "\n",
    "# 生成字符类型的属性值\n",
    "def _bytes_feature(value):\n",
    "    # 生成字符类型的属性值\n",
    "    bytes_list = tf.train.BytesList(value=[value])\n",
    "    return tf.train.Feature(bytes_list=bytes_list)\n",
    "\n",
    "# 将数据转化为tf.train.Example格式\n",
    "def _make_example(pixels, label, image):\n",
    "    # 将图像矩阵转化成字符串\n",
    "    image_raw = image.tostring()\n",
    "    # 将一个样例转化为Example Buffer Protocol格式, 并将所有信息写入这个数据结构\n",
    "    example = tf.train.Example(features=tf.train.Features(feature={\n",
    "        'pixels': _int64_feature(pixels),\n",
    "        'label': _int64_feature(np.argmax(label)),\n",
    "        'image_raw':_bytes_feature(image_raw)\n",
    "    }))\n",
    "    \n",
    "    # 返回一个样例数据\n",
    "    return example\n",
    "\n",
    "# 定义数据集路径\n",
    "dataset_path = \"../../../../TensorFlow/datasets/MNIST_data/\"\n",
    "\n",
    "# 读取mnist训练数据\n",
    "mnist = input_data.read_data_sets(dataset_path, dtype=tf.uint8, one_hot=True)\n",
    "images = mnist.train.images\n",
    "labels = mnist.train.labels\n",
    "pixels = images.shape[1] # 像素个数\n",
    "num_examples = mnist.train.num_examples # 训练集的个数\n",
    "\n",
    "# 定义TFRecord文件地址\n",
    "filename = \"../../../../practise/output.tfrecords\"\n",
    "\n",
    "# 输出包含训练数据的TFRecord文件\n",
    "with tf.python_io.TFRecordWriter(filename) as writer:\n",
    "    for index in range(num_examples):\n",
    "        example = _make_example(pixels, labels[index], images[index])\n",
    "        writer.write(example.SerializeToString())\n",
    "print(\"TFRecord训练文件已经保存\")\n",
    "\n",
    "# 读取mnist测试数据\n",
    "images_test = mnist.test.images\n",
    "labels_test = mnist.test.labels\n",
    "pixels_test = images_test.shape[1] # 测试图片像素\n",
    "num_examples_test = mnist.test.num_examples\n",
    "\n",
    "# 定义tfrecord文件路径\n",
    "filename = \"../../../../practise/output_test.tfrecords\"\n",
    "\n",
    "# 输出包含测试数据的TFRecord文件\n",
    "with tf.python_io.TFRecordWriter(filename) as writer:\n",
    "    for index in range(num_examples_test):\n",
    "        example = _make_example(pixels_test, labels_test[index], images_test[index])\n",
    "        writer.write(example.SerializeToString())\n",
    "print(\"TFRecor测试文件已经保存\")"
   ]
  },
  {
   "cell_type": "markdown",
   "metadata": {},
   "source": [
    "#### 2.读取TFRecord文件"
   ]
  },
  {
   "cell_type": "code",
   "execution_count": null,
   "metadata": {},
   "outputs": [],
   "source": [
    "# 定义训练集tfrecord路径\n",
    "train_path = \"../../../../practise/output.tfrecords\"\n",
    "\n",
    "# 创建一个reader来读取TFRecord的样例\n",
    "reader = tf.TFRecordReader() \n",
    "\n",
    "# 创建一个队列来维护输入文件列表\n",
    "filename_queue = tf.train.string_input_producer([train_path])\n",
    "\n",
    "# 从文件中读出一个样例。使用read_up_to函数可以一次性读出多个样例\n",
    "_, serialized_example = reader.read(filename_queue)\n",
    "\n",
    "# 解析读取的样例\n",
    "features = tf.parse_single_example(\n",
    "    serialized_example,\n",
    "    features={\n",
    "        'image_raw':tf.FixedLenFeature([], tf.string),\n",
    "        'pixels':tf.FixedLenFeature([], tf.int64),\n",
    "        'label':tf.FixedLenFeature([], tf.int64)\n",
    "    })\n",
    "\n",
    "#tf.decode_raw可以将字符串解析成图像对应的像素\n",
    "images = tf.decode_raw(features['image_raw'], tf.uint8)\n",
    "labels = tf.cast(features['label'], tf.int32)\n",
    "pixels = tf.cast(features['pixels'], tf.int32)\n",
    "\n",
    "sess = tf.Session()\n",
    "\n",
    "# 启动多线程处理输入数据\n",
    "coord = tf.train.Coordinator()\n",
    "threads = tf.train.start_queue_runners(sess=sess, coord=coord)\n",
    "\n",
    "for i in range(10):\n",
    "    image, label, pixel = sess.run([images, labels, pixels])"
   ]
  },
  {
   "cell_type": "code",
   "execution_count": null,
   "metadata": {
    "collapsed": true
   },
   "outputs": [],
   "source": []
  }
 ],
 "metadata": {
  "kernelspec": {
   "display_name": "Python 3",
   "language": "python",
   "name": "python3"
  },
  "language_info": {
   "codemirror_mode": {
    "name": "ipython",
    "version": 3
   },
   "file_extension": ".py",
   "mimetype": "text/x-python",
   "name": "python",
   "nbconvert_exporter": "python",
   "pygments_lexer": "ipython3",
   "version": "3.5.4"
  }
 },
 "nbformat": 4,
 "nbformat_minor": 2
}
