{
 "cells": [
  {
   "cell_type": "code",
   "execution_count": 1,
   "metadata": {
    "collapsed": true
   },
   "outputs": [],
   "source": [
    "import tensorflow as tf\n",
    "import tensorflow.contrib.slim as slim"
   ]
  },
  {
   "cell_type": "markdown",
   "metadata": {},
   "source": [
    "#### 1.假设我们输入的矩阵为[5, 5, 3]"
   ]
  },
  {
   "cell_type": "code",
   "execution_count": 2,
   "metadata": {},
   "outputs": [],
   "source": [
    "# 构建[1, 5, 5, 3]的矩阵\n",
    "# 第一个参数:表示矩阵的batch数量\n",
    "M = tf.ones(shape=[1, 5, 5, 3])"
   ]
  },
  {
   "cell_type": "markdown",
   "metadata": {},
   "source": [
    "#### 2.进行卷积核池化操作"
   ]
  },
  {
   "cell_type": "code",
   "execution_count": 3,
   "metadata": {},
   "outputs": [
    {
     "name": "stdout",
     "output_type": "stream",
     "text": [
      "conv: \n",
      " [[[[ 0.44145679]\n",
      "   [ 0.        ]\n",
      "   [ 0.        ]]\n",
      "\n",
      "  [[ 0.52086115]\n",
      "   [ 0.        ]\n",
      "   [ 0.        ]]\n",
      "\n",
      "  [[ 0.93379831]\n",
      "   [ 0.        ]\n",
      "   [ 0.        ]]]]\n"
     ]
    }
   ],
   "source": [
    "# slim.conv2d函数有三个参数是必填的\n",
    "# 第一个参数:输入节点矩阵\n",
    "# 第二个参数:当前卷积层过滤器的深度\n",
    "# 第三个参数:过滤器的尺寸\n",
    "# slim.conv2d会自动对结果进行激活等操作\n",
    "conv = slim.conv2d(inputs=M, num_outputs=1, kernel_size=[3, 3], stride=2)\n",
    "\n",
    "config = tf.ConfigProto(allow_soft_placement=True)\n",
    "config.gpu_options.allow_growth = True\n",
    "with tf.Session(config=config) as sess:\n",
    "    # 变量初始化\n",
    "    tf.global_variables_initializer().run()\n",
    "    \n",
    "    # 打印结果数据\n",
    "    print(\"conv: \\n\", sess.run(conv))"
   ]
  },
  {
   "cell_type": "markdown",
   "metadata": {},
   "source": [
    "#### 3.进行池化操作"
   ]
  },
  {
   "cell_type": "code",
   "execution_count": 5,
   "metadata": {},
   "outputs": [
    {
     "name": "stdout",
     "output_type": "stream",
     "text": [
      "max_pool: \n",
      " [[[[ 1.  1.  1.]\n",
      "   [ 1.  1.  1.]\n",
      "   [ 1.  1.  1.]]\n",
      "\n",
      "  [[ 1.  1.  1.]\n",
      "   [ 1.  1.  1.]\n",
      "   [ 1.  1.  1.]]\n",
      "\n",
      "  [[ 1.  1.  1.]\n",
      "   [ 1.  1.  1.]\n",
      "   [ 1.  1.  1.]]]]\n",
      "avg_pool: \n",
      " [[[[ 1.  1.  1.]\n",
      "   [ 1.  1.  1.]\n",
      "   [ 1.  1.  1.]]\n",
      "\n",
      "  [[ 1.  1.  1.]\n",
      "   [ 1.  1.  1.]\n",
      "   [ 1.  1.  1.]]\n",
      "\n",
      "  [[ 1.  1.  1.]\n",
      "   [ 1.  1.  1.]\n",
      "   [ 1.  1.  1.]]]]\n"
     ]
    }
   ],
   "source": [
    "max_pool = slim.max_pool2d(inputs=M, kernel_size=[2, 2], stride=2, padding='SAME')\n",
    "avg_pool = slim.avg_pool2d(inputs=M, kernel_size=[2, 2], stride=2, padding='SAME')\n",
    "\n",
    "config = tf.ConfigProto(allow_soft_placement=True)\n",
    "config.gpu_options.allow_growth = True\n",
    "with tf.Session(config=config) as sess:\n",
    "    # 变量初始化\n",
    "    tf.global_variables_initializer().run()\n",
    "    \n",
    "    # 打印结果数据\n",
    "    print(\"max_pool: \\n\", sess.run(max_pool))\n",
    "    print(\"avg_pool: \\n\", sess.run(avg_pool))"
   ]
  },
  {
   "cell_type": "code",
   "execution_count": null,
   "metadata": {
    "collapsed": true
   },
   "outputs": [],
   "source": []
  }
 ],
 "metadata": {
  "kernelspec": {
   "display_name": "Python 3",
   "language": "python",
   "name": "python3"
  },
  "language_info": {
   "codemirror_mode": {
    "name": "ipython",
    "version": 3
   },
   "file_extension": ".py",
   "mimetype": "text/x-python",
   "name": "python",
   "nbconvert_exporter": "python",
   "pygments_lexer": "ipython3",
   "version": "3.5.4"
  }
 },
 "nbformat": 4,
 "nbformat_minor": 2
}
