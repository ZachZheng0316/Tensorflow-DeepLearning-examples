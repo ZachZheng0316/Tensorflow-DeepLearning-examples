{
 "cells": [
  {
   "cell_type": "code",
   "execution_count": 2,
   "metadata": {
    "collapsed": true
   },
   "outputs": [],
   "source": [
    "import tensorflow as tf\n",
    "import numpy as np"
   ]
  },
  {
   "cell_type": "markdown",
   "metadata": {},
   "source": [
    "#### 构建一个假设矩阵"
   ]
  },
  {
   "cell_type": "code",
   "execution_count": 11,
   "metadata": {},
   "outputs": [
    {
     "name": "stdout",
     "output_type": "stream",
     "text": [
      "[[  1.   2.   3.   4.   5.]\n",
      " [  6.   7.   8.   9.  10.]\n",
      " [ 11.  12.  13.  14.  15.]\n",
      " [ 16.  17.  18.  19.  20.]]\n",
      "[  1.   2.   3.   4.   5.   6.   7.   8.   9.  10.  11.  12.  13.  14.  15.\n",
      "  16.  17.  18.  19.  20.]\n"
     ]
    }
   ],
   "source": [
    "# 构建一个假设的矩阵\n",
    "data = np.linspace(start=1, stop=20,num=20).reshape((4, 5))\n",
    "print(data)"
   ]
  },
  {
   "cell_type": "markdown",
   "metadata": {},
   "source": [
    "#### 以普通的方式进行保存数据"
   ]
  },
  {
   "cell_type": "code",
   "execution_count": null,
   "metadata": {},
   "outputs": [],
   "source": [
    "# 把数据转化为字符串，并','相连\n",
    "data_str = ','.join(str(x) for x in data.flatten())\n",
    "    \n",
    "# 把数据存入文本中\n",
    "with open(\"data_str.txt\", \"w\" ) as data_file:\n",
    "    data_file.write(data_str)"
   ]
  },
  {
   "cell_type": "code",
   "execution_count": null,
   "metadata": {},
   "outputs": [],
   "source": [
    "# 读取保存的数据\n",
    "with open(\"data_str.txt\", \"r\") as data_file:\n",
    "    data_str = data_file.read()\n",
    "data_lst = [float(x) for x in data_str.split(',')]\n",
    "\n",
    "# 打印读取的数据\n",
    "print(\"data_lst: \\n\", np.array(data_lst).reshape([4, 5]))"
   ]
  },
  {
   "cell_type": "markdown",
   "metadata": {},
   "source": [
    "#### 使用np.save()函数保存数据"
   ]
  },
  {
   "cell_type": "code",
   "execution_count": null,
   "metadata": {},
   "outputs": [],
   "source": [
    "# 以np.save的方式保存\n",
    "np.save(\"data_str.npy\", data)"
   ]
  },
  {
   "cell_type": "code",
   "execution_count": null,
   "metadata": {},
   "outputs": [],
   "source": [
    "# 读取np.save保存的数据\n",
    "data_lst = np.load(\"data_str.npy\")\n",
    "print(\"data_lst: \\n\", data_lst)"
   ]
  },
  {
   "cell_type": "markdown",
   "metadata": {},
   "source": [
    "#### 以Example Protocol Buffer格式保存数据"
   ]
  },
  {
   "cell_type": "code",
   "execution_count": 12,
   "metadata": {},
   "outputs": [],
   "source": [
    "# 以Example Protocol buffer的方式保存数据\n",
    "\n",
    "# 创建一个writer来写tfrecord文件\n",
    "writer = tf.python_io.TFRecordWriter(\"data.tfrecords\")\n",
    "\n",
    "data = data.reshape(20).tolist()\n",
    "\n",
    "with tf.Session() as sess:\n",
    "    # 变量初始化\n",
    "    tf.global_variables_initializer().run()\n",
    "\n",
    "    # 生成属性值Feature\n",
    "    data_float = tf.train.Feature(float_list=tf.train.FloatList(value=data)) # value输入的是列表\n",
    "    feature = {'data': data_float}\n",
    "\n",
    "    # 生成属性Features\n",
    "    features = tf.train.Features(feature=feature)\n",
    "\n",
    "    # 将一个样例转化为Example Protocol Buffer，并将所有信息写入这个数据结构\n",
    "    example = tf.train.Example(features=features)\n",
    "\n",
    "    # 序列化\n",
    "    serialized = example.SerializeToString()\n",
    "    \n",
    "    # 将一个样例写入TFRecord文件中\n",
    "    writer.write(serialized)\n",
    "\n",
    "# 关闭writer\n",
    "writer.close()"
   ]
  },
  {
   "cell_type": "code",
   "execution_count": 14,
   "metadata": {},
   "outputs": [
    {
     "name": "stdout",
     "output_type": "stream",
     "text": [
      "data: \n",
      " Tensor(\"Reshape:0\", shape=(4, 5), dtype=float32)\n",
      "INFO:tensorflow:Error reported to Coordinator: <class 'tensorflow.python.framework.errors_impl.CancelledError'>, Session has been closed.\n"
     ]
    }
   ],
   "source": [
    "# 读取Example Protocol buffer中的数据\n",
    "\n",
    "# 创建一个reader来读取TFRecord文件中的样例\n",
    "reader = tf.TFRecordReader()\n",
    "\n",
    "# 创建一个队列来维护输入文件列表\n",
    "filename_queue = tf.train.string_input_producer([\"data.tfrecords\"])\n",
    "\n",
    "# 从文件中读出一个样例\n",
    "_, serialized_example = reader.read(filename_queue)\n",
    "\n",
    "# 解析读入的一个样例\n",
    "data_float = tf.FixedLenFeature([20], tf.float32) # 1-D长度为20\n",
    "features = {\"data\": data_float}\n",
    "features = tf.parse_single_example(\n",
    "        serialized_example,\n",
    "        features = features)\n",
    "\n",
    "data = features['data'] # 提取数据\n",
    "data = tf.reshape(data, shape=[4, 5]) # 调整数据尺寸\n",
    "\n",
    "# 定义多线程\n",
    "coord = tf.train.Coordinator()\n",
    "\n",
    "with tf.Session() as sess:\n",
    "    # 启动多线程\n",
    "    threads = tf.train.start_queue_runners(sess=sess, coord=coord)\n",
    "    \n",
    "    # 获取数据\n",
    "    data_real = sess.run(data)\n",
    "    print(\"data: \\n\", data_real)"
   ]
  },
  {
   "cell_type": "code",
   "execution_count": null,
   "metadata": {
    "collapsed": true
   },
   "outputs": [],
   "source": []
  }
 ],
 "metadata": {
  "kernelspec": {
   "display_name": "Python 3",
   "language": "python",
   "name": "python3"
  },
  "language_info": {
   "codemirror_mode": {
    "name": "ipython",
    "version": 3
   },
   "file_extension": ".py",
   "mimetype": "text/x-python",
   "name": "python",
   "nbconvert_exporter": "python",
   "pygments_lexer": "ipython3",
   "version": "3.5.4"
  }
 },
 "nbformat": 4,
 "nbformat_minor": 2
}
