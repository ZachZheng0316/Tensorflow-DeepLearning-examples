{
 "cells": [
  {
   "cell_type": "markdown",
   "metadata": {},
   "source": [
    "#### 循环神经网络的前向传播"
   ]
  },
  {
   "cell_type": "code",
   "execution_count": 1,
   "metadata": {
    "collapsed": true
   },
   "outputs": [],
   "source": [
    "import numpy as np"
   ]
  },
  {
   "cell_type": "code",
   "execution_count": 2,
   "metadata": {
    "collapsed": true
   },
   "outputs": [],
   "source": [
    "#### 1.定义RNN的参数\n",
    "\n",
    "X = [1, 2, 3, 4, 5] # 定义输入序列\n",
    "state = [0.0, 0.0]  # 初始状态值\n",
    "w_cell_state = np.asarray([[0.1, 0.2], [0.3, 0.4]]) # 状态权重2x2\n",
    "w_cell_input = np.asarray([0.5, 0.6]) # 输入权重\n",
    "b_cell = np.asarray([0.1, -0.1]) # 激活值的偏置项\n",
    "\n",
    "# 定义用于输出的全连接层:2x1\n",
    "w_output = np.asanyarray([[1.0], [2.0]]) # 输出的权重\n",
    "b_output = 0.1 # 输出值的权重"
   ]
  },
  {
   "cell_type": "markdown",
   "metadata": {},
   "source": [
    "#### 2.执行前向传播过程"
   ]
  },
  {
   "cell_type": "code",
   "execution_count": 5,
   "metadata": {},
   "outputs": [
    {
     "name": "stdout",
     "output_type": "stream",
     "text": [
      "befor activate:  [ 0.6  0.5]\n",
      "state:  [ 0.53704957  0.46211716]\n",
      "output:  [ 1.56128388]\n",
      "\n",
      "\n",
      "befor activate:  [ 1.2923401   1.39225678]\n",
      "state:  [ 0.85973818  0.88366641]\n",
      "output:  [ 2.72707101]\n",
      "\n",
      "\n",
      "befor activate:  [ 1.95107374  2.2254142 ]\n",
      "state:  [ 0.96040283  0.97693139]\n",
      "output:  [ 3.01426561]\n",
      "\n",
      "\n",
      "befor activate:  [ 2.4891197   2.88285312]\n",
      "state:  [ 0.98632184  0.99375321]\n",
      "output:  [ 3.07382826]\n",
      "\n",
      "\n",
      "befor activate:  [ 2.99675815  3.49476565]\n",
      "state:  [ 0.99502267  0.99815874]\n",
      "output:  [ 3.09134015]\n",
      "\n",
      "\n"
     ]
    }
   ],
   "source": [
    "# 按照时间顺序执行循环神经网络的前向传播过程\n",
    "for i in range(len(X)):\n",
    "    # 计算循环体找那个全连接层神经网络\n",
    "    before_activate = np.dot(state, w_cell_state) + X[i] * w_cell_input + b_cell\n",
    "    # 跟新输入状态值\n",
    "    state = np.tanh(before_activate)\n",
    "    \n",
    "    # 根据当前时刻状态计算最终输出\n",
    "    final_output = np.dot(state, w_output) + b_output\n",
    "    \n",
    "    # 打印每一个时刻的信息\n",
    "    print(\"befor activate: \", before_activate)\n",
    "    print(\"state: \", state)\n",
    "    print(\"output: \", final_output)\n",
    "    print(\"\\n\")"
   ]
  },
  {
   "cell_type": "code",
   "execution_count": null,
   "metadata": {
    "collapsed": true
   },
   "outputs": [],
   "source": []
  }
 ],
 "metadata": {
  "kernelspec": {
   "display_name": "Python 3",
   "language": "python",
   "name": "python3"
  },
  "language_info": {
   "codemirror_mode": {
    "name": "ipython",
    "version": 3
   },
   "file_extension": ".py",
   "mimetype": "text/x-python",
   "name": "python",
   "nbconvert_exporter": "python",
   "pygments_lexer": "ipython3",
   "version": "3.5.4"
  }
 },
 "nbformat": 4,
 "nbformat_minor": 2
}
