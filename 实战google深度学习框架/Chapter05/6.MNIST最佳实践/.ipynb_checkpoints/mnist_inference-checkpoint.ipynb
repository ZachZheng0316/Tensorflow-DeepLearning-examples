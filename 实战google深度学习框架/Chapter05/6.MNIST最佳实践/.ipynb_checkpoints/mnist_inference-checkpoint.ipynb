{
 "cells": [
  {
   "cell_type": "code",
   "execution_count": 5,
   "metadata": {
    "collapsed": true
   },
   "outputs": [],
   "source": [
    "import tensorflow as tf"
   ]
  },
  {
   "cell_type": "markdown",
   "metadata": {},
   "source": [
    "#### 1.定义神经网络结构相关参数"
   ]
  },
  {
   "cell_type": "code",
   "execution_count": 2,
   "metadata": {
    "collapsed": true
   },
   "outputs": [],
   "source": [
    "INPUT_NODE = 784\n",
    "OUTPUT_NODE = 10\n",
    "LAYER1_NODE = 500"
   ]
  },
  {
   "cell_type": "markdown",
   "metadata": {},
   "source": [
    "#### 2.通过tf.get_variable函数来获取变量\n",
    "\n",
    "在训练神经网络时会创建这些变量；在测试时会通过保存的模型加载这些变量的取值。而且更加方便的是，因为可以在变量加载时将滑动平均变量重命名，所以可以直接通过同样的名字在训练时使用变量本身，而在测试时使用变量的滑动平均值。在这个函数中也会将变量的正则化损失加入损失集合"
   ]
  },
  {
   "cell_type": "code",
   "execution_count": 3,
   "metadata": {
    "collapsed": true
   },
   "outputs": [],
   "source": [
    "\n",
    "def get_weight_variable(shape, regularizer):\n",
    "    weights = tf.get_variable(\n",
    "        \"weights\", shape,\n",
    "        initializer=tf.truncated_normal_initializer(stddev=0.1))\n",
    "    \n",
    "    # 当给出正则化对象时，将当前变量的正则化损失加入名字为losses的集合。\n",
    "    # 在这里使用了add_to_collection函数将一个张量加入一个集合，\n",
    "    # 而这个集合的名称为losses。这是一个自定义集合，不在TensorFlow自动管理的集合列表中\n",
    "    if regularizer != None:\n",
    "        tf.add_to_collection('losses', regularizer(weights))\n",
    "        \n",
    "    return weights"
   ]
  },
  {
   "cell_type": "markdown",
   "metadata": {},
   "source": [
    "#### 3.定义神经网络的前向传播过程"
   ]
  },
  {
   "cell_type": "code",
   "execution_count": 4,
   "metadata": {
    "collapsed": true
   },
   "outputs": [],
   "source": [
    "def inference(input_tensor, regularizer):\n",
    "    # 声明第一层神经网络的变量并完成前向传播过程\n",
    "    with tf.variable_scope(\"layer1\"):\n",
    "        # 这里通过tf.get_variable或tf.Variable没有本质区别，因为在训练或是测试中\n",
    "        # 没有在同一个程序中多次调用这个函数。如果在同一个程序中多次调用，在第一次\n",
    "        # 调用之后需要将reuse参数设置为True\n",
    "        weights = get_weight_variable([INPUT_NODE, LAYER1_NODE], regularizer)\n",
    "        biases = tf.get_variable(\n",
    "            \"biases\", [LAYER1_NODE],\n",
    "            initializer=tf.constant_initializer(0.1))\n",
    "        layer1 = tf.nn.relu(tf.matmul(input_tensor, weights) + biases)\n",
    "        \n",
    "    # 声明第二层神经网络的变量并完成前向传播过程\n",
    "    with tf.variable_scope(\"layer2\"):\n",
    "        weights = get_weight_variable([LAYER1_NODE, OUTPUT_NODE], regularizer)\n",
    "        biases = tf.get_variable(\n",
    "            \"biases\", [OUTPUT_NODE],\n",
    "            initializer=tf.constant_initializer(0.1))\n",
    "        layer2 = tf.matmul(layer1, weights) + biases\n",
    "        \n",
    "    # 返回最后前向传播结果\n",
    "    return layer2"
   ]
  },
  {
   "cell_type": "code",
   "execution_count": null,
   "metadata": {
    "collapsed": true
   },
   "outputs": [],
   "source": []
  }
 ],
 "metadata": {
  "kernelspec": {
   "display_name": "Python 3",
   "language": "python",
   "name": "python3"
  },
  "language_info": {
   "codemirror_mode": {
    "name": "ipython",
    "version": 3
   },
   "file_extension": ".py",
   "mimetype": "text/x-python",
   "name": "python",
   "nbconvert_exporter": "python",
   "pygments_lexer": "ipython3",
   "version": "3.5.4"
  }
 },
 "nbformat": 4,
 "nbformat_minor": 2
}
