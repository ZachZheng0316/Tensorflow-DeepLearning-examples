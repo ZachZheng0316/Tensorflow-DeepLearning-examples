{
 "cells": [
  {
   "cell_type": "code",
   "execution_count": null,
   "metadata": {
    "collapsed": true
   },
   "outputs": [],
   "source": [
    "# 把模型保存为pb格式\n",
    "# 假设有个2x3的单层网络,需要保存训练后的权重参数weight,bias\n",
    "import tensorflow as tf\n",
    "\n",
    "# 定义权重weigeht和bias\n",
    "weight = tf.Variable(tf.random_normal(shape=[2, 3], stddev=0.1), name=\"weight\")\n",
    "bias = tf.Variable(tf.constant(0.1, shape=[3]), name=\"bias\")\n",
    "\n",
    "# "
   ]
  },
  {
   "cell_type": "code",
   "execution_count": null,
   "metadata": {
    "collapsed": true
   },
   "outputs": [],
   "source": [
    "# 加载pb格式的模型"
   ]
  }
 ],
 "metadata": {
  "kernelspec": {
   "display_name": "Python 3",
   "language": "python",
   "name": "python3"
  },
  "language_info": {
   "codemirror_mode": {
    "name": "ipython",
    "version": 3
   },
   "file_extension": ".py",
   "mimetype": "text/x-python",
   "name": "python",
   "nbconvert_exporter": "python",
   "pygments_lexer": "ipython3",
   "version": "3.5.4"
  }
 },
 "nbformat": 4,
 "nbformat_minor": 2
}
