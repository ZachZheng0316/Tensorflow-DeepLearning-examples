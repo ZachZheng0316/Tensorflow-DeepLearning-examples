{
 "cells": [
  {
   "cell_type": "code",
   "execution_count": 6,
   "metadata": {
    "collapsed": true
   },
   "outputs": [],
   "source": [
    "import tensorflow as tf\n",
    "from tensorflow.examples.tutorials.mnist import input_data"
   ]
  },
  {
   "cell_type": "markdown",
   "metadata": {},
   "source": [
    "#### 1.设置输入和输出节点的个数，配置神经网络的参数"
   ]
  },
  {
   "cell_type": "code",
   "execution_count": 48,
   "metadata": {
    "collapsed": true
   },
   "outputs": [],
   "source": [
    "INPUT_NODE = 784    # 输入节点\n",
    "OUTPUT_NODE = 10    # 输出节点\n",
    "LAYERS_NODE = 500   # 隐含层节点\n",
    "\n",
    "BATCH_SIZE = 32    # 每次batch打包的样本个数\n",
    "\n",
    "# 模型相关的参数\n",
    "LEARNING_RATE_BASE = 0.1    # 基础学习率\n",
    "LEARNING_RATE_DECAY = 0.99  # 学习率衰减率\n",
    "REGULARAZTION_RATE = 0.0001 # 正则化率\n",
    "TRAINING_STEPS = 5000       # 迭代的步数\n",
    "MOVING_AVERGE_DECAY = 0.99  # 动量比例"
   ]
  },
  {
   "cell_type": "markdown",
   "metadata": {},
   "source": [
    "#### 2.定义辅助函数来计算前向穿鼻结果，使用ReLU做为激活函数"
   ]
  },
  {
   "cell_type": "code",
   "execution_count": 49,
   "metadata": {
    "collapsed": true
   },
   "outputs": [],
   "source": [
    "def inferece(input_tensor, avg_class, weights1, biases1, weights2, biases2):\n",
    "    # 不使用滑动平均类\n",
    "    if avg_class == None:\n",
    "        before_active1 = tf.matmul(input_tensor, weights1) + biases1\n",
    "        layer1 = tf.nn.leaky_relu(before_active1)\n",
    "        before_active2 = tf.matmul(layer1, weights2) + biases2\n",
    "        return before_active2\n",
    "        # layer1 = tf.nn.relu(tf.matmul(input_tensor, weights1) + biases1)\n",
    "        # return tf.matmul(layer1, weights2) + biases2\n",
    "    else:\n",
    "        # 使用滑动平均类\n",
    "        moving_weights1 = avg_class.average(weights1)\n",
    "        moving_biases1 = avg_class.average(biases1)\n",
    "        before_active1 = tf.matmul(input_tensor, moving_weights1) + moving_biases1\n",
    "        layer1 = tf.nn.leaky_relu(before_active1)\n",
    "        moving_weights2 = avg_class.average(weights2)\n",
    "        moving_biases2 = avg_class.average(biases2)\n",
    "        before_active2 = tf.matmul(layer1, moving_weights2) + moving_biases2\n",
    "        return before_active2\n",
    "        # layer1 = tf.nn.relu(tf.matmul(input_tensor, avg_class.average(weights1)) + avg_class.average(biases1))\n",
    "        # return tf.matmul(layer1, avg_class.average(weights2)) + avg_class.average(biases2)"
   ]
  },
  {
   "cell_type": "markdown",
   "metadata": {},
   "source": [
    "#### 3.定义训练过程"
   ]
  },
  {
   "cell_type": "code",
   "execution_count": 50,
   "metadata": {
    "collapsed": true
   },
   "outputs": [],
   "source": [
    "def train(mnist):\n",
    "    x = tf.placeholder(tf.float32, [None, INPUT_NODE], name=\"x-input\")\n",
    "    y_ = tf.placeholder(tf.float32, [None, OUTPUT_NODE], name=\"y-input\")\n",
    "    \n",
    "    # 生成隐含层的擦数\n",
    "    weights1 = tf.Variable(tf.truncated_normal([INPUT_NODE, LAYERS_NODE], stddev=1))\n",
    "    biases1 =  tf.Variable(tf.constant(0.1, shape=[LAYERS_NODE]))\n",
    "    # 生成输出层的参数\n",
    "    weights2 = tf.Variable(tf.truncated_normal([LAYERS_NODE, OUTPUT_NODE], stddev=1))\n",
    "    biases2 = tf.Variable(tf.constant(0.1, shape=[OUTPUT_NODE]))\n",
    "    \n",
    "    # 计算不含滑动平均类的前向传播结果\n",
    "    y = inferece(x, None, weights1, biases1, weights2, biases2)\n",
    "    \n",
    "    # 定义的训练轮数及相关的滑动平均类\n",
    "    global_step = tf.Variable(0, trainable=False)\n",
    "    variable_averages = tf.train.ExponentialMovingAverage(MOVING_AVERGE_DECAY, global_step)\n",
    "    variable_averages_op = variable_averages.apply(tf.trainable_variables())\n",
    "    average_y = inferece(x, variable_averages, weights1, biases1, weights2, biases2)\n",
    "    \n",
    "    # 计算交叉熵\n",
    "    predict_label = tf.argmax(y_, 1) # 预测的标签\n",
    "    cross_entropy = tf.nn.sparse_softmax_cross_entropy_with_logits(logits=y, \n",
    "                                                    labels=predict_label)\n",
    "    cross_entropy_mean = tf.reduce_mean(cross_entropy) # 计算平均值\n",
    "    \n",
    "    # 损失函数\n",
    "    regularizer = tf.contrib.layers.l2_regularizer(REGULARAZTION_RATE)\n",
    "    regulariztion = regularizer(weights1) + regularizer(weights2)\n",
    "    loss = cross_entropy_mean + regulariztion # 计算损失值\n",
    "    \n",
    "    # 设置指数衰减的学习率\n",
    "    learning_rate = tf.train.exponential_decay(\n",
    "        LEARNING_RATE_BASE,\n",
    "        global_step,\n",
    "        mnist.train.num_examples / BATCH_SIZE,\n",
    "        LEARNING_RATE_DECAY,\n",
    "        staircase=True)\n",
    "    \n",
    "    # 优化损失函数\n",
    "    train_step = tf.train.GradientDescentOptimizer(learning_rate).minimize(loss, global_step)\n",
    "    \n",
    "    # 反向传播更新参数和更新每一个参数的滑动平均值\n",
    "    with tf.control_dependencies([train_step, variable_averages_op]):\n",
    "        train_op = tf.no_op(name=\"train\")\n",
    "        \n",
    "    # 计算正确率\n",
    "    correct_prediction = tf.equal(tf.argmax(average_y, 1), tf.argmax(y_, 1))\n",
    "    accuracy = tf.reduce_mean(tf.cast(correct_prediction, tf.float32))\n",
    "    \n",
    "    # 初始化会话，并开始训练过程\n",
    "    config = tf.ConfigProto(allow_soft_placement=True)\n",
    "    config.gpu_options.allow_growth = True\n",
    "    with tf.Session(config=config) as sess:\n",
    "        # 变量初始化\n",
    "        tf.global_variables_initializer().run()\n",
    "        \n",
    "        # 获取交叉验证集和测试集数据\n",
    "        validate_feed = {x: mnist.validation.images, y_:mnist.validation.labels}\n",
    "        test_feed = {x: mnist.test.images, y_:mnist.test.labels}\n",
    "        \n",
    "        # 循环的训练神经网络\n",
    "        for i in range(TRAINING_STEPS):\n",
    "            if i % 1000 == 0:\n",
    "                validate_acc = sess.run(accuracy, feed_dict=validate_feed)\n",
    "                print(\"After %d training step(s), validation accuracy using average model is %g\" % (i, validate_acc))\n",
    "                \n",
    "            xs, ys = mnist.train.next_batch(BATCH_SIZE)\n",
    "            sess.run(train_op, feed_dict={x: xs, y_:ys})\n",
    "            \n",
    "        test_acc = sess.run(accuracy, feed_dict=test_feed)\n",
    "        print(\"After %d training step(s), test accuracy using average model is %g\" % (TRAINING_STEPS, test_acc))\n",
    "        "
   ]
  },
  {
   "cell_type": "markdown",
   "metadata": {},
   "source": [
    "#### 4.主程序入口，这里设定模型次数为50000次"
   ]
  },
  {
   "cell_type": "code",
   "execution_count": 51,
   "metadata": {},
   "outputs": [
    {
     "name": "stdout",
     "output_type": "stream",
     "text": [
      "Extracting ../../../../datasets/MNIST_data/train-images-idx3-ubyte.gz\n",
      "Extracting ../../../../datasets/MNIST_data/train-labels-idx1-ubyte.gz\n",
      "Extracting ../../../../datasets/MNIST_data/t10k-images-idx3-ubyte.gz\n",
      "Extracting ../../../../datasets/MNIST_data/t10k-labels-idx1-ubyte.gz\n",
      "After 0 training step(s), validation accuracy using average model is 0.0872\n",
      "After 1000 training step(s), validation accuracy using average model is 0.9306\n",
      "After 2000 training step(s), validation accuracy using average model is 0.9458\n",
      "After 3000 training step(s), validation accuracy using average model is 0.9502\n",
      "After 4000 training step(s), validation accuracy using average model is 0.951\n",
      "After 5000 training step(s), test accuracy using average model is 0.9549\n"
     ]
    }
   ],
   "source": [
    "tf.reset_default_graph()\n",
    "\n",
    "def main(argv=None):\n",
    "    mnist = input_data.read_data_sets(\"../../../../datasets/MNIST_data/\", one_hot=True)\n",
    "    train(mnist)\n",
    "    \n",
    "if __name__=='__main__':\n",
    "    main()"
   ]
  },
  {
   "cell_type": "code",
   "execution_count": null,
   "metadata": {
    "collapsed": true
   },
   "outputs": [],
   "source": []
  }
 ],
 "metadata": {
  "kernelspec": {
   "display_name": "Python 3",
   "language": "python",
   "name": "python3"
  },
  "language_info": {
   "codemirror_mode": {
    "name": "ipython",
    "version": 3
   },
   "file_extension": ".py",
   "mimetype": "text/x-python",
   "name": "python",
   "nbconvert_exporter": "python",
   "pygments_lexer": "ipython3",
   "version": "3.5.4"
  }
 },
 "nbformat": 4,
 "nbformat_minor": 2
}
