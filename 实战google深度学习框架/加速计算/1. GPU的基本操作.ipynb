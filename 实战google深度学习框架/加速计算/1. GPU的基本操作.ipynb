{
 "cells": [
  {
   "cell_type": "code",
   "execution_count": 1,
   "metadata": {
    "collapsed": true
   },
   "outputs": [],
   "source": [
    "# 导入库文件\n",
    "import tensorflow as tf"
   ]
  },
  {
   "cell_type": "code",
   "execution_count": 2,
   "metadata": {},
   "outputs": [
    {
     "name": "stdout",
     "output_type": "stream",
     "text": [
      "[[ 2.  4.]\n",
      " [ 6.  8.]]\n"
     ]
    }
   ],
   "source": [
    "# 不特意指定设备，构建加法运算\n",
    "a = tf.constant([1.0, 2.0, 3.0, 4.0], shape=[2, 2], name='a')\n",
    "b = tf.constant([1.0, 2.0, 3.0, 4.0], shape=[2, 2], name='b')\n",
    "c = tf.add(a, b, name='add')\n",
    "\n",
    "# 通过log_device_placement参数来记录运行每一个运算设备\n",
    "config = tf.ConfigProto(log_device_placement=True)\n",
    "sess = tf.Session(config=config)\n",
    "\n",
    "print(sess.run(c))"
   ]
  },
  {
   "cell_type": "code",
   "execution_count": 5,
   "metadata": {},
   "outputs": [
    {
     "name": "stdout",
     "output_type": "stream",
     "text": [
      "[ 2.  4.  6.  8.]\n"
     ]
    }
   ],
   "source": [
    "# 清空计算图\n",
    "tf.reset_default_graph()\n",
    "\n",
    "# 通过tf.device将运算指定到特定的设备上\n",
    "with tf.device(\"/cpu:0\"):\n",
    "    a = tf.constant([1.0, 2.0, 3.0, 4.0], shape=[4], name='a')\n",
    "    b = tf.constant([1.0, 2.0, 3.0, 4.0], shape=[4], name='b')\n",
    "with tf.device(\"/gpu:0\"):\n",
    "    c = tf.add(a, b, name=\"add\")\n",
    "    \n",
    "# 通过log_device_placement参数来记录每一次运算的设备\n",
    "config = tf.ConfigProto(log_device_placement=True)\n",
    "sess = tf.Session(config=config)\n",
    "\n",
    "# 输出结果c\n",
    "print(sess.run(c))"
   ]
  },
  {
   "cell_type": "code",
   "execution_count": 7,
   "metadata": {
    "collapsed": true
   },
   "outputs": [],
   "source": [
    "# 情况默认计算图\n",
    "tf.reset_default_graph()\n",
    "\n",
    "# 在cpu上建立一个整型变量\n",
    "a_cpu = tf.Variable(0, name='a_cpu')\n",
    "\n",
    "# 在gpu上建立一个整型变量\n",
    "with tf.device(\"/gpu:0\"):\n",
    "    # 在gpu上无法建立整型变量\n",
    "    a_gpu = tf.Variable(0, name='a_gpu')\n",
    "    \n",
    "# 通过allow_soft_placement参数自动将无法放在GPU上操作的放回cpu上\n",
    "# 通过log_device_placement参数来记录每一次运算的设备\n",
    "config = tf.ConfigProto(allow_soft_placement = True, log_device_placement=True)\n",
    "sess = tf.Session(config=config)\n",
    "\n",
    "# 变量初始化\n",
    "sess.run(tf.global_variables_initializer())"
   ]
  },
  {
   "cell_type": "code",
   "execution_count": null,
   "metadata": {
    "collapsed": true
   },
   "outputs": [],
   "source": []
  }
 ],
 "metadata": {
  "kernelspec": {
   "display_name": "Python 3",
   "language": "python",
   "name": "python3"
  },
  "language_info": {
   "codemirror_mode": {
    "name": "ipython",
    "version": 3
   },
   "file_extension": ".py",
   "mimetype": "text/x-python",
   "name": "python",
   "nbconvert_exporter": "python",
   "pygments_lexer": "ipython3",
   "version": "3.5.4"
  }
 },
 "nbformat": 4,
 "nbformat_minor": 2
}
