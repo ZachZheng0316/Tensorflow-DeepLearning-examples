{
 "cells": [
  {
   "cell_type": "markdown",
   "metadata": {},
   "source": [
    "#### 为了方便加载时重命名滑动平均值，tf.train.ExponentialMovingAverage类提供了variable_to_restore函数来生成tf.train.Saver类所需要的变量重命名字典"
   ]
  },
  {
   "cell_type": "code",
   "execution_count": null,
   "metadata": {
    "collapsed": true
   },
   "outputs": [],
   "source": [
    "import tensorflow as tf"
   ]
  },
  {
   "cell_type": "code",
   "execution_count": null,
   "metadata": {},
   "outputs": [],
   "source": [
    "tf.reset_default_graph()\n",
    "\n",
    "v = tf.Variable(0, dtype=tf.float32, name=\"v\")\n",
    "\n",
    "# 建立滑动平均类对象:为所有变量创建一个影子变量\n",
    "ema = tf.train.ExponentialMovingAverage(0.99)\n",
    "\n",
    "# 通过使用variable_to_restore函数可以直接生成字典\n",
    "# {\"v/ExponentialMovingAverage\":<tensorflow.python.ops.variables.Variable\n",
    "# object at xxxxxxx>}\n",
    "# 其中后面的Variable类就代表了变量v\n",
    "print(ema.variables_to_restore())\n",
    "\n",
    "saver_2 = tf.train.Saver({\"v/ExponentialMovingAverage\":v})\n",
    "with tf.Session() as sess:\n",
    "    saver_2.restore(sess, \"Saved_model/model_movingAverage.ckpt\")\n",
    "    print(sess.run(v))\n",
    "\n",
    "saver = tf.train.Saver(ema.variables_to_restore())\n",
    "with tf.Session() as sess:\n",
    "    saver.restore(sess, \"Saved_model/model_movingAverage.ckpt\")\n",
    "    print(sess.run(v))"
   ]
  },
  {
   "cell_type": "code",
   "execution_count": null,
   "metadata": {
    "collapsed": true
   },
   "outputs": [],
   "source": []
  }
 ],
 "metadata": {
  "kernelspec": {
   "display_name": "Python 3",
   "language": "python",
   "name": "python3"
  },
  "language_info": {
   "codemirror_mode": {
    "name": "ipython",
    "version": 3
   },
   "file_extension": ".py",
   "mimetype": "text/x-python",
   "name": "python",
   "nbconvert_exporter": "python",
   "pygments_lexer": "ipython3",
   "version": "3.5.4"
  }
 },
 "nbformat": 4,
 "nbformat_minor": 2
}
