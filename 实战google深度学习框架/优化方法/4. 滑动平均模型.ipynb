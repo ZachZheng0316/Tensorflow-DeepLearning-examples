{
 "cells": [
  {
   "cell_type": "code",
   "execution_count": 1,
   "metadata": {
    "collapsed": true
   },
   "outputs": [],
   "source": [
    "import tensorflow as tf"
   ]
  },
  {
   "cell_type": "markdown",
   "metadata": {},
   "source": [
    "#### 1.定义变量以及滑动平均类"
   ]
  },
  {
   "cell_type": "code",
   "execution_count": 2,
   "metadata": {
    "collapsed": true
   },
   "outputs": [],
   "source": [
    "v1 = tf.Variable(0, dtype=tf.float32)\n",
    "step = tf.Variable(0, trainable=False)\n",
    "\n",
    "# 定义一个滑动平均类class。初始化时给定衰减率(0.99)和控制衰减变量step\n",
    "ema = tf.train.ExponentialMovingAverage(0.99, step)\n",
    "# 定义一个更新变量滑动平均的操作。这里需要定义一个列表，每次执行这个操作时\n",
    "# 这个列表中的变量就会被更新\n",
    "maintain_averages_op = ema.apply([v1])"
   ]
  },
  {
   "cell_type": "markdown",
   "metadata": {},
   "source": [
    "#### 2.查看不同迭代中变量取值的变化"
   ]
  },
  {
   "cell_type": "code",
   "execution_count": 4,
   "metadata": {},
   "outputs": [
    {
     "name": "stdout",
     "output_type": "stream",
     "text": [
      "[0.0, 0.0]\n",
      "[5.0, 4.5]\n",
      "[10.0, 4.5549998]\n",
      "[10.0, 4.6094499]\n"
     ]
    }
   ],
   "source": [
    "config = tf.ConfigProto(allow_soft_placement=True)\n",
    "with tf.Session(config=config) as sess:\n",
    "    # 变量初始化\n",
    "    tf.global_variables_initializer().run()\n",
    "    \n",
    "    # 通过ema.average(v1)获取滑动平均之后的变量取值\n",
    "    # 在初始化变量v1的值和v1的滑动平均都是0\n",
    "    print(sess.run([v1, ema.average(v1)])) # 输出[0.0, 0.0]\n",
    "    \n",
    "    # 更新变量v1的值到5\n",
    "    sess.run(tf.assign(v1, 5))\n",
    "    # 更新变量v1的滑动平均值。衰减率为min{0.99, (1+step)/(10+step) = 0.1} = 0.1\n",
    "    # 所以v1的滑动平均会被更新为0.1x0+0.9x5=4.5\n",
    "    sess.run(maintain_averages_op)\n",
    "    print(sess.run([v1, ema.average(v1)])) # 输出[5, 4.5]\n",
    "    \n",
    "    # 更新step的值为10000\n",
    "    sess.run(tf.assign(step, 10000))\n",
    "    # 更新v1的值为10\n",
    "    sess.run(tf.assign(v1, 10))\n",
    "    # 更新变量v1的滑动平均值。衰减率为min{0.99, (1+step)/(10+step) = 0.9999} = 0.99\n",
    "    # 所有v1的滑动平均值为0.99*4.5+0.01*10=4.555\n",
    "    sess.run(maintain_averages_op)\n",
    "    print(sess.run([v1, ema.average(v1)])) # 输出[10.0, 4.554998]\n",
    "    \n",
    "    # 再次更新滑动平均值，得到的新滑动平均值为0.99*4.55+0.01*10=4.60945\n",
    "    sess.run(maintain_averages_op)\n",
    "    print(sess.run([v1, ema.average(v1)])) # 输出[10.0, 4.60945]"
   ]
  },
  {
   "cell_type": "code",
   "execution_count": null,
   "metadata": {
    "collapsed": true
   },
   "outputs": [],
   "source": []
  }
 ],
 "metadata": {
  "kernelspec": {
   "display_name": "Python 3",
   "language": "python",
   "name": "python3"
  },
  "language_info": {
   "codemirror_mode": {
    "name": "ipython",
    "version": 3
   },
   "file_extension": ".py",
   "mimetype": "text/x-python",
   "name": "python",
   "nbconvert_exporter": "python",
   "pygments_lexer": "ipython3",
   "version": "3.5.4"
  }
 },
 "nbformat": 4,
 "nbformat_minor": 2
}
