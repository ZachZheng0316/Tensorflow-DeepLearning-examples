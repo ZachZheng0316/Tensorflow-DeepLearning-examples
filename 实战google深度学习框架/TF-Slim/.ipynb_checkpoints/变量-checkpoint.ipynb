{
 "cells": [
  {
   "cell_type": "markdown",
   "metadata": {},
   "source": [
    "# 加载库文件"
   ]
  },
  {
   "cell_type": "code",
   "execution_count": 1,
   "metadata": {},
   "outputs": [],
   "source": [
    "import tensorflow as tf\n",
    "import tensorflow.contrib.slim as slim"
   ]
  },
  {
   "cell_type": "markdown",
   "metadata": {},
   "source": [
    "# 创建变量\n",
    "* 创建模型变量\n",
    "* 创建常规变量\n",
    "* 创建自定义变量并加入模型变量集合"
   ]
  },
  {
   "cell_type": "code",
   "execution_count": 2,
   "metadata": {},
   "outputs": [
    {
     "ename": "AttributeError",
     "evalue": "'list' object has no attribute 'name'",
     "output_type": "error",
     "traceback": [
      "\u001b[1;31m---------------------------------------------------------------------------\u001b[0m",
      "\u001b[1;31mAttributeError\u001b[0m                            Traceback (most recent call last)",
      "\u001b[1;32m<ipython-input-2-f70495a8db95>\u001b[0m in \u001b[0;36m<module>\u001b[1;34m()\u001b[0m\n\u001b[0;32m     30\u001b[0m \u001b[1;33m\u001b[0m\u001b[0m\n\u001b[0;32m     31\u001b[0m     \u001b[1;31m# 打印数据\u001b[0m\u001b[1;33m\u001b[0m\u001b[1;33m\u001b[0m\u001b[0m\n\u001b[1;32m---> 32\u001b[1;33m     \u001b[0mprint\u001b[0m\u001b[1;33m(\u001b[0m\u001b[0msess\u001b[0m\u001b[1;33m.\u001b[0m\u001b[0mrun\u001b[0m\u001b[1;33m(\u001b[0m\u001b[0mmodel_variable\u001b[0m\u001b[1;33m.\u001b[0m\u001b[0mname\u001b[0m\u001b[1;33m)\u001b[0m\u001b[1;33m)\u001b[0m\u001b[1;33m\u001b[0m\u001b[0m\n\u001b[0m\u001b[0;32m     33\u001b[0m     \u001b[0mprint\u001b[0m\u001b[1;33m(\u001b[0m\u001b[0msess\u001b[0m\u001b[1;33m.\u001b[0m\u001b[0mrun\u001b[0m\u001b[1;33m(\u001b[0m\u001b[0mall_variable\u001b[0m\u001b[1;33m.\u001b[0m\u001b[0mname\u001b[0m\u001b[1;33m)\u001b[0m\u001b[1;33m)\u001b[0m\u001b[1;33m\u001b[0m\u001b[0m\n",
      "\u001b[1;31mAttributeError\u001b[0m: 'list' object has no attribute 'name'"
     ]
    }
   ],
   "source": [
    "# 创建模型变量\n",
    "weigths1 = slim.model_variable('weights1',\n",
    "                              shape=[10, 10, 3, 3],\n",
    "                              initializer=tf.truncated_normal_initializer(stddev=0.1),\n",
    "                              regularizer=slim.l2_regularizer(0.05),\n",
    "                              device='/CPU:0')\n",
    "\n",
    "# 创建常规变量\n",
    "weigthts2 = slim.variable('weights2',\n",
    "                        shape=[20, 1],\n",
    "                        initializer=tf.zeros_initializer())\n",
    "\n",
    "# 创建自定义变量\n",
    "weights3 = tf.Variable(tf.truncated_normal([3, 3, 64, 128], \n",
    "                                           dtype=tf.float32, \n",
    "                                           stddev=1e-1), \n",
    "                       name='weights3')\n",
    "slim.add_model_variable(weights3)\n",
    "\n",
    "# 获取模型变量\n",
    "model_variable = slim.get_model_variables()\n",
    "\n",
    "# 获取所有变量:常规变量与模型变量之和\n",
    "all_variable = slim.get_variables()\n",
    "\n",
    "# 建立会话\n",
    "with tf.Session() as sess:\n",
    "    # 执行变量初始化的操作\n",
    "    sess.run(tf.global_variables_initializer())\n",
    "    \n",
    "    # 打印数据\n",
    "    print(sess.run(model_variable))\n",
    "    print(sess.run(all_variable))"
   ]
  }
 ],
 "metadata": {
  "kernelspec": {
   "display_name": "Python 3",
   "language": "python",
   "name": "python3"
  },
  "language_info": {
   "codemirror_mode": {
    "name": "ipython",
    "version": 3
   },
   "file_extension": ".py",
   "mimetype": "text/x-python",
   "name": "python",
   "nbconvert_exporter": "python",
   "pygments_lexer": "ipython3",
   "version": "3.5.4"
  }
 },
 "nbformat": 4,
 "nbformat_minor": 2
}
