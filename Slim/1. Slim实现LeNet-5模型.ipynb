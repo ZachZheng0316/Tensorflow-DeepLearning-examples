{
 "cells": [
  {
   "cell_type": "markdown",
   "metadata": {
    "toc": true
   },
   "source": [
    "<h1>Table of Contents<span class=\"tocSkip\"></span></h1>\n",
    "<div class=\"toc\"><ul class=\"toc-item\"><li><span><a href=\"#定义LeNet-5模型\" data-toc-modified-id=\"定义LeNet-5模型-1\"><span class=\"toc-item-num\">1&nbsp;&nbsp;</span>定义LeNet-5模型</a></span></li></ul></div>"
   ]
  },
  {
   "cell_type": "markdown",
   "metadata": {},
   "source": [
    "# 定义LeNet-5模型"
   ]
  },
  {
   "cell_type": "code",
   "execution_count": 8,
   "metadata": {
    "collapsed": true
   },
   "outputs": [],
   "source": [
    "import tensorflow as tf\n",
    "import tensorflow.contrib.slim as slim\n",
    "import numpy as np\n",
    "\n",
    "from tensorflow.examples.tutorials.mnist import input_data\n",
    "\n",
    "tf.reset_default_graph()"
   ]
  },
  {
   "cell_type": "code",
   "execution_count": 9,
   "metadata": {
    "collapsed": true
   },
   "outputs": [],
   "source": [
    "# 通过TensorFlow-Slim来定义LeNet-5的网络模型\n",
    "def lenet5(inputs):\n",
    "    inputs = tf.reshape(inputs, [-1, 28, 28, 1])\n",
    "    net = slim.conv2d(inputs, 32, [5, 5], padding='SAME', scope='layer1-conv')\n",
    "    net = slim.max_pool2d(net, 2, stride=2, scope='layer2-max-pool')\n",
    "    net = slim.conv2d(net, 64, [5, 5], padding='SAME', scope='layer3-conv')\n",
    "    net = slim.max_pool2d(net, 2, stride=2, scope='layer4-max-pool')\n",
    "    net = slim.flatten(net, scope='flatten')\n",
    "    net = slim.fully_connected(net, 500, scope='layer5')\n",
    "    net = slim.dropout(net)\n",
    "    net = slim.fully_connected(net, 10, scope='output')\n",
    "    \n",
    "    return net"
   ]
  },
  {
   "cell_type": "code",
   "execution_count": 10,
   "metadata": {
    "collapsed": true
   },
   "outputs": [],
   "source": [
    "# 训练模型\n",
    "def train(mnist):\n",
    "    # 建立输入占位符\n",
    "    x = tf.placeholder(tf.float32, [None, 784], name='x-input')\n",
    "    y_ = tf.placeholder(tf.float32, [None, 10], name='y-input')\n",
    "    \n",
    "    # 计算前向传播\n",
    "    y = lenet5(x)\n",
    "    \n",
    "    # 计算交叉熵\n",
    "    cross_entropy = tf.nn.sparse_softmax_cross_entropy_with_logits(logits=y, labels=tf.argmax(y_, 1))\n",
    "    \n",
    "    # 计算损失函数\n",
    "    loss = tf.reduce_mean(cross_entropy)\n",
    "    \n",
    "    # 定义优化步骤\n",
    "    train_op = tf.train.GradientDescentOptimizer(0.01).minimize(loss)\n",
    "    \n",
    "    # 构建会话\n",
    "    config = tf.ConfigProto(allow_soft_placement=True)\n",
    "    config.gpu_options.allow_growth = True\n",
    "    with tf.Session(config=config) as sess:\n",
    "        # 变量初始化\n",
    "        tf.global_variables_initializer().run()\n",
    "        \n",
    "        for i in range(3000):\n",
    "            xs, ys = mnist.train.next_batch(30)\n",
    "            \n",
    "            _, loss_value = sess.run([train_op, loss], feed_dict={x: xs, y_:ys})\n",
    "            \n",
    "            if i % 1000 == 0:\n",
    "                print(\"After %d traing step(s), loss on training batch is %g.\" % (i, loss_value))\n",
    "                "
   ]
  },
  {
   "cell_type": "code",
   "execution_count": 11,
   "metadata": {},
   "outputs": [
    {
     "name": "stdout",
     "output_type": "stream",
     "text": [
      "Extracting ../../../TensorFlow/datasets/MNIST_data\\train-images-idx3-ubyte.gz\n",
      "Extracting ../../../TensorFlow/datasets/MNIST_data\\train-labels-idx1-ubyte.gz\n",
      "Extracting ../../../TensorFlow/datasets/MNIST_data\\t10k-images-idx3-ubyte.gz\n",
      "Extracting ../../../TensorFlow/datasets/MNIST_data\\t10k-labels-idx1-ubyte.gz\n",
      "After 0 traing step(s), loss on training batch is 2.30237.\n",
      "After 1000 traing step(s), loss on training batch is 0.289773.\n",
      "After 2000 traing step(s), loss on training batch is 0.0751466.\n"
     ]
    }
   ],
   "source": [
    "# 主程序\n",
    "def main(argv=None):\n",
    "    mnist = input_data.read_data_sets(\"../../../TensorFlow/datasets/MNIST_data\", one_hot=True)\n",
    "    \n",
    "    # 训练模型\n",
    "    train(mnist)\n",
    "\n",
    "# 执行主程序\n",
    "if __name__ == '__main__':\n",
    "    main()"
   ]
  },
  {
   "cell_type": "code",
   "execution_count": null,
   "metadata": {
    "collapsed": true
   },
   "outputs": [],
   "source": []
  }
 ],
 "metadata": {
  "kernelspec": {
   "display_name": "Python 3",
   "language": "python",
   "name": "python3"
  },
  "language_info": {
   "codemirror_mode": {
    "name": "ipython",
    "version": 3
   },
   "file_extension": ".py",
   "mimetype": "text/x-python",
   "name": "python",
   "nbconvert_exporter": "python",
   "pygments_lexer": "ipython3",
   "version": "3.5.4"
  },
  "toc": {
   "base_numbering": 1,
   "nav_menu": {},
   "number_sections": true,
   "sideBar": true,
   "skip_h1_title": false,
   "title_cell": "Table of Contents",
   "title_sidebar": "Contents",
   "toc_cell": true,
   "toc_position": {},
   "toc_section_display": true,
   "toc_window_display": false
  }
 },
 "nbformat": 4,
 "nbformat_minor": 2
}
