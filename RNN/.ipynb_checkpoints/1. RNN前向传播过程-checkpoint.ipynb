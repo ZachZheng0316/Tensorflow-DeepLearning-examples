{
 "cells": [
  {
   "cell_type": "markdown",
   "metadata": {
    "toc": true
   },
   "source": [
    "<h1>Table of Contents<span class=\"tocSkip\"></span></h1>\n",
    "<div class=\"toc\"><ul class=\"toc-item\"><li><span><a href=\"#RNN-前向传播\" data-toc-modified-id=\"RNN-前向传播-1\"><span class=\"toc-item-num\">1&nbsp;&nbsp;</span>RNN 前向传播</a></span></li><li><span><a href=\"#执行前向传播过程\" data-toc-modified-id=\"执行前向传播过程-2\"><span class=\"toc-item-num\">2&nbsp;&nbsp;</span>执行前向传播过程</a></span></li><li><span><a href=\"#参考资料\" data-toc-modified-id=\"参考资料-3\"><span class=\"toc-item-num\">3&nbsp;&nbsp;</span>参考资料</a></span></li></ul></div>"
   ]
  },
  {
   "cell_type": "markdown",
   "metadata": {},
   "source": [
    "# RNN 前向传播\n",
    "\n",
    "下图是RNN单层前向传播模型:\n",
    "\n",
    "![RNN单层前向传播模型](RNN_forward.png)\n",
    "\n",
    "![RNN单层前向传播实例](RNN_forward1.png)\n",
    "\n",
    "\n",
    "如上图所示, 每时刻的输入与状态合成为当前时刻的输入, 每一个单元输出的是状态值, 再由状态值转化为结果值. 不同时刻的状态值也是变化的."
   ]
  },
  {
   "cell_type": "code",
   "execution_count": 1,
   "metadata": {},
   "outputs": [],
   "source": [
    "import numpy as np"
   ]
  },
  {
   "cell_type": "code",
   "execution_count": 2,
   "metadata": {},
   "outputs": [],
   "source": [
    "# 定义输入序列\n",
    "X = [1, 2, 3, 4, 5]\n",
    "\n",
    "# 定义初始状态值[1, 2]\n",
    "state = [0.0, 0.0]\n",
    "\n",
    "w_cell_state = np.asarray([[0.1, 0.2], [0.3, 0.4]]) # 状态权重2x2\n",
    "w_cell_input = np.asarray([0.5, 0.6]) # 输入权重[1, 2]\n",
    "b_cell = np.asarray([0.1, -0.1]) # 激活值的偏置项\n",
    "\n",
    "# 定义用于输出的全连接层:2x1\n",
    "w_output = np.asanyarray([[1.0], [2.0]]) # 输出的权重\n",
    "b_output = 0.1 # 输出值的权重"
   ]
  },
  {
   "cell_type": "markdown",
   "metadata": {},
   "source": [
    "# 执行前向传播过程"
   ]
  },
  {
   "cell_type": "code",
   "execution_count": 3,
   "metadata": {},
   "outputs": [
    {
     "name": "stdout",
     "output_type": "stream",
     "text": [
      "befor activate:  [0.6 0.5]\n",
      "state:  [0.53704957 0.46211716]\n",
      "output:  [1.56128388]\n",
      "\n",
      "\n",
      "befor activate:  [1.2923401  1.39225678]\n",
      "state:  [0.85973818 0.88366641]\n",
      "output:  [2.72707101]\n",
      "\n",
      "\n",
      "befor activate:  [1.95107374 2.2254142 ]\n",
      "state:  [0.96040283 0.97693139]\n",
      "output:  [3.01426561]\n",
      "\n",
      "\n",
      "befor activate:  [2.4891197  2.88285312]\n",
      "state:  [0.98632184 0.99375321]\n",
      "output:  [3.07382826]\n",
      "\n",
      "\n",
      "befor activate:  [2.99675815 3.49476565]\n",
      "state:  [0.99502267 0.99815874]\n",
      "output:  [3.09134015]\n",
      "\n",
      "\n"
     ]
    }
   ],
   "source": [
    "# 按照时间顺序执行循环神经网络的前向传播过程\n",
    "for i in range(len(X)):\n",
    "    # 计算循环体找那个全连接层神经网络[1, 2]x[2, 2] + [1, 2] + [1, 2]\n",
    "    before_activate = np.dot(state, w_cell_state) + X[i] * w_cell_input + b_cell\n",
    "    # 更新输入状态值\n",
    "    state = np.tanh(before_activate)\n",
    "    \n",
    "    # 根据当前时刻状态计算最终输出\n",
    "    final_output = np.dot(state, w_output) + b_output\n",
    "    \n",
    "    # 打印每一个时刻的信息\n",
    "    print(\"befor activate: \", before_activate)\n",
    "    print(\"state: \", state)\n",
    "    print(\"output: \", final_output)\n",
    "    print(\"\\n\")"
   ]
  },
  {
   "cell_type": "markdown",
   "metadata": {},
   "source": [
    "如结果所示, 不同时刻状态值是不同的, 分别为:\n",
    "\n",
    "1. $[0.53704957 0.46211716]$;\n",
    "2. $[0.85973818 0.88366641]$;\n",
    "3. $[0.96040283 0.97693139]$;\n",
    "4. $[0.98632184 0.99375321]$;\n",
    "5. $[0.99502267 0.99815874]$;\n",
    "\n",
    "即使每一时刻输入相同的值, 输出对应的输入也会不同."
   ]
  },
  {
   "cell_type": "markdown",
   "metadata": {
    "collapsed": true
   },
   "source": [
    "# 参考资料\n",
    "\n",
    "1. 《TensorFlow实战google深度学习框架》"
   ]
  }
 ],
 "metadata": {
  "kernelspec": {
   "display_name": "Python 3",
   "language": "python",
   "name": "python3"
  },
  "language_info": {
   "codemirror_mode": {
    "name": "ipython",
    "version": 3
   },
   "file_extension": ".py",
   "mimetype": "text/x-python",
   "name": "python",
   "nbconvert_exporter": "python",
   "pygments_lexer": "ipython3",
   "version": "3.5.5"
  },
  "toc": {
   "base_numbering": 1,
   "nav_menu": {},
   "number_sections": true,
   "sideBar": true,
   "skip_h1_title": false,
   "title_cell": "Table of Contents",
   "title_sidebar": "Contents",
   "toc_cell": true,
   "toc_position": {},
   "toc_section_display": true,
   "toc_window_display": false
  }
 },
 "nbformat": 4,
 "nbformat_minor": 2
}
