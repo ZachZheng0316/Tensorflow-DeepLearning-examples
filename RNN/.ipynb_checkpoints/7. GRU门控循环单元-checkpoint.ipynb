{
 "cells": [
  {
   "cell_type": "markdown",
   "metadata": {
    "toc": true
   },
   "source": [
    "<h1>Table of Contents<span class=\"tocSkip\"></span></h1>\n",
    "<div class=\"toc\"><ul class=\"toc-item\"><li><span><a href=\"#GRU模型\" data-toc-modified-id=\"GRU模型-1\"><span class=\"toc-item-num\">1&nbsp;&nbsp;</span>GRU模型</a></span></li></ul></div>"
   ]
  },
  {
   "cell_type": "markdown",
   "metadata": {},
   "source": [
    "# GRU模型\n",
    "\n",
    "GRU的模型结构如下所示:\n",
    "    \n",
    "![gru](7_1gru.png)\n",
    "\n",
    "它只有两个门了，分别为**更新门**和**重置门**，即图中的**$z_t$**和**$r_t$**。\n",
    "\n",
    "1. **更新门 $z_t$ **:用于控制前一时刻的状态信息被带入到当前状态中的程度, $[0, 1]$之间的数据.**更新门**的值越大说明保留前一时刻状态信息越少, 保留**记忆状态后选值**越多。当$z_t = 0$时, $h_t = h_{t-1}$, 即记忆状态值全部不更新;当 $z_t = 1$时, $h_{t}=\\tilde{h}_t$，即记忆状态值全部更新为**记忆状态候选值**；\n",
    "2. **重置门 $r_t$**:用于控制忽略前一时刻的状态信息的程度, $[0, 1]$之间的数据. 重置门的值越小, 说明忽略前一时刻状态信息的程度越深。"
   ]
  },
  {
   "cell_type": "markdown",
   "metadata": {},
   "source": [
    "**输出层**\n",
    "\n",
    "$y_t = \\sigma (W_{o}h_{t})$\n",
    "\n",
    "**损失函数**\n",
    "\n",
    "某时刻的损失函数(假设是均方差):$E_t = \\frac{1}{2}(y_d - y_t)^2$\n",
    "\n",
    "总的损失函数:$E = \\sum_{t=1}^{T}E_t$"
   ]
  },
  {
   "cell_type": "code",
   "execution_count": null,
   "metadata": {},
   "outputs": [],
   "source": []
  }
 ],
 "metadata": {
  "kernelspec": {
   "display_name": "Python 3",
   "language": "python",
   "name": "python3"
  },
  "language_info": {
   "codemirror_mode": {
    "name": "ipython",
    "version": 3
   },
   "file_extension": ".py",
   "mimetype": "text/x-python",
   "name": "python",
   "nbconvert_exporter": "python",
   "pygments_lexer": "ipython3",
   "version": "3.5.5"
  },
  "toc": {
   "base_numbering": 1,
   "nav_menu": {},
   "number_sections": true,
   "sideBar": true,
   "skip_h1_title": false,
   "title_cell": "Table of Contents",
   "title_sidebar": "Contents",
   "toc_cell": true,
   "toc_position": {},
   "toc_section_display": true,
   "toc_window_display": false
  }
 },
 "nbformat": 4,
 "nbformat_minor": 2
}
