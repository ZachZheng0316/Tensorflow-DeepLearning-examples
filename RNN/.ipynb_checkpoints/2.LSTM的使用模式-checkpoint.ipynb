{
 "cells": [
  {
   "cell_type": "markdown",
   "metadata": {
    "toc": true
   },
   "source": [
    "<h1>Table of Contents<span class=\"tocSkip\"></span></h1>\n",
    "<div class=\"toc\"><ul class=\"toc-item\"><li><span><a href=\"#LSTM使用模式\" data-toc-modified-id=\"LSTM使用模式-1\"><span class=\"toc-item-num\">1&nbsp;&nbsp;</span>LSTM使用模式</a></span></li><li><span><a href=\"#参考资料\" data-toc-modified-id=\"参考资料-2\"><span class=\"toc-item-num\">2&nbsp;&nbsp;</span>参考资料</a></span></li></ul></div>"
   ]
  },
  {
   "cell_type": "markdown",
   "metadata": {},
   "source": [
    "# LSTM使用模式\n",
    "\n",
    "1. 定义LSTM结构\n",
    "2. 初始化LSTM的状态\n",
    "3. 定义num_step, 避免梯度消散\n",
    "4. 进行前向计算\n",
    "5. 计算最终输出\n",
    "6. 计算损失函数\n",
    "7. 训练模型\n",
    "\n",
    "其中, 还有几个地方不是很明白(如何打印具有具体的数据)"
   ]
  },
  {
   "cell_type": "code",
   "execution_count": 1,
   "metadata": {
    "collapsed": true
   },
   "outputs": [],
   "source": [
    "import tensorflow as tf\n",
    "import numpy as np"
   ]
  },
  {
   "cell_type": "code",
   "execution_count": 9,
   "metadata": {},
   "outputs": [
    {
     "name": "stdout",
     "output_type": "stream",
     "text": [
      "X: \n",
      " [[0.8197666 ]\n",
      " [0.17715495]]\n",
      "lstm_output: \n",
      " Tensor(\"basic_lstm_cell/Mul_2:0\", shape=(2, 2), dtype=float64)\n",
      "state:\n",
      " LSTMStateTuple(c=<tf.Tensor 'basic_lstm_cell/Add_1:0' shape=(2, 2) dtype=float64>, h=<tf.Tensor 'basic_lstm_cell/Mul_2:0' shape=(2, 2) dtype=float64>)\n",
      "final_output:\n",
      " [[<tf.Tensor 'add:0' shape=(2, 2) dtype=float64>]\n",
      " [<tf.Tensor 'add_1:0' shape=(2, 2) dtype=float64>]]\n",
      "\n",
      "\n",
      "X: \n",
      " [[0.10726922]\n",
      " [0.34934291]]\n",
      "lstm_output: \n",
      " Tensor(\"basic_lstm_cell/Mul_5:0\", shape=(2, 2), dtype=float64)\n",
      "state:\n",
      " LSTMStateTuple(c=<tf.Tensor 'basic_lstm_cell/Add_3:0' shape=(2, 2) dtype=float64>, h=<tf.Tensor 'basic_lstm_cell/Mul_5:0' shape=(2, 2) dtype=float64>)\n",
      "final_output:\n",
      " [[<tf.Tensor 'add_2:0' shape=(2, 2) dtype=float64>]\n",
      " [<tf.Tensor 'add_3:0' shape=(2, 2) dtype=float64>]]\n",
      "\n",
      "\n",
      "X: \n",
      " [[0.96430421]\n",
      " [0.61233351]]\n",
      "lstm_output: \n",
      " Tensor(\"basic_lstm_cell/Mul_8:0\", shape=(2, 2), dtype=float64)\n",
      "state:\n",
      " LSTMStateTuple(c=<tf.Tensor 'basic_lstm_cell/Add_5:0' shape=(2, 2) dtype=float64>, h=<tf.Tensor 'basic_lstm_cell/Mul_8:0' shape=(2, 2) dtype=float64>)\n",
      "final_output:\n",
      " [[<tf.Tensor 'add_4:0' shape=(2, 2) dtype=float64>]\n",
      " [<tf.Tensor 'add_5:0' shape=(2, 2) dtype=float64>]]\n",
      "\n",
      "\n",
      "X: \n",
      " [[0.74094373]\n",
      " [0.85326817]]\n",
      "lstm_output: \n",
      " Tensor(\"basic_lstm_cell/Mul_11:0\", shape=(2, 2), dtype=float64)\n",
      "state:\n",
      " LSTMStateTuple(c=<tf.Tensor 'basic_lstm_cell/Add_7:0' shape=(2, 2) dtype=float64>, h=<tf.Tensor 'basic_lstm_cell/Mul_11:0' shape=(2, 2) dtype=float64>)\n",
      "final_output:\n",
      " [[<tf.Tensor 'add_6:0' shape=(2, 2) dtype=float64>]\n",
      " [<tf.Tensor 'add_7:0' shape=(2, 2) dtype=float64>]]\n",
      "\n",
      "\n",
      "X: \n",
      " [[0.58212193]\n",
      " [0.80172364]]\n",
      "lstm_output: \n",
      " Tensor(\"basic_lstm_cell/Mul_14:0\", shape=(2, 2), dtype=float64)\n",
      "state:\n",
      " LSTMStateTuple(c=<tf.Tensor 'basic_lstm_cell/Add_9:0' shape=(2, 2) dtype=float64>, h=<tf.Tensor 'basic_lstm_cell/Mul_14:0' shape=(2, 2) dtype=float64>)\n",
      "final_output:\n",
      " [[<tf.Tensor 'add_8:0' shape=(2, 2) dtype=float64>]\n",
      " [<tf.Tensor 'add_9:0' shape=(2, 2) dtype=float64>]]\n",
      "\n",
      "\n"
     ]
    }
   ],
   "source": [
    "tf.reset_default_graph()\n",
    "\n",
    "HIDDEN_SIZE = 2     # 定义隐含层的规模\n",
    "batch_size = 2      # 定义batch的大小\n",
    "num_steps = 5       # 定义数据截断的长度\n",
    "\n",
    "# 定义数据\n",
    "# X shape: [batch_num, batch_size, embedding_size], embedding_size表示输入数据的维度\n",
    "# 其中batch_num:表示batch的个数, batch_size:表示batch的大小, embedding_size表示输入的维度\n",
    "X = np.random.random(size=[5, 2, 1])\n",
    "Y = [10, 9, 8, 7, 6, 5, 4, 3, 2, 1]\n",
    "\n",
    "# 定义一个基本的LSTM结构\n",
    "lstm_cell = tf.nn.rnn_cell.BasicLSTMCell(HIDDEN_SIZE)\n",
    "\n",
    "# 将LSTM中的状态初始化为全0的数组\n",
    "# state shape: [batch_size, HIDDEN_SIZE]\n",
    "state = lstm_cell.zero_state(batch_size, tf.float64)\n",
    "\n",
    "# 定义用于输出的全连接层[2, 1]\n",
    "w_output = np.random.random(size=[HIDDEN_SIZE, 1])\n",
    "b_output = 0.1\n",
    "\n",
    "# 定义损失函数\n",
    "loss = 0.0\n",
    "\n",
    "with tf.Session() as sess:\n",
    "    # 初始化变量\n",
    "    sess.run([tf.global_variables_initializer(), tf.local_variables_initializer()])\n",
    "    #tf.global_variables_initializer().run()\n",
    "    \n",
    "    # 按时间顺序循环执行神经网络的前向传播过程:运行一个截断长度\n",
    "    for i in range(num_steps):\n",
    "        # 在第一个时刻声明LSTM结构中使用的变量，在这之后的时刻都需要复用之前定义好的变量\n",
    "        if i > 0:\n",
    "            tf.get_variable_scope().reuse_variables()\n",
    "\n",
    "        # 每一步处理时间序列中的一个时刻。\n",
    "        # 将当前输入(current_input)和前一个时刻状态(state)传入定义的LSTM结构\n",
    "        # 得到当前LSTM结构的输出lstm_output和更新后的状态state\n",
    "        # 输入的维度为[batch_size, embedding_size], state的维度为[batch_size, HIDDEN_SIZE]\n",
    "        # lstm_output的维度为[batch_size, HIDDEN_SIZE]; state包含(c, h)，它们的维度为[batch_size, HIDDEN_SIZE]\n",
    "        lstm_output, state = lstm_cell(tf.convert_to_tensor(X[i]), state)\n",
    "\n",
    "        # 将当前时刻LSTM结构的输出传入一个全连接层得到最后的输出(此处没有设置激活函数)\n",
    "        # lstm shape: [batch_size, HIDDEN_SIZE], w_output shape:[HIDDEN_SIZE, output_size]\n",
    "        final_output = np.dot(lstm_output, w_output) + b_output\n",
    "\n",
    "        # 计算当前时刻的损失\n",
    "        #loss += calc_loss(final_output, expected_output)\n",
    "\n",
    "        # 输出每个时刻的信息(如何打印数据)\n",
    "        print(\"X: \\n\", X[i])\n",
    "        print(\"lstm_output: \\n\", lstm_output)\n",
    "        print(\"state:\\n\", state)\n",
    "        print(\"final_output:\\n\", final_output)\n",
    "        print(\"\\n\")"
   ]
  },
  {
   "cell_type": "markdown",
   "metadata": {},
   "source": [
    "# 参考资料\n",
    "\n",
    "1. 《TensorFlow实战google深度学习框架》"
   ]
  }
 ],
 "metadata": {
  "kernelspec": {
   "display_name": "Python 3",
   "language": "python",
   "name": "python3"
  },
  "language_info": {
   "codemirror_mode": {
    "name": "ipython",
    "version": 3
   },
   "file_extension": ".py",
   "mimetype": "text/x-python",
   "name": "python",
   "nbconvert_exporter": "python",
   "pygments_lexer": "ipython3",
   "version": "3.5.4"
  },
  "toc": {
   "base_numbering": 1,
   "nav_menu": {},
   "number_sections": true,
   "sideBar": true,
   "skip_h1_title": false,
   "title_cell": "Table of Contents",
   "title_sidebar": "Contents",
   "toc_cell": true,
   "toc_position": {},
   "toc_section_display": true,
   "toc_window_display": false
  }
 },
 "nbformat": 4,
 "nbformat_minor": 2
}
