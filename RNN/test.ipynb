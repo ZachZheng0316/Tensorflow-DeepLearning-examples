{
 "cells": [
  {
   "cell_type": "code",
   "execution_count": 1,
   "metadata": {
    "collapsed": true
   },
   "outputs": [],
   "source": [
    "import numpy as np"
   ]
  },
  {
   "cell_type": "code",
   "execution_count": 2,
   "metadata": {
    "collapsed": true
   },
   "outputs": [],
   "source": [
    "X = [1.0, 2.0, 3.0, 4.0, 5.0]\n",
    "state = [0.0, 0.0]\n",
    "w_cell_state = np.asarray([[0.1, 0.2], [0.3, 0.4]])\n",
    "w_cell_input = np.asarray([[0.5, 0.6]])\n",
    "b_cell = np.asarray([[0.1, -0.1]])\n",
    "\n",
    "w_output = np.asarray([[1.0], [2.0]])\n",
    "b_output = 0.1"
   ]
  },
  {
   "cell_type": "code",
   "execution_count": 4,
   "metadata": {},
   "outputs": [
    {
     "name": "stdout",
     "output_type": "stream",
     "text": [
      "before_activate:  [[ 0.6  0.5]]\n",
      "state:  [[ 0.53704957  0.46211716]]\n",
      "output:  [[ 1.56128388]]\n",
      "\n",
      "\n",
      "before_activate:  [[ 1.2923401   1.39225678]]\n",
      "state:  [[ 0.85973818  0.88366641]]\n",
      "output:  [[ 2.72707101]]\n",
      "\n",
      "\n",
      "before_activate:  [[ 1.95107374  2.2254142 ]]\n",
      "state:  [[ 0.96040283  0.97693139]]\n",
      "output:  [[ 3.01426561]]\n",
      "\n",
      "\n",
      "before_activate:  [[ 2.4891197   2.88285312]]\n",
      "state:  [[ 0.98632184  0.99375321]]\n",
      "output:  [[ 3.07382826]]\n",
      "\n",
      "\n",
      "before_activate:  [[ 2.99675815  3.49476565]]\n",
      "state:  [[ 0.99502267  0.99815874]]\n",
      "output:  [[ 3.09134015]]\n",
      "\n",
      "\n"
     ]
    }
   ],
   "source": [
    "for i in range(len(X)):\n",
    "    before_activate = np.dot(state, w_cell_state) + X[i]*w_cell_input + b_cell\n",
    "    state = np.tanh(before_activate)\n",
    "    \n",
    "    final_output = np.dot(state, w_output) + b_output\n",
    "    \n",
    "    print(\"before_activate: \", before_activate)\n",
    "    print(\"state: \", state)\n",
    "    print(\"output: \", final_output)\n",
    "    print(\"\\n\")"
   ]
  },
  {
   "cell_type": "code",
   "execution_count": null,
   "metadata": {
    "collapsed": true
   },
   "outputs": [],
   "source": []
  }
 ],
 "metadata": {
  "kernelspec": {
   "display_name": "Python 3",
   "language": "python",
   "name": "python3"
  },
  "language_info": {
   "codemirror_mode": {
    "name": "ipython",
    "version": 3
   },
   "file_extension": ".py",
   "mimetype": "text/x-python",
   "name": "python",
   "nbconvert_exporter": "python",
   "pygments_lexer": "ipython3",
   "version": "3.5.4"
  }
 },
 "nbformat": 4,
 "nbformat_minor": 2
}
