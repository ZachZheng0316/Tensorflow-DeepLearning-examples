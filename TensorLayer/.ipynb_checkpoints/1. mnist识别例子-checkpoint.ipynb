{
 "cells": [
  {
   "cell_type": "markdown",
   "metadata": {},
   "source": [
    "# 理解MNIST例子"
   ]
  },
  {
   "cell_type": "markdown",
   "metadata": {},
   "source": [
    "## 序言"
   ]
  },
  {
   "cell_type": "markdown",
   "metadata": {},
   "source": [
    "载入必要的库文件"
   ]
  },
  {
   "cell_type": "code",
   "execution_count": 16,
   "metadata": {},
   "outputs": [],
   "source": [
    "import time\n",
    "import numpy as np\n",
    "import tensorflow as tf\n",
    "import tensorlayer as tl"
   ]
  },
  {
   "cell_type": "code",
   "execution_count": 17,
   "metadata": {},
   "outputs": [],
   "source": [
    "tf.logging.set_verbosity(tf.logging.DEBUG)\n",
    "tl.logging.set_verbosity(tl.logging.DEBUG)\n",
    "\n",
    "sess = tf.InteractiveSession()"
   ]
  },
  {
   "cell_type": "markdown",
   "metadata": {},
   "source": [
    "## 加载训练数据集"
   ]
  },
  {
   "cell_type": "code",
   "execution_count": 3,
   "metadata": {},
   "outputs": [
    {
     "name": "stdout",
     "output_type": "stream",
     "text": [
      "[TL] Load or Download MNIST > data\\mnist\n",
      "[TL] data\\mnist\\train-images-idx3-ubyte.gz\n",
      "[TL] data\\mnist\\t10k-images-idx3-ubyte.gz\n"
     ]
    }
   ],
   "source": [
    "# prepare data\n",
    "X_train, y_train, X_val, y_val, X_test, y_test = tl.files.load_mnist_dataset(shape=(-1, 784))"
   ]
  },
  {
   "cell_type": "markdown",
   "metadata": {},
   "source": [
    "`X_train.shape` 为 `(50000,784)`，可以理解成共有50000张图片并且每张图片有784个数值（像素点）。 `Y_train.shape` 为 `(50000,)` ，它是一个和 `X_train` 长度相同的向量，用于给出每幅图的数字标签，即这些图片所包含的位于0-9之间的10个数字。"
   ]
  },
  {
   "cell_type": "markdown",
   "metadata": {},
   "source": [
    "另外对于卷积神经网络的例子，MNIST还可以按下面的4D版本来载入："
   ]
  },
  {
   "cell_type": "markdown",
   "metadata": {},
   "source": [
    "X_train, y_train, X_val, y_val, X_test, y_test = tl.files.load_mnist_dataset(shape=(-1, 28, 28, 1))"
   ]
  },
  {
   "cell_type": "markdown",
   "metadata": {},
   "source": [
    "`X_train.shape` 为 `(50000,28,28,1)` ，这代表了50000张图片，每张图片有28行和28列。 通道为1是因为它是灰度图像，所以每个像素只能有一个值。"
   ]
  },
  {
   "cell_type": "markdown",
   "metadata": {},
   "source": [
    "## 定义placeholder"
   ]
  },
  {
   "cell_type": "code",
   "execution_count": 4,
   "metadata": {},
   "outputs": [],
   "source": [
    "# define placeholder\n",
    "x = tf.placeholder(tf.float32, shape=[None, 784], name='x')\n",
    "y_ = tf.placeholder(tf.int64, shape=[None], name='y_')"
   ]
  },
  {
   "cell_type": "markdown",
   "metadata": {},
   "source": [
    "## 定义模型"
   ]
  },
  {
   "cell_type": "code",
   "execution_count": 5,
   "metadata": {},
   "outputs": [
    {
     "name": "stdout",
     "output_type": "stream",
     "text": [
      "[TL] InputLayer  input: (?, 784)\n",
      "[TL] DropoutLayer drop1: keep: 0.800000 is_fix: False\n",
      "[TL] DenseLayer  relu1: 800 relu\n",
      "[TL] DropoutLayer drop2: keep: 0.500000 is_fix: False\n",
      "[TL] DenseLayer  relu2: 800 relu\n",
      "[TL] DropoutLayer drop3: keep: 0.500000 is_fix: False\n",
      "[TL] DenseLayer  output: 10 No Activation\n"
     ]
    }
   ],
   "source": [
    "# define the network\n",
    "network = tl.layers.InputLayer(x, name='input')\n",
    "network = tl.layers.DropoutLayer(network, keep=0.8, name='drop1')\n",
    "network = tl.layers.DenseLayer(network, 800, tf.nn.relu, name='relu1')\n",
    "network = tl.layers.DropoutLayer(network, keep=0.5, name='drop2')\n",
    "network = tl.layers.DenseLayer(network, 800, tf.nn.relu, name='relu2')\n",
    "network = tl.layers.DropoutLayer(network, keep=0.5, name='drop3')\n",
    "# the softmax is implemented internally in tl.cost.cross_entropy(y, y_) to\n",
    "# speed up computation, so we use identity here.\n",
    "# see tf.nn.sparse_softmax_cross_entropy_with_logits()\n",
    "network = tl.layers.DenseLayer(network, n_units=10, act=None, name='output')"
   ]
  },
  {
   "cell_type": "markdown",
   "metadata": {},
   "source": [
    "## 定义损失函数和衡量指标"
   ]
  },
  {
   "cell_type": "code",
   "execution_count": 6,
   "metadata": {},
   "outputs": [],
   "source": [
    "# define cost function and metric.\n",
    "y = network.outputs\n",
    "cost = tl.cost.cross_entropy(y, y_, name='cost')\n",
    "correct_prediction = tf.equal(tf.argmax(y, 1), y_)\n",
    "acc = tf.reduce_mean(tf.cast(correct_prediction, tf.float32))\n",
    "y_op = tf.argmax(tf.nn.softmax(y), 1)"
   ]
  },
  {
   "cell_type": "code",
   "execution_count": 7,
   "metadata": {},
   "outputs": [],
   "source": [
    "# define the optimizer\n",
    "train_params = network.all_params\n",
    "train_op = tf.train.AdamOptimizer(learning_rate=0.0001).minimize(cost, var_list=train_params)"
   ]
  },
  {
   "cell_type": "code",
   "execution_count": 18,
   "metadata": {},
   "outputs": [],
   "source": [
    "# initialize all variables in the session\n",
    "tl.layers.initialize_global_variables(sess)"
   ]
  },
  {
   "cell_type": "code",
   "execution_count": 9,
   "metadata": {},
   "outputs": [
    {
     "name": "stdout",
     "output_type": "stream",
     "text": [
      "[TL]   param   0: relu1/W:0            (784, 800)         float32_ref (mean: -0.00019060175691265613, median: -0.00018937006825581193, std: 0.08791488409042358)   \n",
      "[TL]   param   1: relu1/b:0            (800,)             float32_ref (mean: 0.0               , median: 0.0               , std: 0.0               )   \n",
      "[TL]   param   2: relu2/W:0            (800, 800)         float32_ref (mean: -2.5754550733836368e-05, median: 4.369802263681777e-05, std: 0.08783773332834244)   \n",
      "[TL]   param   3: relu2/b:0            (800,)             float32_ref (mean: 0.0               , median: 0.0               , std: 0.0               )   \n",
      "[TL]   param   4: output/W:0           (800, 10)          float32_ref (mean: -0.0002112122456310317, median: -0.0005278636235743761, std: 0.08772584795951843)   \n",
      "[TL]   param   5: output/b:0           (10,)              float32_ref (mean: 0.0               , median: 0.0               , std: 0.0               )   \n",
      "[TL]   num of params: 1276810\n",
      "[TL]   layer   0: x:0                  (?, 784)           float32\n",
      "[TL]   layer   1: drop1/mul:0          (?, 784)           float32\n",
      "[TL]   layer   2: relu1/Relu:0         (?, 800)           float32\n",
      "[TL]   layer   3: drop2/mul:0          (?, 800)           float32\n",
      "[TL]   layer   4: relu2/Relu:0         (?, 800)           float32\n",
      "[TL]   layer   5: drop3/mul:0          (?, 800)           float32\n",
      "[TL]   layer   6: output/bias_add:0    (?, 10)            float32\n"
     ]
    }
   ],
   "source": [
    "# print network information\n",
    "network.print_params()\n",
    "network.print_layers()"
   ]
  },
  {
   "cell_type": "code",
   "execution_count": 10,
   "metadata": {},
   "outputs": [
    {
     "name": "stdout",
     "output_type": "stream",
     "text": [
      "[TL] Start training the network ...\n",
      "[TL] Epoch 1 of 500 took 1.220723s\n",
      "[TL]    val loss: 0.553062\n",
      "[TL]    val acc: 0.825200\n",
      "[TL] Epoch 5 of 500 took 0.559701s\n",
      "[TL]    val loss: 0.290055\n",
      "[TL]    val acc: 0.916500\n",
      "[TL] Epoch 10 of 500 took 0.559747s\n",
      "[TL]    val loss: 0.226181\n",
      "[TL]    val acc: 0.938200\n",
      "[TL] Epoch 15 of 500 took 0.579670s\n",
      "[TL]    val loss: 0.190324\n",
      "[TL]    val acc: 0.947300\n",
      "[TL] Epoch 20 of 500 took 0.569649s\n",
      "[TL]    val loss: 0.165790\n",
      "[TL]    val acc: 0.955100\n",
      "[TL] Epoch 25 of 500 took 0.579366s\n",
      "[TL]    val loss: 0.147981\n",
      "[TL]    val acc: 0.959000\n",
      "[TL] Epoch 30 of 500 took 0.621482s\n",
      "[TL]    val loss: 0.132915\n",
      "[TL]    val acc: 0.962300\n",
      "[TL] Epoch 35 of 500 took 0.584888s\n",
      "[TL]    val loss: 0.121907\n",
      "[TL]    val acc: 0.966400\n",
      "[TL] Epoch 40 of 500 took 0.561997s\n",
      "[TL]    val loss: 0.114355\n",
      "[TL]    val acc: 0.967600\n",
      "[TL] Epoch 45 of 500 took 0.560562s\n",
      "[TL]    val loss: 0.105869\n",
      "[TL]    val acc: 0.970000\n",
      "[TL] Epoch 50 of 500 took 0.562017s\n",
      "[TL]    val loss: 0.100402\n",
      "[TL]    val acc: 0.972200\n",
      "[TL] Epoch 55 of 500 took 0.594574s\n",
      "[TL]    val loss: 0.094858\n",
      "[TL]    val acc: 0.973500\n",
      "[TL] Epoch 60 of 500 took 0.602840s\n",
      "[TL]    val loss: 0.090183\n",
      "[TL]    val acc: 0.973900\n",
      "[TL] Epoch 65 of 500 took 0.612592s\n",
      "[TL]    val loss: 0.085720\n",
      "[TL]    val acc: 0.975000\n",
      "[TL] Epoch 70 of 500 took 0.569663s\n",
      "[TL]    val loss: 0.081376\n",
      "[TL]    val acc: 0.976400\n",
      "[TL] Epoch 75 of 500 took 0.569740s\n",
      "[TL]    val loss: 0.079562\n",
      "[TL]    val acc: 0.977200\n",
      "[TL] Epoch 80 of 500 took 0.565261s\n",
      "[TL]    val loss: 0.076700\n",
      "[TL]    val acc: 0.977700\n",
      "[TL] Epoch 85 of 500 took 0.559693s\n",
      "[TL]    val loss: 0.073834\n",
      "[TL]    val acc: 0.978300\n",
      "[TL] Epoch 90 of 500 took 0.559717s\n",
      "[TL]    val loss: 0.072761\n",
      "[TL]    val acc: 0.978700\n",
      "[TL] Epoch 95 of 500 took 0.569700s\n",
      "[TL]    val loss: 0.071301\n",
      "[TL]    val acc: 0.980000\n",
      "[TL] Epoch 100 of 500 took 0.569695s\n",
      "[TL]    val loss: 0.069478\n",
      "[TL]    val acc: 0.979900\n",
      "[TL] Epoch 105 of 500 took 0.569685s\n",
      "[TL]    val loss: 0.067620\n",
      "[TL]    val acc: 0.980800\n",
      "[TL] Epoch 110 of 500 took 0.549752s\n",
      "[TL]    val loss: 0.065988\n",
      "[TL]    val acc: 0.981300\n",
      "[TL] Epoch 115 of 500 took 0.589652s\n",
      "[TL]    val loss: 0.064675\n",
      "[TL]    val acc: 0.981500\n",
      "[TL] Epoch 120 of 500 took 0.549670s\n",
      "[TL]    val loss: 0.063118\n",
      "[TL]    val acc: 0.982000\n",
      "[TL] Epoch 125 of 500 took 0.559700s\n",
      "[TL]    val loss: 0.063243\n",
      "[TL]    val acc: 0.981500\n",
      "[TL] Epoch 130 of 500 took 0.559701s\n",
      "[TL]    val loss: 0.061757\n",
      "[TL]    val acc: 0.982900\n",
      "[TL] Epoch 135 of 500 took 0.559714s\n",
      "[TL]    val loss: 0.060620\n",
      "[TL]    val acc: 0.983000\n",
      "[TL] Epoch 140 of 500 took 0.569661s\n",
      "[TL]    val loss: 0.060026\n",
      "[TL]    val acc: 0.983200\n",
      "[TL] Epoch 145 of 500 took 0.569639s\n",
      "[TL]    val loss: 0.060321\n",
      "[TL]    val acc: 0.983600\n",
      "[TL] Epoch 150 of 500 took 0.549693s\n",
      "[TL]    val loss: 0.059994\n",
      "[TL]    val acc: 0.983900\n",
      "[TL] Epoch 155 of 500 took 0.569688s\n",
      "[TL]    val loss: 0.059342\n",
      "[TL]    val acc: 0.983200\n",
      "[TL] Epoch 160 of 500 took 0.569662s\n",
      "[TL]    val loss: 0.058789\n",
      "[TL]    val acc: 0.984000\n",
      "[TL] Epoch 165 of 500 took 0.569663s\n",
      "[TL]    val loss: 0.058879\n",
      "[TL]    val acc: 0.983800\n",
      "[TL] Epoch 170 of 500 took 0.569695s\n",
      "[TL]    val loss: 0.058608\n",
      "[TL]    val acc: 0.983800\n",
      "[TL] Epoch 175 of 500 took 0.579656s\n",
      "[TL]    val loss: 0.057815\n",
      "[TL]    val acc: 0.983900\n",
      "[TL] Epoch 180 of 500 took 0.569695s\n",
      "[TL]    val loss: 0.057299\n",
      "[TL]    val acc: 0.984500\n",
      "[TL] Epoch 185 of 500 took 0.624572s\n",
      "[TL]    val loss: 0.056571\n",
      "[TL]    val acc: 0.984500\n",
      "[TL] Epoch 190 of 500 took 0.559746s\n",
      "[TL]    val loss: 0.057902\n",
      "[TL]    val acc: 0.984600\n",
      "[TL] Epoch 195 of 500 took 0.559702s\n",
      "[TL]    val loss: 0.057464\n",
      "[TL]    val acc: 0.985000\n",
      "[TL] Epoch 200 of 500 took 0.559732s\n",
      "[TL]    val loss: 0.055706\n",
      "[TL]    val acc: 0.985900\n",
      "[TL] Epoch 205 of 500 took 0.549705s\n",
      "[TL]    val loss: 0.055182\n",
      "[TL]    val acc: 0.985400\n",
      "[TL] Epoch 210 of 500 took 0.546973s\n",
      "[TL]    val loss: 0.055330\n",
      "[TL]    val acc: 0.985900\n",
      "[TL] Epoch 215 of 500 took 0.549705s\n",
      "[TL]    val loss: 0.055264\n",
      "[TL]    val acc: 0.986100\n",
      "[TL] Epoch 220 of 500 took 0.563105s\n",
      "[TL]    val loss: 0.055363\n",
      "[TL]    val acc: 0.985800\n",
      "[TL] Epoch 225 of 500 took 0.559966s\n",
      "[TL]    val loss: 0.055284\n",
      "[TL]    val acc: 0.985700\n",
      "[TL] Epoch 230 of 500 took 0.558050s\n",
      "[TL]    val loss: 0.054905\n",
      "[TL]    val acc: 0.986200\n",
      "[TL] Epoch 235 of 500 took 0.616523s\n",
      "[TL]    val loss: 0.054615\n",
      "[TL]    val acc: 0.986400\n",
      "[TL] Epoch 240 of 500 took 0.559700s\n",
      "[TL]    val loss: 0.054972\n",
      "[TL]    val acc: 0.986000\n",
      "[TL] Epoch 245 of 500 took 0.562473s\n",
      "[TL]    val loss: 0.055015\n",
      "[TL]    val acc: 0.986400\n",
      "[TL] Epoch 250 of 500 took 0.549708s\n",
      "[TL]    val loss: 0.055315\n",
      "[TL]    val acc: 0.986000\n",
      "[TL] Epoch 255 of 500 took 0.566290s\n",
      "[TL]    val loss: 0.055288\n",
      "[TL]    val acc: 0.986200\n",
      "[TL] Epoch 260 of 500 took 0.604138s\n",
      "[TL]    val loss: 0.054675\n",
      "[TL]    val acc: 0.986800\n",
      "[TL] Epoch 265 of 500 took 0.619014s\n",
      "[TL]    val loss: 0.054442\n",
      "[TL]    val acc: 0.986700\n",
      "[TL] Epoch 270 of 500 took 0.568256s\n",
      "[TL]    val loss: 0.054494\n",
      "[TL]    val acc: 0.986800\n",
      "[TL] Epoch 275 of 500 took 0.559655s\n",
      "[TL]    val loss: 0.054354\n",
      "[TL]    val acc: 0.987000\n",
      "[TL] Epoch 280 of 500 took 0.549660s\n",
      "[TL]    val loss: 0.055080\n",
      "[TL]    val acc: 0.987000\n",
      "[TL] Epoch 285 of 500 took 0.573012s\n",
      "[TL]    val loss: 0.055045\n",
      "[TL]    val acc: 0.986400\n",
      "[TL] Epoch 290 of 500 took 0.559716s\n",
      "[TL]    val loss: 0.054999\n",
      "[TL]    val acc: 0.986800\n",
      "[TL] Epoch 295 of 500 took 0.573415s\n",
      "[TL]    val loss: 0.055573\n",
      "[TL]    val acc: 0.986700\n",
      "[TL] Epoch 300 of 500 took 0.670117s\n",
      "[TL]    val loss: 0.055397\n",
      "[TL]    val acc: 0.986800\n",
      "[TL] Epoch 305 of 500 took 0.661977s\n",
      "[TL]    val loss: 0.055023\n",
      "[TL]    val acc: 0.986800\n",
      "[TL] Epoch 310 of 500 took 0.570594s\n",
      "[TL]    val loss: 0.054750\n",
      "[TL]    val acc: 0.986900\n",
      "[TL] Epoch 315 of 500 took 0.591926s\n",
      "[TL]    val loss: 0.055066\n",
      "[TL]    val acc: 0.987000\n",
      "[TL] Epoch 320 of 500 took 0.566153s\n",
      "[TL]    val loss: 0.054442\n",
      "[TL]    val acc: 0.986700\n",
      "[TL] Epoch 325 of 500 took 0.561486s\n",
      "[TL]    val loss: 0.054905\n",
      "[TL]    val acc: 0.986200\n",
      "[TL] Epoch 330 of 500 took 0.568213s\n",
      "[TL]    val loss: 0.053572\n",
      "[TL]    val acc: 0.987300\n",
      "[TL] Epoch 335 of 500 took 0.567987s\n",
      "[TL]    val loss: 0.054633\n",
      "[TL]    val acc: 0.986600\n",
      "[TL] Epoch 340 of 500 took 0.589694s\n",
      "[TL]    val loss: 0.055346\n",
      "[TL]    val acc: 0.986600\n",
      "[TL] Epoch 345 of 500 took 0.569727s\n",
      "[TL]    val loss: 0.054777\n",
      "[TL]    val acc: 0.986600\n",
      "[TL] Epoch 350 of 500 took 0.559671s\n",
      "[TL]    val loss: 0.054888\n",
      "[TL]    val acc: 0.986900\n",
      "[TL] Epoch 355 of 500 took 0.559737s\n",
      "[TL]    val loss: 0.054864\n",
      "[TL]    val acc: 0.986900\n",
      "[TL] Epoch 360 of 500 took 0.559702s\n",
      "[TL]    val loss: 0.055164\n",
      "[TL]    val acc: 0.986800\n",
      "[TL] Epoch 365 of 500 took 0.579647s\n",
      "[TL]    val loss: 0.054550\n",
      "[TL]    val acc: 0.987100\n",
      "[TL] Epoch 370 of 500 took 0.569695s\n",
      "[TL]    val loss: 0.054729\n",
      "[TL]    val acc: 0.987000\n",
      "[TL] Epoch 375 of 500 took 0.617017s\n",
      "[TL]    val loss: 0.054992\n",
      "[TL]    val acc: 0.987300\n",
      "[TL] Epoch 380 of 500 took 0.567087s\n",
      "[TL]    val loss: 0.054735\n",
      "[TL]    val acc: 0.987300\n",
      "[TL] Epoch 385 of 500 took 0.579688s\n",
      "[TL]    val loss: 0.054758\n",
      "[TL]    val acc: 0.987400\n",
      "[TL] Epoch 390 of 500 took 0.599715s\n",
      "[TL]    val loss: 0.055670\n",
      "[TL]    val acc: 0.986700\n",
      "[TL] Epoch 395 of 500 took 0.569695s\n",
      "[TL]    val loss: 0.054808\n",
      "[TL]    val acc: 0.987100\n",
      "[TL] Epoch 400 of 500 took 0.569709s\n",
      "[TL]    val loss: 0.055145\n",
      "[TL]    val acc: 0.986900\n",
      "[TL] Epoch 405 of 500 took 0.569693s\n",
      "[TL]    val loss: 0.054163\n",
      "[TL]    val acc: 0.987400\n",
      "[TL] Epoch 410 of 500 took 0.569741s\n",
      "[TL]    val loss: 0.055756\n",
      "[TL]    val acc: 0.986700\n",
      "[TL] Epoch 415 of 500 took 0.579665s\n",
      "[TL]    val loss: 0.055685\n",
      "[TL]    val acc: 0.986600\n",
      "[TL] Epoch 420 of 500 took 0.569685s\n",
      "[TL]    val loss: 0.055151\n",
      "[TL]    val acc: 0.986900\n",
      "[TL] Epoch 425 of 500 took 0.549662s\n",
      "[TL]    val loss: 0.055160\n",
      "[TL]    val acc: 0.987000\n",
      "[TL] Epoch 430 of 500 took 0.569694s\n",
      "[TL]    val loss: 0.054400\n",
      "[TL]    val acc: 0.986900\n",
      "[TL] Epoch 435 of 500 took 0.559649s\n",
      "[TL]    val loss: 0.053882\n",
      "[TL]    val acc: 0.987300\n",
      "[TL] Epoch 440 of 500 took 0.579722s\n",
      "[TL]    val loss: 0.054597\n",
      "[TL]    val acc: 0.987300\n",
      "[TL] Epoch 445 of 500 took 0.589684s\n",
      "[TL]    val loss: 0.055396\n",
      "[TL]    val acc: 0.987100\n",
      "[TL] Epoch 450 of 500 took 0.569694s\n",
      "[TL]    val loss: 0.055630\n"
     ]
    },
    {
     "name": "stdout",
     "output_type": "stream",
     "text": [
      "[TL]    val acc: 0.986600\n",
      "[TL] Epoch 455 of 500 took 0.559654s\n",
      "[TL]    val loss: 0.055871\n",
      "[TL]    val acc: 0.986600\n",
      "[TL] Epoch 460 of 500 took 0.569695s\n",
      "[TL]    val loss: 0.055979\n",
      "[TL]    val acc: 0.986500\n",
      "[TL] Epoch 465 of 500 took 0.569728s\n",
      "[TL]    val loss: 0.056248\n",
      "[TL]    val acc: 0.986900\n",
      "[TL] Epoch 470 of 500 took 0.589652s\n",
      "[TL]    val loss: 0.056282\n",
      "[TL]    val acc: 0.986600\n",
      "[TL] Epoch 475 of 500 took 0.639646s\n",
      "[TL]    val loss: 0.056623\n",
      "[TL]    val acc: 0.987000\n",
      "[TL] Epoch 480 of 500 took 0.584435s\n",
      "[TL]    val loss: 0.056774\n",
      "[TL]    val acc: 0.986700\n",
      "[TL] Epoch 485 of 500 took 0.563243s\n",
      "[TL]    val loss: 0.057407\n",
      "[TL]    val acc: 0.986600\n",
      "[TL] Epoch 490 of 500 took 0.555281s\n",
      "[TL]    val loss: 0.058083\n",
      "[TL]    val acc: 0.986600\n",
      "[TL] Epoch 495 of 500 took 0.569742s\n",
      "[TL]    val loss: 0.057626\n",
      "[TL]    val acc: 0.986300\n",
      "[TL] Epoch 500 of 500 took 0.559700s\n",
      "[TL]    val loss: 0.056735\n",
      "[TL]    val acc: 0.986500\n",
      "[TL] Total training time: 295.712504s\n"
     ]
    }
   ],
   "source": [
    "# train the network\n",
    "tl.utils.fit(sess, network, train_op, cost, X_train, y_train, x, y_, acc=acc, batch_size=500, \\\n",
    "    n_epoch=500, print_freq=5, X_val=X_val, y_val=y_val, eval_train=False)"
   ]
  },
  {
   "cell_type": "code",
   "execution_count": 11,
   "metadata": {},
   "outputs": [
    {
     "name": "stdout",
     "output_type": "stream",
     "text": [
      "[TL] Start testing the network ...\n",
      "[TL]    test loss: 0.049140\n",
      "[TL]    test acc: 0.986800\n"
     ]
    }
   ],
   "source": [
    "# evaluation\n",
    "tl.utils.test(sess, network, acc, X_test, y_test, x, y_, batch_size=None, cost=cost)"
   ]
  },
  {
   "cell_type": "code",
   "execution_count": 12,
   "metadata": {},
   "outputs": [
    {
     "name": "stdout",
     "output_type": "stream",
     "text": [
      "[TL] [*] model.npz saved\n"
     ]
    }
   ],
   "source": [
    "# save the network to .npz file\n",
    "tl.files.save_npz(network.all_params, name='model.npz')\n",
    "sess.close()"
   ]
  },
  {
   "cell_type": "code",
   "execution_count": null,
   "metadata": {},
   "outputs": [],
   "source": []
  }
 ],
 "metadata": {
  "kernelspec": {
   "display_name": "Python 3",
   "language": "python",
   "name": "python3"
  },
  "language_info": {
   "codemirror_mode": {
    "name": "ipython",
    "version": 3
   },
   "file_extension": ".py",
   "mimetype": "text/x-python",
   "name": "python",
   "nbconvert_exporter": "python",
   "pygments_lexer": "ipython3",
   "version": "3.5.5"
  },
  "toc": {
   "base_numbering": 1,
   "nav_menu": {},
   "number_sections": true,
   "sideBar": true,
   "skip_h1_title": false,
   "title_cell": "Table of Contents",
   "title_sidebar": "Contents",
   "toc_cell": false,
   "toc_position": {},
   "toc_section_display": true,
   "toc_window_display": false
  }
 },
 "nbformat": 4,
 "nbformat_minor": 2
}
