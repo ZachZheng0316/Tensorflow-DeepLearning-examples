{
 "cells": [
  {
   "cell_type": "code",
   "execution_count": 1,
   "metadata": {
    "collapsed": true
   },
   "outputs": [],
   "source": [
    "import tensorflow as tf"
   ]
  },
  {
   "cell_type": "code",
   "execution_count": 5,
   "metadata": {},
   "outputs": [
    {
     "name": "stdout",
     "output_type": "stream",
     "text": [
      "[array([[ 1.,  2.]], dtype=float32)]\n",
      "[array([[ 2.],\n",
      "       [ 1.]], dtype=float32)]\n"
     ]
    }
   ],
   "source": [
    "# 建立一个变量\n",
    "w1 = tf.Variable(tf.constant([[1., 2.]]), name=\"w1\")\n",
    "w2 = tf.Variable(tf.constant([[2.], [1.]]), name=\"w2\")\n",
    "\n",
    "# 两个变量想成\n",
    "y = tf.matmul(w1, w2)\n",
    "z = tf.sigmoid(y)\n",
    "\n",
    "# 更新变量的值\n",
    "w1.assign(w1 + tf.constant([[1., 2.]]))\n",
    "w1.assign_add(tf.constant([[1., 2.]]))\n",
    "\n",
    "# 申请所有变量的初始化操作\n",
    "init_op = tf.global_variables_initializer()\n",
    "\n",
    "with tf.Session() as sess:\n",
    "    # 执行变量初始化操作\n",
    "    sess.run(init_op)\n",
    "    print(sess.run([w1]))\n",
    "    print(sess.run([w2]))\n",
    "    "
   ]
  },
  {
   "cell_type": "code",
   "execution_count": null,
   "metadata": {
    "collapsed": true
   },
   "outputs": [],
   "source": []
  }
 ],
 "metadata": {
  "kernelspec": {
   "display_name": "Python 3",
   "language": "python",
   "name": "python3"
  },
  "language_info": {
   "codemirror_mode": {
    "name": "ipython",
    "version": 3
   },
   "file_extension": ".py",
   "mimetype": "text/x-python",
   "name": "python",
   "nbconvert_exporter": "python",
   "pygments_lexer": "ipython3",
   "version": "3.5.4"
  }
 },
 "nbformat": 4,
 "nbformat_minor": 2
}
