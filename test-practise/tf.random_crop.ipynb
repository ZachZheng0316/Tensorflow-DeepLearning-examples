{
 "cells": [
  {
   "cell_type": "code",
   "execution_count": 1,
   "metadata": {
    "collapsed": true
   },
   "outputs": [],
   "source": [
    "import tensorflow as tf\n",
    "import numpy as np"
   ]
  },
  {
   "cell_type": "code",
   "execution_count": 3,
   "metadata": {},
   "outputs": [
    {
     "name": "stdout",
     "output_type": "stream",
     "text": [
      "distorted_image1:  [[[ 0.34415415]]]\n",
      "distorted_image1:  [[[ 0.65921026]]]\n"
     ]
    }
   ],
   "source": [
    "sess = tf.InteractiveSession()\n",
    "\n",
    "img = np.random.random(size=(5, 5, 3))\n",
    "\n",
    "# 变量初始化\n",
    "sess.run(tf.global_variables_initializer())\n",
    "\n",
    "# 调整数据类型\n",
    "reshape_image = tf.cast(img, tf.float32, name=None)\n",
    "\n",
    "# 随机剪裁\n",
    "distorted_image1 = tf.random_crop(value=reshape_image, size=[1, 1, 1])\n",
    "distorted_image2 = tf.random_crop(value=reshape_image, size=[1, 1, 1])\n",
    "\n",
    "# 输出剪裁后的值\n",
    "print(\"distorted_image1: \", distorted_image1.eval())\n",
    "print(\"distorted_image1: \", distorted_image2.eval())"
   ]
  },
  {
   "cell_type": "code",
   "execution_count": null,
   "metadata": {
    "collapsed": true
   },
   "outputs": [],
   "source": []
  }
 ],
 "metadata": {
  "kernelspec": {
   "display_name": "Python 3",
   "language": "python",
   "name": "python3"
  },
  "language_info": {
   "codemirror_mode": {
    "name": "ipython",
    "version": 3
   },
   "file_extension": ".py",
   "mimetype": "text/x-python",
   "name": "python",
   "nbconvert_exporter": "python",
   "pygments_lexer": "ipython3",
   "version": "3.5.4"
  }
 },
 "nbformat": 4,
 "nbformat_minor": 2
}
