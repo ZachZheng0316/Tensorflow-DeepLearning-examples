{
 "cells": [
  {
   "cell_type": "code",
   "execution_count": 2,
   "metadata": {
    "collapsed": true
   },
   "outputs": [],
   "source": [
    "import tensorflow as tf"
   ]
  },
  {
   "cell_type": "code",
   "execution_count": 3,
   "metadata": {},
   "outputs": [
    {
     "name": "stdout",
     "output_type": "stream",
     "text": [
      "mean:  [ 4.  5.  6.]\n",
      "variance:  [ 6.  6.  6.]\n",
      "data_bn: \n",
      " [[-1.44928563 -1.44928575 -1.44928551]\n",
      " [ 1.          1.          1.        ]\n",
      " [ 3.44928551  3.44928551  3.44928598]]\n"
     ]
    }
   ],
   "source": [
    "# 定义数据    feature:f1,  f2,  f3\n",
    "data = tf.constant([[1.0, 2.0, 3.0],   # sample1\n",
    "                    [4.0, 5.0, 6.0],   # sample2\n",
    "                    [7.0, 8.0, 9.0]])  # sample2\n",
    "\n",
    "mean, variance = tf.nn.moments(data, axes=[0])\n",
    "\n",
    "offset = 1.0\n",
    "scale = 2.0\n",
    "data_bn = tf.nn.batch_normalization(data, mean=mean, variance=variance,\n",
    "                                   offset=offset, scale=scale, variance_epsilon=0.001)\n",
    "\n",
    "with tf.Session() as sess:\n",
    "    print(\"mean: \", sess.run(mean))\n",
    "    print(\"variance: \", sess.run(variance))\n",
    "    print(\"data_bn: \\n\", sess.run(data_bn))"
   ]
  },
  {
   "cell_type": "code",
   "execution_count": null,
   "metadata": {
    "collapsed": true
   },
   "outputs": [],
   "source": []
  }
 ],
 "metadata": {
  "kernelspec": {
   "display_name": "Python 3",
   "language": "python",
   "name": "python3"
  },
  "language_info": {
   "codemirror_mode": {
    "name": "ipython",
    "version": 3
   },
   "file_extension": ".py",
   "mimetype": "text/x-python",
   "name": "python",
   "nbconvert_exporter": "python",
   "pygments_lexer": "ipython3",
   "version": "3.5.4"
  }
 },
 "nbformat": 4,
 "nbformat_minor": 2
}
