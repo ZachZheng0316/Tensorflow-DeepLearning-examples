{
 "cells": [
  {
   "cell_type": "code",
   "execution_count": 1,
   "metadata": {
    "collapsed": true
   },
   "outputs": [],
   "source": [
    "import tensorflow as tf"
   ]
  },
  {
   "cell_type": "markdown",
   "metadata": {},
   "source": [
    "#### 数字列特征"
   ]
  },
  {
   "cell_type": "code",
   "execution_count": 18,
   "metadata": {},
   "outputs": [
    {
     "name": "stdout",
     "output_type": "stream",
     "text": [
      "feature_tensor:  Tensor(\"input_layer_16/concat:0\", shape=(2, 16), dtype=float32)\n",
      "[array([[  8.,   8.,   8.,   8.,  12.,  12.,  12.,  12.,   1.,   1.,   1.,\n",
      "          1.,   4.,   4.,   4.,   4.],\n",
      "       [  9.,   9.,   9.,   9.,  13.,  13.,  13.,  13.,   2.,   2.,   2.,\n",
      "          2.,   5.,   5.,   5.,   5.]], dtype=float32)]\n"
     ]
    }
   ],
   "source": [
    "import tensorflow as tf\n",
    "# 特征列名\n",
    "feature_names = ['SepalLength', 'SepalWidth', 'PetalLength', 'PetalWidth']\n",
    "# 特征数据\n",
    "features = {'SepalLength':[[[1, 1], [1, 1]], [[2, 2], [2, 2]]],\n",
    "            'SepalWidth': [[[4, 4], [4, 4]], [[5, 5], [5, 5]]],\n",
    "            'PetalLength':[[[8, 8], [8, 8]], [[9, 9], [9, 9]]],\n",
    "            'PetalWidth': [[[12, 12], [12, 12]], [[13, 13], [13, 13]]]}\n",
    "# 定义函数\n",
    "def fn(x):\n",
    "    return x*1\n",
    "# 构建数字特征列结构\n",
    "feature_columns = [tf.feature_column.numeric_column(key=k,\n",
    "                                                    shape=[2,2],\n",
    "                                                    normalizer_fn=fn) for k in feature_names]\n",
    "# 使用input_layer获取输入层数据\n",
    "feature_tensor = tf.feature_column.input_layer(features=features, feature_columns=feature_columns)\n",
    "with tf.Session() as sess:\n",
    "    print(\"feature_tensor: \", feature_tensor)\n",
    "    print(sess.run([feature_tensor])) # 转化为array输出\n",
    "    "
   ]
  },
  {
   "cell_type": "markdown",
   "metadata": {},
   "source": [
    "#### 分区特征"
   ]
  },
  {
   "cell_type": "code",
   "execution_count": 20,
   "metadata": {},
   "outputs": [
    {
     "name": "stdout",
     "output_type": "stream",
     "text": [
      "feature_tensor: Tensor(\"input_layer_18/concat:0\", shape=(8, 4), dtype=float32)\n",
      "[array([[ 1.,  0.,  0.,  0.],\n",
      "       [ 0.,  1.,  0.,  0.],\n",
      "       [ 0.,  1.,  0.,  0.],\n",
      "       [ 0.,  0.,  1.,  0.],\n",
      "       [ 0.,  0.,  1.,  0.],\n",
      "       [ 0.,  0.,  1.,  0.],\n",
      "       [ 0.,  0.,  1.,  0.],\n",
      "       [ 0.,  0.,  0.,  1.]], dtype=float32)]\n"
     ]
    }
   ],
   "source": [
    "import tensorflow as tf\n",
    "\n",
    "# 特征数据\n",
    "features = {'Year': [1956, 1963, 1978, 1984, 1986, 1989, 1990, 2017]}\n",
    "\n",
    "# A numeric column for the raw input\n",
    "numric_feature_column = tf.feature_column.numeric_column(\"Year\")\n",
    "\n",
    "# Bucketize the numeric column on the years 1960,1980 and 2000\n",
    "bucketized_feature_column = tf.feature_column.bucketized_column(\n",
    "    source_column=numric_feature_column,\n",
    "    boundaries=[1960, 1980, 2000]) # 三边界元素创建一个四元素存储分区化矢量\n",
    "\n",
    "# 使用input_layer获取输入层数据\n",
    "feature_tensor = tf.feature_column.input_layer(\n",
    "        features=features, \n",
    "        feature_columns=bucketized_feature_column)\n",
    "\n",
    "with tf.Session() as sess:\n",
    "    print(\"feature_tensor:\", feature_tensor)\n",
    "    print(sess.run([feature_tensor]))"
   ]
  },
  {
   "cell_type": "markdown",
   "metadata": {},
   "source": [
    "#### 分类标识列"
   ]
  },
  {
   "cell_type": "markdown",
   "metadata": {},
   "source": [
    "#### 分类词汇列"
   ]
  },
  {
   "cell_type": "code",
   "execution_count": 4,
   "metadata": {},
   "outputs": [
    {
     "name": "stdout",
     "output_type": "stream",
     "text": [
      "[SparseTensorValue(indices=array([[0, 0],\n",
      "       [1, 0],\n",
      "       [2, 0],\n",
      "       [3, 0],\n",
      "       [4, 0]], dtype=int64), values=array([ 0,  1,  2,  3, -1], dtype=int64), dense_shape=array([5, 1], dtype=int64))]\n",
      "\n",
      "color_dense_tensor Tensor(\"input_layer_2/concat:0\", shape=(5, 4), dtype=float32)\n",
      "[array([[ 1.,  0.,  0.,  0.],\n",
      "       [ 0.,  1.,  0.,  0.],\n",
      "       [ 0.,  0.,  1.,  0.],\n",
      "       [ 0.,  0.,  0.,  1.],\n",
      "       [ 0.,  0.,  0.,  0.]], dtype=float32)]\n"
     ]
    }
   ],
   "source": [
    "import tensorflow as tf\n",
    "from tensorflow.python.estimator.inputs import numpy_io\n",
    "import numpy as np\n",
    "import collections\n",
    "from tensorflow.python.framework import errors\n",
    "from tensorflow.python.platform import test\n",
    "from tensorflow.python.training import coordinator\n",
    "from tensorflow import feature_column\n",
    "\n",
    "from tensorflow.python.feature_column.feature_column import _LazyBuilder\n",
    "\n",
    "# color_data = {'color': [['R', 'R'], ['G', 'R'], ['B', 'G'], ['A', 'A']]}  # 4行样本\n",
    "color_data = {'color':['R', 'G', 'B', 'A', 'C']}\n",
    "\n",
    "builder = _LazyBuilder(color_data)\n",
    "\n",
    "color_column = feature_column.categorical_column_with_vocabulary_list(\n",
    "        key='color', \n",
    "        vocabulary_list=['R', 'G', 'B', 'A'], \n",
    "        dtype=tf.string, \n",
    "        default_value=-1)\n",
    "\n",
    "color_column_tensor = color_column._get_sparse_tensors(builder)\n",
    "\n",
    "with tf.Session() as session:\n",
    "    session.run(tf.global_variables_initializer())\n",
    "    session.run(tf.tables_initializer())\n",
    "\n",
    "    print(session.run([color_column_tensor.id_tensor]))\n",
    "\n",
    "# 将稀疏的转换成dense，也就是one-hot形式，只是multi-hot\n",
    "color_column_identy = feature_column.indicator_column(color_column)\n",
    "color_dense_tensor = feature_column.input_layer(color_data, [color_column_identy])\n",
    "\n",
    "with tf.Session() as session:\n",
    "    session.run(tf.global_variables_initializer())\n",
    "    session.run(tf.tables_initializer())\n",
    "\n",
    "    print(\"\\ncolor_dense_tensor\", color_dense_tensor)\n",
    "    print(session.run([color_dense_tensor]))"
   ]
  },
  {
   "cell_type": "markdown",
   "metadata": {},
   "source": [
    "#### hash存储分区限制类别"
   ]
  },
  {
   "cell_type": "code",
   "execution_count": 6,
   "metadata": {},
   "outputs": [
    {
     "name": "stdout",
     "output_type": "stream",
     "text": [
      "[SparseTensorValue(indices=array([[0, 0],\n",
      "       [1, 0],\n",
      "       [2, 0],\n",
      "       [3, 0]], dtype=int64), values=array([3, 1, 3, 4], dtype=int64), dense_shape=array([4, 1], dtype=int64))]\n",
      "\n",
      "color_dense_tensor: Tensor(\"input_layer_4/concat:0\", shape=(4, 5), dtype=float32)\n",
      "[array([[ 0.,  0.,  0.,  1.,  0.],\n",
      "       [ 0.,  1.,  0.,  0.,  0.],\n",
      "       [ 0.,  0.,  0.,  1.,  0.],\n",
      "       [ 0.,  0.,  0.,  0.,  1.]], dtype=float32)]\n"
     ]
    }
   ],
   "source": [
    "import tensorflow as tf\n",
    "from tensorflow.python.estimator.inputs import numpy_io\n",
    "import numpy as np\n",
    "import collections\n",
    "from tensorflow.python.framework import errors\n",
    "from tensorflow.python.platform import test\n",
    "from tensorflow.python.training import coordinator\n",
    "from tensorflow import feature_column\n",
    "\n",
    "from tensorflow.python.feature_column.feature_column import _LazyBuilder\n",
    "\n",
    "color_data = {'color': [['R'], ['G'], ['B'], ['A']]}  # 4行样本\n",
    "\n",
    "builder = _LazyBuilder(color_data)\n",
    "\n",
    "color_column = feature_column.categorical_column_with_hash_bucket('color', 5)\n",
    "\n",
    "color_column_tensor = color_column._get_sparse_tensors(builder)\n",
    "\n",
    "with tf.Session() as session:\n",
    "    session.run(tf.global_variables_initializer())\n",
    "    session.run(tf.tables_initializer())\n",
    "\n",
    "    print(session.run([color_column_tensor.id_tensor]))\n",
    "\n",
    "# 将稀疏的转换成dense，也就是one-hot形式，只是multi-hot\n",
    "color_column_identy = feature_column.indicator_column(color_column)\n",
    "color_dense_tensor = feature_column.input_layer(color_data, [color_column_identy])\n",
    "\n",
    "with tf.Session() as session:\n",
    "    session.run(tf.global_variables_initializer())\n",
    "    session.run(tf.tables_initializer())\n",
    "\n",
    "    print(\"\\ncolor_dense_tensor:\", color_dense_tensor)\n",
    "    print(session.run([color_dense_tensor]))"
   ]
  },
  {
   "cell_type": "markdown",
   "metadata": {},
   "source": [
    "上述结果为什么不是<font color=red>一个样例占据唯一的一行</font>"
   ]
  },
  {
   "cell_type": "markdown",
   "metadata": {},
   "source": [
    "#### 交叉特征\n",
    "\n",
    "组合特征，这仅仅适用于sparser特征.产生的依然是sparsor特征."
   ]
  },
  {
   "cell_type": "code",
   "execution_count": 13,
   "metadata": {},
   "outputs": [
    {
     "name": "stdout",
     "output_type": "stream",
     "text": [
      "p_x_c_idengty_dense_tensor: Tensor(\"input_layer_11/concat:0\", shape=(?, 8), dtype=float32)\n",
      "[array([[ 1.,  0.,  0.,  0.,  0.,  0.,  0.,  0.],\n",
      "       [ 0.,  1.,  0.,  0.,  0.,  0.,  0.,  0.],\n",
      "       [ 0.,  0.,  0.,  1.,  0.,  0.,  0.,  0.],\n",
      "       [ 0.,  0.,  0.,  0.,  1.,  0.,  0.,  0.]], dtype=float32)]\n"
     ]
    }
   ],
   "source": [
    "featrues = {'price': ['A', 'B', 'C', 'D'],\n",
    "            'color': ['R', 'G', 'B', 'G']}\n",
    "\n",
    "price = feature_column.categorical_column_with_vocabulary_list(\n",
    "    'price',['A', 'B', 'C', 'D'])\n",
    "color = feature_column.categorical_column_with_vocabulary_list(\n",
    "    'color',['R', 'G', 'B'])\n",
    "\n",
    "p_x_c = feature_column.crossed_column([price, color], 8)\n",
    "\n",
    "p_x_c_identy = feature_column.indicator_column(p_x_c)\n",
    "\n",
    "p_x_c_identy_dense_tensor = feature_column.input_layer(featrues, [p_x_c_identy])\n",
    "\n",
    "with tf.Session() as session:\n",
    "    session.run(tf.global_variables_initializer())\n",
    "    session.run(tf.tables_initializer())\n",
    "\n",
    "    print(\"p_x_c_idengty_dense_tensor:\", p_x_c_identy_dense_tensor)\n",
    "    print(session.run([p_x_c_identy_dense_tensor]))"
   ]
  },
  {
   "cell_type": "markdown",
   "metadata": {},
   "source": [
    "<font color=red>为什么显示的是4个样例</font>"
   ]
  },
  {
   "cell_type": "markdown",
   "metadata": {},
   "source": [
    "#### 指示器列"
   ]
  },
  {
   "cell_type": "code",
   "execution_count": 15,
   "metadata": {},
   "outputs": [
    {
     "name": "stdout",
     "output_type": "stream",
     "text": [
      "color_embeding_dense_tensor: Tensor(\"input_layer_13/concat:0\", shape=(?, 3), dtype=float32)\n",
      "[array([[-0.57735389, -0.34033021,  1.12373018],\n",
      "       [-0.01710446,  0.29519728, -0.04550294],\n",
      "       [ 0.52143204,  0.03952279, -0.55294937],\n",
      "       [ 0.        ,  0.        ,  0.        ]], dtype=float32)]\n"
     ]
    }
   ],
   "source": [
    " color_data = {'color': [['R'], ['G'], ['B'], ['A']]}  # 4行样本\n",
    "\n",
    "color_column = feature_column.categorical_column_with_vocabulary_list(\n",
    "        'color', ['R', 'G', 'B'], \n",
    "        dtype=tf.string, \n",
    "        default_value=-1)\n",
    "\n",
    "color_embeding = feature_column.embedding_column(color_column, 3)\n",
    "color_embeding_dense_tensor = feature_column.input_layer(color_data, [color_embeding])\n",
    "\n",
    "with tf.Session() as session:\n",
    "    session.run(tf.global_variables_initializer())\n",
    "    session.run(tf.tables_initializer())\n",
    "\n",
    "    print(\"color_embeding_dense_tensor:\", color_embeding_dense_tensor)\n",
    "    print(session.run([color_embeding_dense_tensor]))"
   ]
  },
  {
   "cell_type": "code",
   "execution_count": null,
   "metadata": {
    "collapsed": true
   },
   "outputs": [],
   "source": []
  }
 ],
 "metadata": {
  "kernelspec": {
   "display_name": "Python 3",
   "language": "python",
   "name": "python3"
  },
  "language_info": {
   "codemirror_mode": {
    "name": "ipython",
    "version": 3
   },
   "file_extension": ".py",
   "mimetype": "text/x-python",
   "name": "python",
   "nbconvert_exporter": "python",
   "pygments_lexer": "ipython3",
   "version": "3.5.4"
  }
 },
 "nbformat": 4,
 "nbformat_minor": 2
}
