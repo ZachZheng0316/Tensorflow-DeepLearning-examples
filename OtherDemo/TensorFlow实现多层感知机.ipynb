{
 "cells": [
  {
   "cell_type": "markdown",
   "metadata": {},
   "source": [
    "# TensorFlow实现多层感知机"
   ]
  },
  {
   "cell_type": "code",
   "execution_count": 1,
   "metadata": {
    "collapsed": true
   },
   "outputs": [],
   "source": [
    "# 加载库文件\n",
    "import tensorflow as tf\n",
    "from tensorflow.examples.tutorials.mnist import input_data"
   ]
  },
  {
   "cell_type": "code",
   "execution_count": 2,
   "metadata": {},
   "outputs": [
    {
     "name": "stdout",
     "output_type": "stream",
     "text": [
      "Extracting ../datasets/MNIST_data\\train-images-idx3-ubyte.gz\n",
      "Extracting ../datasets/MNIST_data\\train-labels-idx1-ubyte.gz\n",
      "Extracting ../datasets/MNIST_data\\t10k-images-idx3-ubyte.gz\n",
      "Extracting ../datasets/MNIST_data\\t10k-labels-idx1-ubyte.gz\n"
     ]
    }
   ],
   "source": [
    "# 加载数据\n",
    "mnist = input_data.read_data_sets(\"../datasets/MNIST_data\", one_hot=True)"
   ]
  },
  {
   "cell_type": "code",
   "execution_count": 3,
   "metadata": {
    "collapsed": true
   },
   "outputs": [],
   "source": [
    "# 定义默认的会话框\n",
    "sess = tf.InteractiveSession()"
   ]
  },
  {
   "cell_type": "code",
   "execution_count": 4,
   "metadata": {
    "scrolled": false
   },
   "outputs": [
    {
     "name": "stdout",
     "output_type": "stream",
     "text": [
      "0.9628\n"
     ]
    }
   ],
   "source": [
    "# 构建计算图\n",
    "# 定义参数\n",
    "# W1、b1是隐含层的权重和偏置，我们将偏置全部置于0，并将权重初始化为截断的正太分布，其标准差为0.1\n",
    "# 这一步可以通过tf.truncated_normal方便的实现。因为模型使用的激活函数是ReLU,所以需要\n",
    "# 使用正太分布给参数加一点噪声，来打破完全对称并且避免0梯度。在其他一些模型中，有时还需要\n",
    "# 给偏置项加上一些小的非零来避免dead neuron(死亡神经元)，不过这里作用不太明显。\n",
    "# 而对最后输出层的Softmax，直接将权重W2和偏置b2全部初始化为0即可\n",
    "in_units = 784\n",
    "h1_units = 300\n",
    "W1 = tf.Variable(tf.truncated_normal([in_units, h1_units], stddev=0.1))\n",
    "b1 = tf.Variable(tf.zeros([h1_units]))\n",
    "W2 = tf.Variable(tf.zeros([h1_units, 10]))\n",
    "b2 = tf.Variable(tf.zeros([10]))\n",
    "\n",
    "# Drop_out的比率keep_prob(即保留节点的概率)是不一样的，通常训练时小于1，\n",
    "# 而预测时则等于1，所有把dropout也加入计算图，并定义为一个placeholder\n",
    "keep_prob = tf.placeholder(tf.float32)\n",
    "x = tf.placeholder(tf.float32, [None, in_units]) # 构建输入数据\n",
    "y_ = tf.placeholder(tf.float32, [None, 10]) # 构建输出数据\n",
    "global_step = tf.Variable(0, trainable=False, dtype=tf.int64)\n",
    "\n",
    "# 构建前馈计算图\n",
    "hidden1 = tf.nn.relu(tf.matmul(x, W1) + b1)\n",
    "hidden1_drop = tf.nn.dropout(hidden1, keep_prob)\n",
    "y = tf.nn.softmax(tf.matmul(hidden1_drop, W2) + b2)\n",
    "\n",
    "# 构建算损失函数\n",
    "cross_entropy = tf.reduce_mean(-tf.reduce_sum(y_ * tf.log(y),\n",
    "                              reduction_indices = [1]))\n",
    "train_step = tf.train.AdagradOptimizer(0.3).minimize(cross_entropy)\n",
    "\n",
    "\n",
    "# 进行迭代\n",
    "tf.global_variables_initializer().run()\n",
    "for i in range(300):\n",
    "    batch_xs, batch_ys = mnist.train.next_batch(500)\n",
    "    train_step.run({x: batch_xs, y_:batch_ys, keep_prob:0.75})\n",
    "    \n",
    "# 进行预测\n",
    "correct_prediction =tf.equal(tf.argmax(y, 1), tf.argmax(y_, 1))\n",
    "accuracy = tf.reduce_mean(tf.cast(correct_prediction, tf.float32))\n",
    "print(accuracy.eval({x: mnist.test.images, y_:mnist.test.labels, keep_prob: 1.0}))"
   ]
  }
 ],
 "metadata": {
  "kernelspec": {
   "display_name": "Python 3",
   "language": "python",
   "name": "python3"
  },
  "language_info": {
   "codemirror_mode": {
    "name": "ipython",
    "version": 3
   },
   "file_extension": ".py",
   "mimetype": "text/x-python",
   "name": "python",
   "nbconvert_exporter": "python",
   "pygments_lexer": "ipython3",
   "version": "3.5.4"
  }
 },
 "nbformat": 4,
 "nbformat_minor": 2
}
