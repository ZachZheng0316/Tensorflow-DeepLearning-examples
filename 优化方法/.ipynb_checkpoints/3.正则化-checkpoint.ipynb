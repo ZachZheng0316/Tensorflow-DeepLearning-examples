{
 "cells": [
  {
   "cell_type": "markdown",
   "metadata": {},
   "source": [
    "#### 1.生成模拟数据集"
   ]
  },
  {
   "cell_type": "code",
   "execution_count": 12,
   "metadata": {
    "collapsed": true
   },
   "outputs": [],
   "source": [
    "import tensorflow as tf\n",
    "import matplotlib.pyplot as plt\n",
    "import numpy as np"
   ]
  },
  {
   "cell_type": "code",
   "execution_count": 13,
   "metadata": {},
   "outputs": [
    {
     "data": {
      "image/png": "[encoded data removed]",
      "text/plain": [
       "<matplotlib.figure.Figure at 0x25c2bf7afd0>"
      ]
     },
     "metadata": {},
     "output_type": "display_data"
    }
   ],
   "source": [
    "data = []\n",
    "label = []\n",
    "np.random.seed(0)\n",
    "\n",
    "# 以原点为圆心，半径为1的圆把散点划分成红蓝两部分，并加入随机噪音\n",
    "for i in range(150):\n",
    "    # 从均匀分布中抽取样本\n",
    "    x1 = np.random.uniform(-1, 1)\n",
    "    x2 = np.random.uniform(0, 2)\n",
    "    if x1**2 + x2**2 <= 1:\n",
    "        # 从正太分布中抽取样本\n",
    "        data.append([np.random.normal(x1, 0.1), np.random.normal(x2, 0.1)])\n",
    "        label.append(0)\n",
    "    else:\n",
    "        data.append([np.random.normal(x1, 0.1), np.random.normal(x2, 0.1)])\n",
    "        label.append(1)\n",
    "\n",
    "# 按水平顺序堆叠列表，并调整shape\n",
    "data = np.hstack(data).reshape(-1, 2)\n",
    "label = np.hstack(label).reshape(-1, 1)\n",
    "\n",
    "# 绘制散点图\n",
    "plt.scatter(x=data[:, 0], \n",
    "            y=data[:, 1], \n",
    "            c=label, \n",
    "            cmap=\"RdBu\", \n",
    "            vmin=-0.2, \n",
    "            vmax=1.2, \n",
    "            edgecolors=\"white\")\n",
    "plt.show()"
   ]
  },
  {
   "cell_type": "markdown",
   "metadata": {
    "collapsed": true
   },
   "source": [
    "#### 2.定义一个权重，并自动加入正则项到损失函数"
   ]
  },
  {
   "cell_type": "code",
   "execution_count": 14,
   "metadata": {
    "collapsed": true
   },
   "outputs": [],
   "source": [
    "def get_weight(shape, lambda1):\n",
    "    # 生成一个变量\n",
    "    var = tf.Variable(tf.random_normal(shape), dtype=tf.float32)\n",
    "    \n",
    "    # add_to_collection函数将这个新生成的变量的L2正则化加入集合\n",
    "    # 这个函数的第一个参数\"losses\"是集合的名字，第二个参数是要加入这个集合的任务\n",
    "    tf.add_to_collection(\"loss\", tf.contrib.layers.l2_regularizer(lambda1)(var))\n",
    "    \n",
    "    # 返回生成的变量\n",
    "    return var"
   ]
  },
  {
   "cell_type": "code",
   "execution_count": 15,
   "metadata": {
    "collapsed": true
   },
   "outputs": [],
   "source": [
    "x = tf.placeholder(tf.float32, shape=(None, 2))\n",
    "y_ = tf.placeholder(tf.float32, shape=(None, 1))\n",
    "sample_size = len(data)\n",
    "\n",
    "layer_dimension = [2, 10, 5, 3, 1] # 每层节点数\n",
    "n_layers = len(layer_dimension) # 神经网络的层数\n",
    "cur_layer = x  # 神经网络当前层的输出值\n",
    "in_dimension = layer_dimension[0] # 输入层的个数\n",
    "\n",
    "# 循环生成网络结构\n",
    "for i in range(1, n_layers):\n",
    "    # 输出层的节点数\n",
    "    out_dimension = layer_dimension[i] \n",
    "    weight = get_weight([in_dimension, out_dimension], 0.003)\n",
    "    bias = tf.Variable(tf.constant(0.1, shape=[out_dimension]))\n",
    "    cur_layer = tf.nn.elu(tf.matmul(cur_layer, weight) + bias)\n",
    "    in_dimension = layer_dimension[i]\n",
    "    \n",
    "y = cur_layer\n",
    "\n",
    "# 损失函数的定义\n",
    "mse_loss = tf.reduce_sum(tf.pow(y_ - y, 2))/sample_size\n",
    "tf.add_to_collection(\"losses\", mse_loss)\n",
    "loss = tf.add_n(tf.get_collection(\"losses\"))"
   ]
  },
  {
   "cell_type": "code",
   "execution_count": null,
   "metadata": {
    "collapsed": true
   },
   "outputs": [],
   "source": [
    "# 定义训练的目标函数mse_loss, 训练次数以及训练模型\n",
    "train_op = tf.train.AdamOptimizer(0.001).minimize(mse_loss)\n",
    "TRAINING_STEPS = 40000\n",
    "\n",
    "# 定义会话\n",
    "config = tf.ConfigProto(allow_soft_placement=True)\n",
    "with tf.Session(config=config) as sess:\n",
    "    # 变量初始化\n",
    "    tf.global_variables_initializer().run()\n",
    "    \n",
    "    # 训练\n",
    "    for i in range(TRAINING_STEPS):\n",
    "        sess.run(train_op, feed_dict={x: data, y_:label})\n",
    "        if i % 2000 == 0:\n",
    "            mse_loss_value = sess.run(mse_loss, feed_dict={x: data, y_:label})\n",
    "            print(\"Afetr %d steps, mse_loss: %f\" % (i, mse_loss_value))\n",
    "    \n",
    "    # 画出训练后的分割线\n",
    "    xx, yy = np.mgrid[-1.2:1.2:0.01, -0.2:2.2:0.01]\n",
    "    grid = np.c_[xx.ravl(), yy.ravel()]\n",
    "    probs = sess.run(y, feed_dict={x:grid})\n",
    "    probs = probs.reshape(xx.shape)\n",
    "    \n",
    "# 画出散点图\n",
    "plt.scatter(data[:,0], data[:,1], c=label, \n",
    "            cmap=\"RdBu\", vmin=-0.2, vmax=1.2, edgecolor=\"white\")\n",
    "# 画出分界线\n",
    "plt.contour(xx, yy, probs, levels=[.5], cmap=\"Greys\", vmin=0, vmax=0.1)\n",
    "\n",
    "# 显示图片\n",
    "plt.show()"
   ]
  },
  {
   "cell_type": "code",
   "execution_count": 6,
   "metadata": {},
   "outputs": [
    {
     "name": "stdout",
     "output_type": "stream",
     "text": [
      "[[[0 0 0 0 0]\n",
      "  [1 1 1 1 1]\n",
      "  [2 2 2 2 2]\n",
      "  [3 3 3 3 3]\n",
      "  [4 4 4 4 4]]\n",
      "\n",
      " [[0 1 2 3 4]\n",
      "  [0 1 2 3 4]\n",
      "  [0 1 2 3 4]\n",
      "  [0 1 2 3 4]\n",
      "  [0 1 2 3 4]]]\n",
      "[ 0.   0.2  0.4  0.6  0.8]\n"
     ]
    }
   ],
   "source": [
    "# np.mgrid的用法\n",
    "# 产生多维格点数据\n",
    "\n",
    "print(np.mgrid[0:5, 0:5])\n",
    "print(np.mgrid[0:1:0.2])"
   ]
  },
  {
   "cell_type": "code",
   "execution_count": null,
   "metadata": {
    "collapsed": true
   },
   "outputs": [],
   "source": [
    "# numpy.ravel() vs numpy.flatten()\n",
    "# 两者的功能都是将多维数组转化为一维，两者的区别在于是返回视图还是返回拷贝；\n",
    "# ravel()返回的时视图，flatten()返回的是拷贝\n",
    "\n",
    "# 两者的功能\n",
    ">>> x = np.array([[1, 2], [3, 4]])\n",
    ">>> x\n",
    "array([[1, 2],\n",
    "       [3, 4]])\n",
    ">>> x.flatten()\n",
    "array([1, 2, 3, 4])\n",
    ">>> x.ravel()\n",
    "array([1, 2, 3, 4])\n",
    "                    两者默认均是行序优先\n",
    ">>> x.flatten('F')\n",
    "array([1, 3, 2, 4])\n",
    ">>> x.ravel('F')\n",
    "array([1, 3, 2, 4])\n",
    "\n",
    ">>> x.reshape(-1)\n",
    "array([1, 2, 3, 4])\n",
    ">>> x.T.reshape(-1)\n",
    "array([1, 3, 2, 4])\n",
    "\n",
    "# 两者的区别\n",
    ">>> x = np.array([[1, 2], [3, 4]])\n",
    ">>> x.flatten()[1] = 100\n",
    ">>> x\n",
    "array([[1, 2],\n",
    "       [3, 4]])            # flatten：返回的是拷贝\n",
    ">>> x.ravel()[1] = 100\n",
    ">>> x\n",
    "array([[  1, 100],\n",
    "       [  3,   4]])"
   ]
  },
  {
   "cell_type": "code",
   "execution_count": null,
   "metadata": {
    "collapsed": true
   },
   "outputs": [],
   "source": [
    "# numpy.c_[]的用法\n",
    "# 将切片对象转化为第二个对象的连接\n",
    ">>> np.c_[np.array([1,2,3]), np.array([4,5,6])]\n",
    "array([[1, 4],\n",
    "       [2, 5],\n",
    "       [3, 6]])\n",
    ">>> np.c_[np.array([[1,2,3]]), 0, 0, np.array([[4,5,6]])]\n",
    "array([[1, 2, 3, 0, 0, 4, 5, 6]])"
   ]
  },
  {
   "cell_type": "code",
   "execution_count": null,
   "metadata": {
    "collapsed": true
   },
   "outputs": [],
   "source": [
    "# plt.contor()绘制轮廓"
   ]
  }
 ],
 "metadata": {
  "kernelspec": {
   "display_name": "Python 3",
   "language": "python",
   "name": "python3"
  },
  "language_info": {
   "codemirror_mode": {
    "name": "ipython",
    "version": 3
   },
   "file_extension": ".py",
   "mimetype": "text/x-python",
   "name": "python",
   "nbconvert_exporter": "python",
   "pygments_lexer": "ipython3",
   "version": "3.5.4"
  }
 },
 "nbformat": 4,
 "nbformat_minor": 2
}
