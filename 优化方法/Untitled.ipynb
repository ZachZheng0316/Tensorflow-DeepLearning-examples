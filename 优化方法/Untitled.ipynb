{
 "cells": [
  {
   "cell_type": "code",
   "execution_count": null,
   "metadata": {},
   "outputs": [],
   "source": [
    "import numpy as np\n",
    "import tensorflow as tf\n",
    "from numpy.random import RandomState"
   ]
  },
  {
   "cell_type": "code",
   "execution_count": null,
   "metadata": {},
   "outputs": [],
   "source": [
    "rdm = RandomState(1)\n",
    "M = 64\n",
    "Batch_Size = 2\n",
    "train_X = rdm.rand(2, M) # shape:[2, m]\n",
    "train_Y = [[x1+x2+(rdm.rand()/10.0-0.05)] for (x1, x2) in train_X.T]\n",
    "train_Y = np.array(train_Y).reshape(1, -1)\n",
    "\n",
    "Place_X = tf.placeholder(tf.float32, shape=(2, None), name='X-input')\n",
    "Place_Y = tf.placeholder(tf.float32, shape=(1, None), name=\"Y-input\")\n",
    "\n",
    "result = tf.add(Place_X, Place_Y)\n",
    "\n",
    "with tf.Session() as sess:\n",
    "    \n",
    "    for i in range(2):\n",
    "        start = (i*Batch_Size) % M\n",
    "        end = start + Batch_Size\n",
    "        if end >= M:\n",
    "            end = M\n",
    "\n",
    "        x, y = sess.run(fetches=[Place_X, Place_Y], feed_dict={Place_X: train_X[:, start:end], Place_Y: train_Y[:, start:end]})\n",
    "        \n",
    "        \n",
    "        print(\"Place_X:{}\".format(x))\n",
    "        print(\"Place_Y:{}\".format(y))"
   ]
  },
  {
   "cell_type": "code",
   "execution_count": null,
   "metadata": {},
   "outputs": [],
   "source": []
  }
 ],
 "metadata": {
  "kernelspec": {
   "display_name": "Python 3",
   "language": "python",
   "name": "python3"
  },
  "language_info": {
   "codemirror_mode": {
    "name": "ipython",
    "version": 3
   },
   "file_extension": ".py",
   "mimetype": "text/x-python",
   "name": "python",
   "nbconvert_exporter": "python",
   "pygments_lexer": "ipython3",
   "version": "3.5.5"
  },
  "toc": {
   "base_numbering": 1,
   "nav_menu": {},
   "number_sections": true,
   "sideBar": true,
   "skip_h1_title": false,
   "title_cell": "Table of Contents",
   "title_sidebar": "Contents",
   "toc_cell": false,
   "toc_position": {},
   "toc_section_display": true,
   "toc_window_display": false
  }
 },
 "nbformat": 4,
 "nbformat_minor": 2
}
