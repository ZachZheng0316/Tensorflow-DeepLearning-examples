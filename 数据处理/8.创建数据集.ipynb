{
 "cells": [
  {
   "cell_type": "markdown",
   "metadata": {
    "toc": true
   },
   "source": [
    "<h1>Table of Contents<span class=\"tocSkip\"></span></h1>\n",
    "<div class=\"toc\"><ul class=\"toc-item\"><li><span><a href=\"#创建数据集\" data-toc-modified-id=\"创建数据集-1\"><span class=\"toc-item-num\">1&nbsp;&nbsp;</span>创建数据集</a></span><ul class=\"toc-item\"><li><span><a href=\"#从数据数组创建数据集\" data-toc-modified-id=\"从数据数组创建数据集-1.1\"><span class=\"toc-item-num\">1.1&nbsp;&nbsp;</span>从数据数组创建数据集</a></span></li><li><span><a href=\"#读取文本文件里的数据\" data-toc-modified-id=\"读取文本文件里的数据-1.2\"><span class=\"toc-item-num\">1.2&nbsp;&nbsp;</span>读取文本文件里的数据</a></span></li><li><span><a href=\"#从TFRecord文件中获取数据\" data-toc-modified-id=\"从TFRecord文件中获取数据-1.3\"><span class=\"toc-item-num\">1.3&nbsp;&nbsp;</span>从TFRecord文件中获取数据</a></span></li><li><span><a href=\"#使用initializable_iterator来动态创建数据集\" data-toc-modified-id=\"使用initializable_iterator来动态创建数据集-1.4\"><span class=\"toc-item-num\">1.4&nbsp;&nbsp;</span>使用initializable_iterator来动态创建数据集</a></span></li></ul></li><li><span><a href=\"#参考资料\" data-toc-modified-id=\"参考资料-2\"><span class=\"toc-item-num\">2&nbsp;&nbsp;</span>参考资料</a></span></li></ul></div>"
   ]
  },
  {
   "cell_type": "markdown",
   "metadata": {},
   "source": [
    "# 创建数据集\n",
    "\n",
    "创建数据集的步骤一般如下:\n",
    "    \n",
    "1. 建立原始数据\n",
    "2. 把原始数据转化为数据集\n",
    "3. 建立迭代器\n",
    "4. 获取数据"
   ]
  },
  {
   "cell_type": "markdown",
   "metadata": {},
   "source": [
    "## 从数据数组创建数据集"
   ]
  },
  {
   "cell_type": "code",
   "execution_count": 1,
   "metadata": {
    "collapsed": true
   },
   "outputs": [],
   "source": [
    "import tempfile # 加载临时文件(夹)操作\n",
    "import tensorflow as tf"
   ]
  },
  {
   "cell_type": "code",
   "execution_count": null,
   "metadata": {
    "collapsed": true
   },
   "outputs": [],
   "source": [
    "input_data = [1, 2, 3, 4, 5, 6, 7, 8]\n",
    "dataset = tf.data.Dataset.from_tensor_slices(input_data)\n",
    "\n",
    "# 定义迭代器\n",
    "iterator = dataset.make_one_shot_iterator()\n",
    "\n",
    "# get_next()返回代表一个输入数据的张量\n",
    "x = iterator.get_next()\n",
    "y = x * x\n",
    "\n",
    "with tf.Session() as sess:\n",
    "    for i in range(len(input_data)):\n",
    "        print(sess.run(y), end=\" \")"
   ]
  },
  {
   "cell_type": "markdown",
   "metadata": {},
   "source": [
    "## 读取文本文件里的数据"
   ]
  },
  {
   "cell_type": "code",
   "execution_count": null,
   "metadata": {
    "collapsed": true
   },
   "outputs": [],
   "source": [
    "# 创建文本问津作为本例的输入\n",
    "with open(\"../../../other/test1.txt\", \"w\") as file:\n",
    "    file.write(\"File1, line1.\\n\")\n",
    "    file.write(\"File2, line2.\\n\")\n",
    "with open(\"../../../other/test2.txt\", \"w\") as file:\n",
    "    file.write(\"File2, line1.\\n\")\n",
    "    file.write(\"File2, line2.\\n\")\n",
    "    \n",
    "# 从文本文件创建数据集。这里看可以提供多个文件\n",
    "input_files = ['../../../other/test1.txt', '../../../other/test2.txt']\n",
    "dataset = tf.data.TextLineDataset(input_files)\n",
    "\n",
    "# 定义迭代器\n",
    "iterator = dataset.make_one_shot_iterator()\n",
    "\n",
    "# 这里get_text()返回一个字符型类型的张量, 代表文件中的一行\n",
    "x = iterator.get_next()\n",
    "with tf.Session() as sess:\n",
    "    for i in range(4):\n",
    "        print(sess.run(x), end=\" \")"
   ]
  },
  {
   "cell_type": "markdown",
   "metadata": {},
   "source": [
    "## 从TFRecord文件中获取数据"
   ]
  },
  {
   "cell_type": "code",
   "execution_count": 2,
   "metadata": {},
   "outputs": [
    {
     "name": "stdout",
     "output_type": "stream",
     "text": [
      "0 1 2 3 4 0 1 2 3 4 "
     ]
    }
   ],
   "source": [
    "# 解析一个TFRecord的方法\n",
    "def parser(serialized_example):\n",
    "    feature_i = tf.FixedLenFeature([], tf.int64)\n",
    "    feature_j = tf.FixedLenFeature([], tf.int64)\n",
    "    features_map = {'i': feature_i, \"j\": feature_j}\n",
    "    features = tf.parse_single_example(serialized_example, features=features_map)\n",
    "    \n",
    "    example, label = features['i'], features['j']\n",
    "    \n",
    "    return example, label\n",
    "\n",
    "# 从TFRecord文件创建数据集。这里可以提供多个文件\n",
    "input_files = [\"../../../other/test/data.tfrecords-00000-of-00010\",\n",
    "               \"../../../other/test/data.tfrecords-00001-of-00010\",\n",
    "               \"../../../other/test/data.tfrecords-00002-of-00010\"\n",
    "               \"../../../other/test/data.tfrecords-00003-of-00010\"\n",
    "               \"../../../other/test/data.tfrecords-00004-of-00010\"\n",
    "               \"../../../other/test/data.tfrecords-00005-of-00010\"]\n",
    "dataset = tf.data.TFRecordDataset(input_files)\n",
    "\n",
    "# map()函数表示对数据集中每一条数据进行调用解析方法\n",
    "dataset = dataset.map(parser)\n",
    "\n",
    "# 定义遍历数据集的迭代器\n",
    "iterator = dataset.make_one_shot_iterator()\n",
    "\n",
    "# 读取数据, 可用于进一步计算\n",
    "example, label = iterator.get_next()\n",
    "\n",
    "with tf.Session() as sess:\n",
    "    for i in range(10):\n",
    "        x, y =  sess.run([example, label])\n",
    "        print(y, end=\" \")"
   ]
  },
  {
   "cell_type": "markdown",
   "metadata": {},
   "source": [
    "## 使用initializable_iterator来动态创建数据集"
   ]
  },
  {
   "cell_type": "code",
   "execution_count": 3,
   "metadata": {},
   "outputs": [],
   "source": [
    "# 从TFRecord文件创建数据集，具体文件路径是一个placeholer, 稍后提供具体地址\n",
    "input_files = tf.placeholder(tf.string)\n",
    "dataset = tf.data.TFRecordDataset(input_files)\n",
    "dataset = dataset.map(parser)\n",
    "\n",
    "# 定义遍历dataset的initializable_iterator\n",
    "iterator = dataset.make_initializable_iterator()\n",
    "example, label = iterator.get_next()\n",
    "\n",
    "with tf.Session() as sess:\n",
    "    # 首先初始化iterator, 并给出input_files的值\n",
    "    sess.run(iterator.initializer, feed_dict={input_files: [\"../../../other/test/data.tfrecords-00000-of-00010\"]})\n",
    "    \n",
    "    # 遍历所有数据一个epoch.当遍历结束时, 程序会抛出OutOfRangeError\n",
    "    while True:\n",
    "        try:\n",
    "            x, y = sess.run([example, label])\n",
    "        except tf.errors.OutOfRangeError:\n",
    "            break"
   ]
  },
  {
   "cell_type": "markdown",
   "metadata": {},
   "source": [
    "# 参考资料\n",
    "\n",
    "1. github"
   ]
  }
 ],
 "metadata": {
  "kernelspec": {
   "display_name": "Python 3",
   "language": "python",
   "name": "python3"
  },
  "language_info": {
   "codemirror_mode": {
    "name": "ipython",
    "version": 3
   },
   "file_extension": ".py",
   "mimetype": "text/x-python",
   "name": "python",
   "nbconvert_exporter": "python",
   "pygments_lexer": "ipython3",
   "version": "3.5.4"
  },
  "toc": {
   "base_numbering": 1,
   "nav_menu": {},
   "number_sections": true,
   "sideBar": true,
   "skip_h1_title": false,
   "title_cell": "Table of Contents",
   "title_sidebar": "Contents",
   "toc_cell": true,
   "toc_position": {},
   "toc_section_display": true,
   "toc_window_display": false
  }
 },
 "nbformat": 4,
 "nbformat_minor": 2
}
