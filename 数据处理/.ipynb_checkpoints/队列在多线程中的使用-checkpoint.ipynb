{
 "cells": [
  {
   "cell_type": "markdown",
   "metadata": {
    "toc": true
   },
   "source": [
    "<h1>Table of Contents<span class=\"tocSkip\"></span></h1>\n",
    "<div class=\"toc\"><ul class=\"toc-item\"><li><span><a href=\"#队列在多线程中的使用\" data-toc-modified-id=\"队列在多线程中的使用-1\"><span class=\"toc-item-num\">1&nbsp;&nbsp;</span>队列在多线程中的使用</a></span><ul class=\"toc-item\"><li><span><a href=\"#tf.Coordinator\" data-toc-modified-id=\"tf.Coordinator-1.1\"><span class=\"toc-item-num\">1.1&nbsp;&nbsp;</span>tf.Coordinator</a></span></li><li><span><a href=\"#tf.QueueRunner\" data-toc-modified-id=\"tf.QueueRunner-1.2\"><span class=\"toc-item-num\">1.2&nbsp;&nbsp;</span>tf.QueueRunner</a></span></li></ul></li></ul></div>"
   ]
  },
  {
   "cell_type": "markdown",
   "metadata": {},
   "source": [
    "# 队列在多线程中的使用\n",
    "\n",
    "多线程可以同时向一个队列中写入元素，或者同时读取一个队列的元素。\n",
    "\n",
    "TensorFlow 提供了 `tf.Coordinator` 和 `tf.QueueRunner` 两个类来完成多线程协同的功能。"
   ]
  },
  {
   "cell_type": "markdown",
   "metadata": {},
   "source": [
    "## tf.Coordinator\n",
    "\n",
    "`tf.Coordinator` 主要用于协同多个线程一起停止，并提供了 `should_stop`、`request_stop` 和 `join` 三个函数。`tf.Coordinator` 使用流程如下:\n",
    "\n",
    "1. 申明一个`tf.Coordinator`类, 并将这个类传入每一个创建的线程中;\n",
    "2. 启动线程时，需要一直查询`tf.Coordinator`类中提供的`tf.should_stop`函数, 当这个函数返回值为 `True` 时, 则当前线程也要退出;\n",
    "3. 每一个启动的线程都可以通过调用`request_stop`函数来通知其他线程退出;当某一个线程调用`request_stop`函数之后, `should_stop`函数的返回值将被设置为`True`,这样其他的线程就可以同时终止了。"
   ]
  },
  {
   "cell_type": "code",
   "execution_count": 1,
   "metadata": {
    "collapsed": true
   },
   "outputs": [],
   "source": [
    "import tensorflow as tf\n",
    "import numpy as np\n",
    "import threading\n",
    "import time"
   ]
  },
  {
   "cell_type": "markdown",
   "metadata": {},
   "source": [
    "建立回调函数, 这个函数每隔1s判断是否终止线程;如果不终止线程, 在继续随机获取一个值, 判断其是否大于0.1; 如果大于0.1, 则打印当前线程id,否则, 调用 `request_stop()`"
   ]
  },
  {
   "cell_type": "code",
   "execution_count": 9,
   "metadata": {
    "collapsed": true
   },
   "outputs": [],
   "source": [
    "def MyLoop(coord, worker_id):\n",
    "    # 判断线程是否需要终止\n",
    "    # 如果线程未终止, 则继续执行\n",
    "    while not coord.should_stop():\n",
    "        # 随机停止所有线程\n",
    "        if np.random.rand() < 0.1:\n",
    "            # print(\"Stoping from id: %d\\n\" % worker_id)\n",
    "            # 调用coord.request_stop()函数来通知其他线程停止\n",
    "            coord.request_stop()\n",
    "        else:\n",
    "            # 打印当前线程id\n",
    "            print(\"Working on id: %d\\n\" % worker_id)\n",
    "        #暂停1s\n",
    "        time.sleep(1)\n",
    "    print(\"Stping from id: %d\\n\" % worker_id)"
   ]
  },
  {
   "cell_type": "code",
   "execution_count": 10,
   "metadata": {},
   "outputs": [
    {
     "name": "stdout",
     "output_type": "stream",
     "text": [
      "Working on id: 0\n",
      "\n",
      "Working on id: 1\n",
      "\n",
      "Working on id: 2\n",
      "\n",
      "Working on id: 3\n",
      "\n",
      "Working on id: 4\n",
      "\n",
      "Stping from id: 1\n",
      "\n",
      "Stping from id: 2\n",
      "Stping from id: 3\n",
      "\n",
      "\n",
      "Stping from id: 4\n",
      "\n",
      "Stping from id: 0\n",
      "\n"
     ]
    }
   ],
   "source": [
    "# 申明一个 tf.train.Coordinator类来协同多个线程\n",
    "coord = tf.train.Coordinator()\n",
    "\n",
    "# 申明创建5个线程\n",
    "threads = [threading.Thread(target=MyLoop, args=(coord, i, )) for i in range(5)]\n",
    "\n",
    "# 启动所有线程\n",
    "for t in threads:\n",
    "    t.start()\n",
    "    \n",
    "# 等待所有线程退出\n",
    "coord.join(threads)"
   ]
  },
  {
   "cell_type": "markdown",
   "metadata": {},
   "source": [
    "## tf.QueueRunner\n",
    "\n",
    "`tf.QueueRunner` 主要用于以指定的操作(入队或出队操作)启动多个线程来操作同一个队列，启动的这些线程可以通过 `tf.Coordinator` 类来统一管理。\n",
    "\n",
    "使用`tf.QueueRunner`的流程主要如下:\n",
    "\n",
    "1. 定义`QueueRunner`:以指定的操作创建多个线程;\n",
    "2. 将定义过的`QueueRunner`加入指定的集合, 默认的集合为`tf.GraphKeys.QUEUE_RUNNERS`;\n",
    "3. 在sess中, 明确调用`tf.train.start_queue_runners`来启动所有的线程, 否则会因为没有线程运行入栈操作, 当调用出队操作时, 程序会一直等待入队操作;\n",
    "4. 其他的: 按需要进行操作;"
   ]
  },
  {
   "cell_type": "code",
   "execution_count": 11,
   "metadata": {
    "collapsed": true
   },
   "outputs": [],
   "source": [
    "import tensorflow as tf"
   ]
  },
  {
   "cell_type": "code",
   "execution_count": null,
   "metadata": {
    "collapsed": true
   },
   "outputs": [],
   "source": [
    "# 声明一个FIFO的队列，队列最多100个元素, 类型为实数\n",
    "queue = tf.FIFOQueue(100, tf.float32)\n",
    "\n",
    "# 定义队列的入队操作\n",
    "enqueue_op = queue.enqueue([tf.random_normal([1])])\n",
    "\n",
    "# 定义出队操作\n",
    "out_tensor = queue.dequeue()\n",
    "\n",
    "# 使用tf.train.QueueRunner来创建多个线程运行队列的入队操作\n",
    "# tf.train.QueueRunner的第一个参数给出了被操作的队列, [enqueue_op] * 5\n",
    "# 表示了需要启动5个线程, 每个线程中运行的是enqueue_op操作\n",
    "qr = tf.train.QueueRunner(queue=queue, [enqueue_op] * 5)\n",
    "\n",
    "# 把 qr 加入默认的 tf.GraphKeys.QUEUE_RUNNERS 集合\n",
    "tf.train.add_queue_runner(qr)\n",
    "\n",
    "with tf.Session() as sess:\n",
    "    # 使用tf.train.Coordinator来协同启动线程\n",
    "    coord = tf.train.Coordinator()\n",
    "    \n",
    "    # 启动多个线程\n",
    "    threads = tf.train.start_queue_runners(sess=sess, coord=coord)\n",
    "    \n",
    "    # 获取队列中的取值\n",
    "    for _ in range(3):\n",
    "        print(sess.run(out_tensor)[0])\n",
    "        \n",
    "    # 使用tf.train.Coordinator来停止所有的线程\n",
    "    coord.request_stop()\n",
    "    coord.join(threads)\n",
    "    "
   ]
  }
 ],
 "metadata": {
  "kernelspec": {
   "display_name": "Python 3",
   "language": "python",
   "name": "python3"
  },
  "language_info": {
   "codemirror_mode": {
    "name": "ipython",
    "version": 3
   },
   "file_extension": ".py",
   "mimetype": "text/x-python",
   "name": "python",
   "nbconvert_exporter": "python",
   "pygments_lexer": "ipython3",
   "version": "3.5.4"
  },
  "toc": {
   "base_numbering": 1,
   "nav_menu": {},
   "number_sections": true,
   "sideBar": true,
   "skip_h1_title": false,
   "title_cell": "Table of Contents",
   "title_sidebar": "Contents",
   "toc_cell": true,
   "toc_position": {},
   "toc_section_display": true,
   "toc_window_display": true
  }
 },
 "nbformat": 4,
 "nbformat_minor": 2
}
