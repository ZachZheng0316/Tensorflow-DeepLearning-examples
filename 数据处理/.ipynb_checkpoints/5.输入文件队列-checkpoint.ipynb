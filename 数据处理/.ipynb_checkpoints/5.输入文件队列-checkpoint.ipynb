{
 "cells": [
  {
   "cell_type": "markdown",
   "metadata": {
    "toc": true
   },
   "source": [
    "<h1>Table of Contents<span class=\"tocSkip\"></span></h1>\n",
    "<div class=\"toc\"><ul class=\"toc-item\"><li><span><a href=\"#输入文件队列\" data-toc-modified-id=\"输入文件队列-1\"><span class=\"toc-item-num\">1&nbsp;&nbsp;</span>输入文件队列</a></span></li><li><span><a href=\"#生成样例数据\" data-toc-modified-id=\"生成样例数据-2\"><span class=\"toc-item-num\">2&nbsp;&nbsp;</span>生成样例数据</a></span></li><li><span><a href=\"#读取样例\" data-toc-modified-id=\"读取样例-3\"><span class=\"toc-item-num\">3&nbsp;&nbsp;</span>读取样例</a></span></li><li><span><a href=\"#参考资料\" data-toc-modified-id=\"参考资料-4\"><span class=\"toc-item-num\">4&nbsp;&nbsp;</span>参考资料</a></span></li></ul></div>"
   ]
  },
  {
   "cell_type": "markdown",
   "metadata": {},
   "source": [
    "# 输入文件队列\n",
    "\n",
    "我们可以将一个 TFRecord 文件中可以存储多个训练样例，但是当训练数据量较大时，可以将数据分成多个 TFRecord 文件来提高处理效率。TensorFlow 提供了`tf.train.match_filenames_once` 函数来获取符合一个正则表达式的所有文件, 得到的文件列表可以通过 `tf.train.string_input_producer` 函数进行有效的管理。\n",
    "\n",
    "**tf.train.string_input_producer**\n",
    "\n",
    "`tf.train.string_input_producer` 函数会使用初始化时提供的文件列表创建一个输入队列，输入队列中原始的元素为文件列表中所有的文件。\n",
    "\n",
    "- 该函数支持随机打乱文件列表中文件的出队顺序。当设置`shuffle=True` 时, 文件在加入队列之前会被打乱, 所以出队的顺序也是随机的. 随机打乱文件顺序以及加入输入队列的过程会跑在一个单独的线程上, 这样不会影响获取文件的速度. \n",
    "- 该函数生成的输入队列可以同时被多个文件读取线程操作, 而且输入队列会将队列中的文件均匀分给不同的线程, 不会出现有些文件被处理过多次而有些文件还没有被处理过的情况.\n",
    "- 当一个输入队列中的所有文件都被处理后, 它会将初始化时提供的文件列表中的文件全部重新载入队列. 参数 `num_epochs`参数来限制加载初始文件列表的最大轮数. 当所有文件都已经被使用了设定的轮数后, 如果继续尝试取出新的文件, 输入队列会报`OutOfRange` 的错误. \n",
    "\n",
    "每次**数据读取函数**从文件中读取数据时, **数据读取函数**首先会判断当前是否已有打开的文件可读, 如果没有或者打开的文件已经读完, 这个函数会从输入队列中出队一个文件, 并从这个文件中读取数据."
   ]
  },
  {
   "cell_type": "markdown",
   "metadata": {},
   "source": [
    "# 生成样例数据\n",
    "\n",
    "我们先生成一个样例数据, 然后使用 `tf.train.match_filenames_once`和`tf.train.string_input_producer`来读取产生的样例数据."
   ]
  },
  {
   "cell_type": "code",
   "execution_count": 1,
   "metadata": {
    "collapsed": true
   },
   "outputs": [],
   "source": [
    "import tensorflow as tf"
   ]
  },
  {
   "cell_type": "code",
   "execution_count": 3,
   "metadata": {
    "collapsed": true
   },
   "outputs": [],
   "source": [
    "num_shards = 10 # 文件的个数\n",
    "instances_per_shard = 5 # 每个文件中的样例个数\n",
    "\n",
    "for i in range(num_shards):\n",
    "    # 定义文件名\n",
    "    filename = ('../../../other/test/data.tfrecords-%.5d-of-%.5d' % (i, num_shards))\n",
    "    \n",
    "    # 申请writer\n",
    "    writer = tf.python_io.TFRecordWriter(filename)\n",
    "    \n",
    "    # 将数据封装成Example结构并写入TFRecord中\n",
    "    for j in range(instances_per_shard):\n",
    "        # 构建特性\n",
    "        feature_i = tf.train.Feature(int64_list=tf.train.Int64List(value=[i]))\n",
    "        feature_j = tf.train.Feature(int64_list=tf.train.Int64List(value=[j]))\n",
    "        \n",
    "        # 构建特征map\n",
    "        features_map = {'i': feature_i, 'j':feature_j}\n",
    "        features = tf.train.Features(feature=features_map)\n",
    "        \n",
    "        # 构造example\n",
    "        example = tf.train.Example(features=features)\n",
    "        \n",
    "        # 样例序列化\n",
    "        serial = example.SerializeToString()\n",
    "        \n",
    "        # 把样例写入文件\n",
    "        writer.write(serial)\n",
    "        \n",
    "    # 关闭writer\n",
    "    writer.close()"
   ]
  },
  {
   "cell_type": "markdown",
   "metadata": {},
   "source": [
    "# 读取样例\n",
    "\n",
    "以下代码展示了利用 `tf.train.match_filenames_once`和`tf.train.string_input_producer`函数的使用。"
   ]
  },
  {
   "cell_type": "code",
   "execution_count": 4,
   "metadata": {
    "collapsed": true
   },
   "outputs": [],
   "source": [
    "import tensorflow as tf"
   ]
  },
  {
   "cell_type": "code",
   "execution_count": 9,
   "metadata": {},
   "outputs": [
    {
     "name": "stdout",
     "output_type": "stream",
     "text": [
      "files:  <tf.Variable 'matching_filenames:0' shape=<unknown> dtype=string_ref>\n",
      "[0, 0]\n",
      "[0, 1]\n",
      "[0, 2]\n",
      "[0, 3]\n",
      "[0, 4]\n",
      "[1, 0]\n"
     ]
    }
   ],
   "source": [
    "tf.reset_default_graph()\n",
    "\n",
    "# 获取文件列表\n",
    "files = tf.train.match_filenames_once(\"../../../other/test/data.tfrecords-*\")\n",
    "\n",
    "# 创建文件输入队列\n",
    "filename_queue = tf.train.string_input_producer(files, shuffle=False)\n",
    "\n",
    "# 申请一个Reader\n",
    "reader = tf.TFRecordReader()\n",
    "\n",
    "# 读取文件中的样例\n",
    "_, serialized_example = reader.read(filename_queue)\n",
    "\n",
    "# 把样例解析为特征\n",
    "feature_i = tf.FixedLenFeature([], tf.int64)\n",
    "feature_j = tf.FixedLenFeature([], tf.int64)\n",
    "features_map = {'i': feature_i, 'j':feature_j}\n",
    "features = tf.parse_single_example(serialized_example, features=features_map)\n",
    "\n",
    "with tf.Session() as sess:\n",
    "    # 虽然在本段程序找那个没有申明任何变量,\n",
    "    # 但是tf.train.match_filenames_once函数时需要初始化一些变量\n",
    "    sess.run([tf.global_variables_initializer(), tf.local_variables_initializer()])\n",
    "    \n",
    "    # 打印文件列表\n",
    "    print(\"files: \", files)\n",
    "    \n",
    "    # 申明tf.train.Coordinator类来协助不同线程，并启动线程\n",
    "    coord = tf.train.Coordinator()\n",
    "    threads = tf.train.start_queue_runners(sess=sess, coord=coord)\n",
    "    \n",
    "    # 多次执行线程获取数据的操作\n",
    "    for i in range(6):\n",
    "        print(sess.run([features['i'], features['j']]))\n",
    "              \n",
    "    # 终止线程\n",
    "    coord.request_stop()\n",
    "    coord.join(threads)"
   ]
  },
  {
   "cell_type": "markdown",
   "metadata": {},
   "source": [
    "# 参考资料\n",
    "\n",
    "1. 《TensorFlow实战google深度学习框架》"
   ]
  }
 ],
 "metadata": {
  "kernelspec": {
   "display_name": "Python 3",
   "language": "python",
   "name": "python3"
  },
  "language_info": {
   "codemirror_mode": {
    "name": "ipython",
    "version": 3
   },
   "file_extension": ".py",
   "mimetype": "text/x-python",
   "name": "python",
   "nbconvert_exporter": "python",
   "pygments_lexer": "ipython3",
   "version": "3.5.4"
  },
  "toc": {
   "base_numbering": 1,
   "nav_menu": {},
   "number_sections": true,
   "sideBar": true,
   "skip_h1_title": false,
   "title_cell": "Table of Contents",
   "title_sidebar": "Contents",
   "toc_cell": true,
   "toc_position": {
    "height": "calc(100% - 180px)",
    "left": "10px",
    "top": "150px",
    "width": "165px"
   },
   "toc_section_display": true,
   "toc_window_display": false
  }
 },
 "nbformat": 4,
 "nbformat_minor": 2
}
