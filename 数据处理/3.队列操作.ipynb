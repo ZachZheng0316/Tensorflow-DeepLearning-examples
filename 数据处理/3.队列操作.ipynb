{
 "cells": [
  {
   "cell_type": "markdown",
   "metadata": {
    "toc": true
   },
   "source": [
    "<h1>Table of Contents<span class=\"tocSkip\"></span></h1>\n",
    "<div class=\"toc\"><ul class=\"toc-item\"><li><span><a href=\"#TF队列概念\" data-toc-modified-id=\"TF队列概念-1\"><span class=\"toc-item-num\">1&nbsp;&nbsp;</span>TF队列概念</a></span></li><li><span><a href=\"#例子说明\" data-toc-modified-id=\"例子说明-2\"><span class=\"toc-item-num\">2&nbsp;&nbsp;</span>例子说明</a></span></li><li><span><a href=\"#参考资料\" data-toc-modified-id=\"参考资料-3\"><span class=\"toc-item-num\">3&nbsp;&nbsp;</span>参考资料</a></span></li></ul></div>"
   ]
  },
  {
   "cell_type": "markdown",
   "metadata": {},
   "source": [
    "# TF队列概念\n",
    "\n",
    "在TensorFlow中，队列和变量类似，都是计算图上有状态有状态的节点。其他的计算节点可以修改它们的状态。对于变量，可以通过赋值操作修改变量的取值。对于队列，修改队列状态的操作主要有以下几种:\n",
    "\n",
    "1. 创建队列;\n",
    "2. EnqueueMany:队列初始化:和变量类似, 队列在使用之前要进行初始化操作;\n",
    "3. Enqueue:入队操作;\n",
    "4. Dequeue:出队操作;\n",
    "\n",
    "TensorFlow中提供了 `FIFOQueue` 和 `RandomShuffleQueue` 两种队列。FIFOQueue实现了一个先进先出的队列; RandomShuffleQueue实现了一个当将元素打乱的队列, 每次出队操作得到的是从当前队列所有元素中随机选择的一个. 在训练神经网络时希望每次使用的数据尽量随机, RandomShuffleQueue就提供了这样的功能."
   ]
  },
  {
   "cell_type": "markdown",
   "metadata": {},
   "source": [
    "# 例子说明\n",
    "\n",
    "以下通过一个示例说明FIFOQueue队列的操作。"
   ]
  },
  {
   "cell_type": "code",
   "execution_count": 5,
   "metadata": {
    "collapsed": true
   },
   "outputs": [],
   "source": [
    "import tensorflow as tf"
   ]
  },
  {
   "cell_type": "code",
   "execution_count": 8,
   "metadata": {},
   "outputs": [
    {
     "name": "stdout",
     "output_type": "stream",
     "text": [
      "1 2 3 4 5 2 3 4 5 6 \n",
      "\n"
     ]
    }
   ],
   "source": [
    "# 1.创建一个FIFO队列，并指定队列容量和元素类型\n",
    "queue = tf.FIFOQueue(capacity=5, dtypes=tf.int32)\n",
    "\n",
    "# 2.初始化队列中的元素\n",
    "queue_init = queue.enqueue_many(([1, 2, 3, 4, 5], ))\n",
    "\n",
    "# 3.定义出队操作\n",
    "x = queue.dequeue()\n",
    "\n",
    "# 4.定义入队操作\n",
    "y = x + 1\n",
    "queue_in = queue.enqueue([y])\n",
    "\n",
    "# 执行计算图\n",
    "with tf.Session() as sess:\n",
    "    # 队列初始化\n",
    "    queue_init.run()\n",
    "    \n",
    "    # 进行入队出队操作:队列会不断的进行出队入队操作\n",
    "    for _ in range(10):\n",
    "        v, _ = sess.run([x, queue_in])\n",
    "        print(v, end=' ')\n",
    "    print(\"\\n\")"
   ]
  },
  {
   "cell_type": "markdown",
   "metadata": {},
   "source": [
    "# 参考资料\n",
    "\n",
    "1. 《实战google深度学习框架》"
   ]
  },
  {
   "cell_type": "code",
   "execution_count": null,
   "metadata": {
    "collapsed": true
   },
   "outputs": [],
   "source": []
  }
 ],
 "metadata": {
  "kernelspec": {
   "display_name": "Python 3",
   "language": "python",
   "name": "python3"
  },
  "language_info": {
   "codemirror_mode": {
    "name": "ipython",
    "version": 3
   },
   "file_extension": ".py",
   "mimetype": "text/x-python",
   "name": "python",
   "nbconvert_exporter": "python",
   "pygments_lexer": "ipython3",
   "version": "3.5.4"
  },
  "toc": {
   "base_numbering": 1,
   "nav_menu": {},
   "number_sections": true,
   "sideBar": true,
   "skip_h1_title": false,
   "title_cell": "Table of Contents",
   "title_sidebar": "Contents",
   "toc_cell": true,
   "toc_position": {
    "height": "calc(100% - 180px)",
    "left": "10px",
    "top": "150px",
    "width": "165px"
   },
   "toc_section_display": true,
   "toc_window_display": true
  }
 },
 "nbformat": 4,
 "nbformat_minor": 2
}
