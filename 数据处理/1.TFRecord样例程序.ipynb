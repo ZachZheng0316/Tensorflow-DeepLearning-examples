{
 "cells": [
  {
   "cell_type": "markdown",
   "metadata": {
    "toc": true
   },
   "source": [
    "<h1>Table of Contents<span class=\"tocSkip\"></span></h1>\n",
    "<div class=\"toc\"><ul class=\"toc-item\"><li><span><a href=\"#加载库文件\" data-toc-modified-id=\"加载库文件-1\"><span class=\"toc-item-num\">1&nbsp;&nbsp;</span>加载库文件</a></span></li><li><span><a href=\"#构建数据\" data-toc-modified-id=\"构建数据-2\"><span class=\"toc-item-num\">2&nbsp;&nbsp;</span>构建数据</a></span></li><li><span><a href=\"#把数据写入TFRecords文件中\" data-toc-modified-id=\"把数据写入TFRecords文件中-3\"><span class=\"toc-item-num\">3&nbsp;&nbsp;</span>把数据写入TFRecords文件中</a></span></li><li><span><a href=\"#读取TFRecords文件\" data-toc-modified-id=\"读取TFRecords文件-4\"><span class=\"toc-item-num\">4&nbsp;&nbsp;</span>读取TFRecords文件</a></span></li></ul></div>"
   ]
  },
  {
   "cell_type": "markdown",
   "metadata": {},
   "source": [
    "# 加载库文件"
   ]
  },
  {
   "cell_type": "code",
   "execution_count": 6,
   "metadata": {
    "collapsed": true
   },
   "outputs": [],
   "source": [
    "# 加载库文件\n",
    "import tensorflow as tf\n",
    "import numpy as np"
   ]
  },
  {
   "cell_type": "markdown",
   "metadata": {},
   "source": [
    "# 构建数据"
   ]
  },
  {
   "cell_type": "code",
   "execution_count": 19,
   "metadata": {
    "collapsed": true
   },
   "outputs": [],
   "source": [
    "# 数据形式\n",
    "data = [{'name': b\"xiaoming\",\n",
    "         'age': 7,\n",
    "         'height': 120.5,\n",
    "         'score': [89.0, 91.0, 72.0],\n",
    "         'pic': [[1, 2, 3], [4, 5, 6], [7, 8, 9]]},\n",
    "        {'name': b\"xiaohong\",\n",
    "         'age': 8,\n",
    "         'height': 130.8,\n",
    "         'score': [96.0, 85.2, 76.5],\n",
    "         'pic': [[10, 11, 12], [13, 14, 15], [16, 17, 18]]},\n",
    "        {'name': b\"xiaozhang\",\n",
    "         'age': 9,\n",
    "         'height': 140.3,\n",
    "         'score': [96.7, 76.8, 68.9],\n",
    "         'pic': [[19, 20, 21], [22, 23, 24], [25, 26, 27]]}]\n",
    "\n",
    "# 把pic转化成图片数据格式\n",
    "data[0]['pic'] = np.array(data[0]['pic']).astype(np.uint8)\n",
    "data[1]['pic'] = np.array(data[1]['pic']).astype(np.uint8)\n",
    "data[2]['pic'] = np.array(data[2]['pic']).astype(np.uint8)"
   ]
  },
  {
   "cell_type": "markdown",
   "metadata": {},
   "source": [
    "# 把数据写入TFRecords文件中"
   ]
  },
  {
   "cell_type": "code",
   "execution_count": 21,
   "metadata": {
    "collapsed": true
   },
   "outputs": [],
   "source": [
    "# 申请写入example的writer\n",
    "writer = tf.python_io.TFRecordWriter(\"data.tfrecords\")\n",
    "\n",
    "for index in range(3):\n",
    "    # 获取每一行的数据\n",
    "    name = data[index]['name']\n",
    "    age = data[index]['age']\n",
    "    height = data[index]['height']\n",
    "    score = data[index]['score']\n",
    "    pic = data[index]['pic']\n",
    "    \n",
    "    # 1.把数据提取为message Feature，即属性值\n",
    "    bytes_name = tf.train.Feature(bytes_list=tf.train.BytesList(value=[name]))\n",
    "    int64_age = tf.train.Feature(int64_list=tf.train.Int64List(value=[age]))\n",
    "    float_height = tf.train.Feature(float_list=tf.train.FloatList(value=[height]))\n",
    "    # 因为score本身就是列表, 不需要加[]\n",
    "    float_score = tf.train.Feature(float_list=tf.train.FloatList(value=score))\n",
    "    # 因为pic是图像数据，先要对pic进行字符化\n",
    "    pic_raw = pic.tostring()\n",
    "    bytes_pic = tf.train.Feature(bytes_list=tf.train.BytesList(value=[pic_raw]))\n",
    "    \n",
    "    # 2.构建message Features\n",
    "    feature = {\n",
    "        'name': bytes_name,\n",
    "        'age': int64_age,\n",
    "        'height': float_height,\n",
    "        'score': float_score,\n",
    "        'pic': bytes_pic}\n",
    "    features = tf.train.Features(feature=feature)\n",
    "    \n",
    "    # 3.构建Example Protocol Buffer数据\n",
    "    example = tf.train.Example(features=features)\n",
    "    \n",
    "    # 4.序列化\n",
    "    serialized = example.SerializeToString()\n",
    "    \n",
    "    # 把序列化数据写入tfrecord文件\n",
    "    writer.write(serialized)\n",
    "    \n",
    "# 关闭writer\n",
    "writer.close()"
   ]
  },
  {
   "cell_type": "markdown",
   "metadata": {},
   "source": [
    "# 读取TFRecords文件"
   ]
  },
  {
   "cell_type": "code",
   "execution_count": 28,
   "metadata": {},
   "outputs": [
    {
     "name": "stdout",
     "output_type": "stream",
     "text": [
      "name:  b'xiaoming'\n",
      "age:  7\n",
      "height:  120.5\n",
      "score:  [ 89.  91.  72.]\n",
      "pic: \n",
      " [[1 2 3]\n",
      " [4 5 6]\n",
      " [7 8 9]]\n",
      "\n",
      "\n",
      "name:  b'xiaohong'\n",
      "age:  8\n",
      "height:  130.8\n",
      "score:  [ 96.          85.19999695  76.5       ]\n",
      "pic: \n",
      " [[10 11 12]\n",
      " [13 14 15]\n",
      " [16 17 18]]\n",
      "\n",
      "\n",
      "name:  b'xiaozhang'\n",
      "age:  9\n",
      "height:  140.3\n",
      "score:  [ 96.69999695  76.80000305  68.90000153]\n",
      "pic: \n",
      " [[19 20 21]\n",
      " [22 23 24]\n",
      " [25 26 27]]\n",
      "\n",
      "\n",
      "INFO:tensorflow:Error reported to Coordinator: <class 'tensorflow.python.framework.errors_impl.CancelledError'>, Enqueue operation was cancelled\n",
      "\t [[Node: input_producer_6/input_producer_6_EnqueueMany = QueueEnqueueManyV2[Tcomponents=[DT_STRING], timeout_ms=-1, _device=\"/job:localhost/replica:0/task:0/device:CPU:0\"](input_producer_6, input_producer_6/RandomShuffle)]]\n"
     ]
    }
   ],
   "source": [
    "# 1.申请一个读取TFRecords对象\n",
    "reader = tf.TFRecordReader()\n",
    "\n",
    "# 2.创建一个队列维护输入文件的管道\n",
    "file_queue = tf.train.string_input_producer(['data.tfrecords'])\n",
    "\n",
    "# 读取一个序列化的example\n",
    "# 也可以使用read_up_to函数一次性读取很多个样例\n",
    "_, serialized_example = reader.read(file_queue)\n",
    "\n",
    "# 3.解析读入的一个样例，使用函数parse_single_example。\n",
    "# 如果要解析多个样例，可以使用函数parse_example。\n",
    "name_bytes = tf.FixedLenFeature([], tf.string)\n",
    "age_int64 = tf.FixedLenFeature([], tf.int64)\n",
    "height_float = tf.FixedLenFeature([], tf.float32)\n",
    "score_float = tf.FixedLenFeature([3], tf.float32)\n",
    "pic_raw = tf.FixedLenFeature([], tf.string)\n",
    "\n",
    "features = tf.parse_single_example(\n",
    "    serialized_example,\n",
    "    features={\n",
    "        'name': name_bytes,\n",
    "        'age': age_int64,\n",
    "        'height': height_float,\n",
    "        'score': score_float,\n",
    "        'pic': pic_raw,\n",
    "    })\n",
    "\n",
    "# 4.将数据转化为所需的类型\n",
    "name = tf.cast(features['name'], tf.string) # name本身就是tf.string类型\n",
    "age = tf.cast(features['age'], tf.int32)\n",
    "height = tf.cast(features['height'], tf.float32)\n",
    "score = tf.cast(features['score'], tf.float32)\n",
    "pic = tf.decode_raw(features['pic'], tf.uint8) # 按tf.uint8进行解码\n",
    "pic = tf.reshape(pic, shape=[3, 3]) # 调整pic为所需要的结构\n",
    "\n",
    "# 建立多线程\n",
    "coord = tf.train.Coordinator()\n",
    "\n",
    "with tf.Session() as sess:\n",
    "    # 变量初始化\n",
    "    tf.global_variables_initializer().run()\n",
    "    \n",
    "    # 启动线程\n",
    "    threads = tf.train.start_queue_runners(sess, coord=coord)\n",
    "    \n",
    "    # 读取样例中的数据\n",
    "    # 每运行一次，读取一次样例\n",
    "    for index in range(3):\n",
    "        name_data, age_data, height_data, score_data, pic_data = sess.run([name, age, height, score, pic])\n",
    "        print(\"name: \", name_data)\n",
    "        print(\"age: \", age_data)\n",
    "        print(\"height: \", height_data)\n",
    "        print(\"score: \", score_data)\n",
    "        print(\"pic: \\n\", pic_data)\n",
    "        print(\"\\n\")\n",
    "    "
   ]
  },
  {
   "cell_type": "code",
   "execution_count": null,
   "metadata": {
    "collapsed": true
   },
   "outputs": [],
   "source": []
  }
 ],
 "metadata": {
  "kernelspec": {
   "display_name": "Python 3",
   "language": "python",
   "name": "python3"
  },
  "language_info": {
   "codemirror_mode": {
    "name": "ipython",
    "version": 3
   },
   "file_extension": ".py",
   "mimetype": "text/x-python",
   "name": "python",
   "nbconvert_exporter": "python",
   "pygments_lexer": "ipython3",
   "version": "3.5.4"
  },
  "toc": {
   "base_numbering": 1,
   "nav_menu": {},
   "number_sections": true,
   "sideBar": true,
   "skip_h1_title": false,
   "title_cell": "Table of Contents",
   "title_sidebar": "Contents",
   "toc_cell": true,
   "toc_position": {
    "height": "calc(100% - 180px)",
    "left": "10px",
    "top": "150px",
    "width": "165px"
   },
   "toc_section_display": true,
   "toc_window_display": true
  }
 },
 "nbformat": 4,
 "nbformat_minor": 2
}
