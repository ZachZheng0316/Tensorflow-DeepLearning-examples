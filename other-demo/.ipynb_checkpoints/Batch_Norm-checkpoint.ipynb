{
 "cells": [
  {
   "cell_type": "code",
   "execution_count": 1,
   "metadata": {
    "collapsed": true
   },
   "outputs": [],
   "source": [
    "import tensorflow as tf"
   ]
  },
  {
   "cell_type": "code",
   "execution_count": 4,
   "metadata": {},
   "outputs": [
    {
     "name": "stdout",
     "output_type": "stream",
     "text": [
      "mean:  [ 2.  5.  8.]\n",
      "variance:  [ 0.66666669  0.66666669  0.66666669]\n",
      "data_bn: \n",
      " [[ -1.44765472  -6.34296417 -11.23827362]\n",
      " [  5.89530945   1.          -3.89530945]\n",
      " [ 13.23827362   8.34296417   3.44765472]]\n"
     ]
    }
   ],
   "source": [
    "# 定义数据\n",
    "data = tf.constant([[1.0, 2.0, 3.0],\n",
    "                    [4.0, 5.0, 6.0],\n",
    "                    [7.0, 8.0, 9.0]])\n",
    "\n",
    "mean, variance = tf.nn.moments(data, axes=[1])\n",
    "\n",
    "offset = 1.0\n",
    "scale = 2.0\n",
    "data_bn = tf.nn.batch_normalization(data, mean=mean, variance=variance,\n",
    "                                   offset=offset, scale=scale, variance_epsilon=0.001)\n",
    "\n",
    "with tf.Session() as sess:\n",
    "    print(\"mean: \", sess.run(mean))\n",
    "    print(\"variance: \", sess.run(variance))\n",
    "    print(\"data_bn: \\n\", sess.run(data_bn))"
   ]
  },
  {
   "cell_type": "code",
   "execution_count": null,
   "metadata": {
    "collapsed": true
   },
   "outputs": [],
   "source": []
  }
 ],
 "metadata": {
  "kernelspec": {
   "display_name": "Python 3",
   "language": "python",
   "name": "python3"
  },
  "language_info": {
   "codemirror_mode": {
    "name": "ipython",
    "version": 3
   },
   "file_extension": ".py",
   "mimetype": "text/x-python",
   "name": "python",
   "nbconvert_exporter": "python",
   "pygments_lexer": "ipython3",
   "version": "3.5.4"
  }
 },
 "nbformat": 4,
 "nbformat_minor": 2
}
