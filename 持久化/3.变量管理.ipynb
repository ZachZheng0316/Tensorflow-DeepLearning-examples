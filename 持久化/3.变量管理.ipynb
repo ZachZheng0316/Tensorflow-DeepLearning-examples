{
 "cells": [
  {
   "cell_type": "code",
   "execution_count": 1,
   "metadata": {
    "collapsed": true
   },
   "outputs": [],
   "source": [
    "import tensorflow as tf"
   ]
  },
  {
   "cell_type": "markdown",
   "metadata": {},
   "source": [
    "#### 1.在上下文管理器\"foo\"中创建变量\"v\""
   ]
  },
  {
   "cell_type": "code",
   "execution_count": 2,
   "metadata": {},
   "outputs": [
    {
     "name": "stdout",
     "output_type": "stream",
     "text": [
      "True\n"
     ]
    }
   ],
   "source": [
    "with tf.variable_scope(\"foo\"):\n",
    "    # 创建变量v\n",
    "    v = tf.get_variable(\"v\", shape=[1], initializer=tf.constant_initializer(1.0))\n",
    "    \n",
    "#with tf.variable_scope(\"foo\"):\n",
    "    # v = tf.get_variable(\"v\", [1])\n",
    "    \n",
    "with tf.variable_scope(\"foo\", reuse=True):\n",
    "    # 创建变量v1\n",
    "    v1 = tf.get_variable(\"v\", shape=[1])\n",
    "print(v == v1)\n",
    "\n",
    "#with tf.variable_scope(\"bar\", reuse=True):\n",
    "    # v = tf.get_variable(\"v\", shape=[1])"
   ]
  },
  {
   "cell_type": "code",
   "execution_count": 7,
   "metadata": {},
   "outputs": [
    {
     "name": "stdout",
     "output_type": "stream",
     "text": [
      "False\n",
      "True\n",
      "True\n",
      "False\n"
     ]
    }
   ],
   "source": [
    "#### 2.嵌套上下文管理器中reuse参数的使用\n",
    "with tf.variable_scope(\"root\"):\n",
    "    print(tf.get_variable_scope().reuse)\n",
    "    \n",
    "    with tf.variable_scope(\"foo\", reuse=True):\n",
    "        print(tf.get_variable_scope().reuse)\n",
    "        \n",
    "        # 不指定reuse将和外层的reuse保存一致\n",
    "        with tf.variable_scope(\"bar\"):\n",
    "            print(tf.get_variable_scope().reuse)\n",
    "            \n",
    "    print(tf.get_variable_scope().reuse)"
   ]
  },
  {
   "cell_type": "markdown",
   "metadata": {},
   "source": [
    "#### 3.通过variable_scope来管理变量"
   ]
  },
  {
   "cell_type": "code",
   "execution_count": 8,
   "metadata": {},
   "outputs": [
    {
     "name": "stdout",
     "output_type": "stream",
     "text": [
      "v:0\n",
      "foo/v:0\n",
      "foo/bar/v:0\n",
      "v1:0\n"
     ]
    }
   ],
   "source": [
    "v1 = tf.get_variable(\"v\", [1]) # 创建变量v:0\n",
    "print(v1.name)\n",
    "\n",
    "with tf.variable_scope(\"foo\", reuse=True):\n",
    "    # 获取变量foo/v:0\n",
    "    v2 = tf.get_variable(\"v\", shape=[1])\n",
    "print(v2.name)\n",
    "\n",
    "with tf.variable_scope(\"foo\"):\n",
    "    with tf.variable_scope(\"bar\"):\n",
    "        # 创建变量foo/bar/v:0\n",
    "        v3 = tf.get_variable(\"v\", shape=[1])\n",
    "print(v3.name)\n",
    "\n",
    "# 创建变量v1:0\n",
    "v4 = tf.get_variable(\"v1\", shape=[1])\n",
    "print(v4.name)"
   ]
  },
  {
   "cell_type": "markdown",
   "metadata": {},
   "source": [
    "#### 4.我们可以通过变量名称来获取变量"
   ]
  },
  {
   "cell_type": "code",
   "execution_count": 10,
   "metadata": {},
   "outputs": [
    {
     "name": "stdout",
     "output_type": "stream",
     "text": [
      "True\n",
      "True\n"
     ]
    }
   ],
   "source": [
    "with tf.variable_scope(\"\", reuse=True):\n",
    "    # 获取变量foo/bar/v:0-->注意后面不要带\":0\"，会报错\n",
    "    v5 = tf.get_variable(\"foo/bar/v\", shape=[1])\n",
    "    print(v5 == v3)\n",
    "    \n",
    "    # 获取变量\"v1\" -->注意后面不要带\":0\"，会报错\n",
    "    v6 = tf.get_variable(\"v1\", shape=[1])\n",
    "    print(v6 == v4)"
   ]
  },
  {
   "cell_type": "code",
   "execution_count": null,
   "metadata": {
    "collapsed": true
   },
   "outputs": [],
   "source": []
  }
 ],
 "metadata": {
  "kernelspec": {
   "display_name": "Python 3",
   "language": "python",
   "name": "python3"
  },
  "language_info": {
   "codemirror_mode": {
    "name": "ipython",
    "version": 3
   },
   "file_extension": ".py",
   "mimetype": "text/x-python",
   "name": "python",
   "nbconvert_exporter": "python",
   "pygments_lexer": "ipython3",
   "version": "3.6.3"
  }
 },
 "nbformat": 4,
 "nbformat_minor": 2
}
