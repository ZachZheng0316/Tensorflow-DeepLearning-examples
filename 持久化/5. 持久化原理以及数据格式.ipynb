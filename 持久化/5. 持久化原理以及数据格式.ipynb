{
 "cells": [
  {
   "cell_type": "markdown",
   "metadata": {},
   "source": [
    "#### 1.保存一个加法运算的模型"
   ]
  },
  {
   "cell_type": "code",
   "execution_count": 1,
   "metadata": {
    "collapsed": true
   },
   "outputs": [],
   "source": [
    "import tensorflow as tf"
   ]
  },
  {
   "cell_type": "code",
   "execution_count": 10,
   "metadata": {
    "collapsed": true
   },
   "outputs": [],
   "source": [
    "tf.reset_default_graph()\n",
    "\n",
    "v1 = tf.Variable(tf.constant(1.0, shape=[1]), name=\"v1\")\n",
    "v2 = tf.Variable(tf.constant(2.0, shape=[2]), name=\"v2\")\n",
    "result = v1 + v2\n",
    "\n",
    "# 定义一个savers:最多存储20个模型\n",
    "saver = tf.train.Saver(max_to_keep=20)\n",
    "\n",
    "# 定义写日志FileWriter\n",
    "FileWriter = tf.summary.FileWriter(\"/zach/tensorboard/model_test.log\", \n",
    "                                   tf.get_default_graph())\n",
    "\n",
    "config = tf.ConfigProto(allow_soft_placement=True)\n",
    "with tf.Session(config=config) as sess:\n",
    "    # 变量初始化\n",
    "    tf.global_variables_initializer().run()\n",
    "    \n",
    "    # 保存模型\n",
    "    for i in range(10):\n",
    "        saver.save(sess, \"Saved_model/model_test.ckpt\", global_step=i)\n",
    "    \n",
    "# 关闭写日志\n",
    "FileWriter.close()"
   ]
  },
  {
   "cell_type": "code",
   "execution_count": null,
   "metadata": {
    "collapsed": true
   },
   "outputs": [],
   "source": [
    "!tensorboard --logdir=/zach/tensorboard/model_test.log"
   ]
  },
  {
   "cell_type": "markdown",
   "metadata": {},
   "source": [
    "#### 2.以json的格式导出MetaGraphDef Protocol Buffer"
   ]
  },
  {
   "cell_type": "code",
   "execution_count": null,
   "metadata": {},
   "outputs": [],
   "source": [
    "import tensorflow as tf\n",
    "\n",
    "tf.reset_default_graph()\n",
    "\n",
    "# 定义变量相加的计算\n",
    "v1 = tf.Variable(tf.constant(1.0, shape=[1]), name=\"v1\")\n",
    "v2 = tf.Variable(tf.constant(2.0, shape=[1]), name=\"v2\")\n",
    "result = v1 + v2\n",
    "\n",
    "saver = tf.train.Saver()\n",
    "\n",
    "# 通过export_meta_grap函数导出TesorFlow计算图元图，并保存为json格式\n",
    "saver.export_meta_graph(\"Saved_model/model_test.ckpt.meta.json\", as_text=True)"
   ]
  },
  {
   "cell_type": "markdown",
   "metadata": {
    "collapsed": true
   },
   "source": [
    "#### 3.查看model.ckpt文件保存的变量信息"
   ]
  },
  {
   "cell_type": "code",
   "execution_count": 8,
   "metadata": {},
   "outputs": [
    {
     "name": "stdout",
     "output_type": "stream",
     "text": [
      "v1 [1]\n",
      "Value for variable v1 is -0.811318 \n",
      "v2 [1]\n",
      "Value for variable v2 is -0.811318 \n"
     ]
    }
   ],
   "source": [
    "import tensorflow as tf\n",
    "\n",
    "# tf.train.NewCheckpointReader可以读取checkpoint文件中保存的所有变量\n",
    "reader = tf.train.NewCheckpointReader(\"Saved_model/model.ckpt\")\n",
    "\n",
    "# 获取所有变量列表。这是一个从变量名到变量维度的字典\n",
    "all_variables = reader.get_variable_to_shape_map()\n",
    "for variable_name in all_variables:\n",
    "    # variable_name为变量名称，all_variables[variable_name]为变量维度\n",
    "    print(variable_name, all_variables[variable_name])\n",
    "    # 打印变量variable_name的tensor\n",
    "    print(\"Value for variable %s is %f \" % (variable_name, reader.get_tensor(variable_name)))"
   ]
  },
  {
   "cell_type": "code",
   "execution_count": null,
   "metadata": {
    "collapsed": true
   },
   "outputs": [],
   "source": []
  }
 ],
 "metadata": {
  "kernelspec": {
   "display_name": "Python 3",
   "language": "python",
   "name": "python3"
  },
  "language_info": {
   "codemirror_mode": {
    "name": "ipython",
    "version": 3
   },
   "file_extension": ".py",
   "mimetype": "text/x-python",
   "name": "python",
   "nbconvert_exporter": "python",
   "pygments_lexer": "ipython3",
   "version": "3.5.4"
  }
 },
 "nbformat": 4,
 "nbformat_minor": 2
}
