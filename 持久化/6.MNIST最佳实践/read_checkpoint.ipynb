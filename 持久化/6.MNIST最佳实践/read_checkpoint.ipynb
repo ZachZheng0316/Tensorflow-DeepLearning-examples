{
 "cells": [
  {
   "cell_type": "markdown",
   "metadata": {},
   "source": [
    "#### read_checkpoint\n",
    "\n",
    "读取checkpoint中最新的模型名字"
   ]
  },
  {
   "cell_type": "code",
   "execution_count": 3,
   "metadata": {},
   "outputs": [],
   "source": [
    "import tensorflow as tf\n",
    "import mnist_train"
   ]
  },
  {
   "cell_type": "code",
   "execution_count": 5,
   "metadata": {
    "scrolled": true
   },
   "outputs": [
    {
     "name": "stdout",
     "output_type": "stream",
     "text": [
      "model_checkpoint_path: \"model/model.ckpt-29001\"\n",
      "all_model_checkpoint_paths: \"model/model.ckpt-1\"\n",
      "all_model_checkpoint_paths: \"model/model.ckpt-1001\"\n",
      "all_model_checkpoint_paths: \"model/model.ckpt-2001\"\n",
      "all_model_checkpoint_paths: \"model/model.ckpt-3001\"\n",
      "all_model_checkpoint_paths: \"model/model.ckpt-4001\"\n",
      "all_model_checkpoint_paths: \"model/model.ckpt-5001\"\n",
      "all_model_checkpoint_paths: \"model/model.ckpt-6001\"\n",
      "all_model_checkpoint_paths: \"model/model.ckpt-7001\"\n",
      "all_model_checkpoint_paths: \"model/model.ckpt-8001\"\n",
      "all_model_checkpoint_paths: \"model/model.ckpt-9001\"\n",
      "all_model_checkpoint_paths: \"model/model.ckpt-10001\"\n",
      "all_model_checkpoint_paths: \"model/model.ckpt-11001\"\n",
      "all_model_checkpoint_paths: \"model/model.ckpt-12001\"\n",
      "all_model_checkpoint_paths: \"model/model.ckpt-13001\"\n",
      "all_model_checkpoint_paths: \"model/model.ckpt-14001\"\n",
      "all_model_checkpoint_paths: \"model/model.ckpt-15001\"\n",
      "all_model_checkpoint_paths: \"model/model.ckpt-16001\"\n",
      "all_model_checkpoint_paths: \"model/model.ckpt-17001\"\n",
      "all_model_checkpoint_paths: \"model/model.ckpt-18001\"\n",
      "all_model_checkpoint_paths: \"model/model.ckpt-19001\"\n",
      "all_model_checkpoint_paths: \"model/model.ckpt-20001\"\n",
      "all_model_checkpoint_paths: \"model/model.ckpt-21001\"\n",
      "all_model_checkpoint_paths: \"model/model.ckpt-22001\"\n",
      "all_model_checkpoint_paths: \"model/model.ckpt-23001\"\n",
      "all_model_checkpoint_paths: \"model/model.ckpt-24001\"\n",
      "all_model_checkpoint_paths: \"model/model.ckpt-25001\"\n",
      "all_model_checkpoint_paths: \"model/model.ckpt-26001\"\n",
      "all_model_checkpoint_paths: \"model/model.ckpt-27001\"\n",
      "all_model_checkpoint_paths: \"model/model.ckpt-28001\"\n",
      "all_model_checkpoint_paths: \"model/model.ckpt-29001\"\n",
      "\n"
     ]
    }
   ],
   "source": [
    "# 读取checkpoint的内容\n",
    "ckpt = tf.train.get_checkpoint_state(mnist_train.MODEL_SAVE_PATH)\n",
    "# 显示checkpint的内容\n",
    "print(ckpt)"
   ]
  },
  {
   "cell_type": "code",
   "execution_count": 8,
   "metadata": {},
   "outputs": [
    {
     "name": "stdout",
     "output_type": "stream",
     "text": [
      "full path:  model/model.ckpt-29001\n",
      "global_step:  29001\n"
     ]
    }
   ],
   "source": [
    "# 读取最新的checkpoint的文件\n",
    "if ckpt and ckpt.model_checkpoint_path:\n",
    "    # 显示最新的checkpoint完整的文件名\n",
    "    print(\"full path: \", ckpt.model_checkpoint_path)\n",
    "    # 获取最新checkpoint模型文件的序号\n",
    "    global_step = ckpt.model_checkpoint_path.split(\"/\")[-1].split(\"-\")[-1]\n",
    "    print(\"global_step: \", global_step)"
   ]
  },
  {
   "cell_type": "code",
   "execution_count": null,
   "metadata": {
    "collapsed": true
   },
   "outputs": [],
   "source": []
  }
 ],
 "metadata": {
  "kernelspec": {
   "display_name": "Python 3",
   "language": "python",
   "name": "python3"
  },
  "language_info": {
   "codemirror_mode": {
    "name": "ipython",
    "version": 3
   },
   "file_extension": ".py",
   "mimetype": "text/x-python",
   "name": "python",
   "nbconvert_exporter": "python",
   "pygments_lexer": "ipython3",
   "version": "3.5.4"
  }
 },
 "nbformat": 4,
 "nbformat_minor": 2
}
