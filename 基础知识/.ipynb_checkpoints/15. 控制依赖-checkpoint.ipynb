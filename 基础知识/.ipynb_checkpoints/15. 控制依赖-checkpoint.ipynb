{
 "cells": [
  {
   "cell_type": "markdown",
   "metadata": {},
   "source": [
    "# 控制依赖"
   ]
  },
  {
   "cell_type": "markdown",
   "metadata": {},
   "source": [
    "假设存在依赖表达式(后者的计算都依赖前者的计算)：$x = 1; y = 2; y = y + 1; out = x * y$, 当我们需要不停的计算变量 $out$ 时，我们必须先去手动调用 $y = y + 1$. 我们调用很多次 `sess.run` 来执行依赖操作，这个操作很繁琐，也没有效率。那么有什么办法呢？可以使用控制依赖。TF 提供了 `tf.control_dependencies` 来处理不完全依赖的情况下的操作问题。"
   ]
  },
  {
   "cell_type": "markdown",
   "metadata": {},
   "source": [
    "函数原型：`tf.control_dependencies(control_inputs)`是对 `tf.Grap.control_dependencies` 的包装。"
   ]
  },
  {
   "cell_type": "code",
   "execution_count": 1,
   "metadata": {},
   "outputs": [],
   "source": [
    "import tensorflow as tf"
   ]
  },
  {
   "cell_type": "markdown",
   "metadata": {},
   "source": [
    "## 自动执行依赖操作"
   ]
  },
  {
   "cell_type": "code",
   "execution_count": 3,
   "metadata": {},
   "outputs": [
    {
     "name": "stdout",
     "output_type": "stream",
     "text": [
      "output(0):3\n",
      "output(1):4\n",
      "output(2):5\n"
     ]
    }
   ],
   "source": [
    "tf.reset_default_graph()\n",
    "\n",
    "x = tf.placeholder(tf.int32, shape=[], name='x')\n",
    "y = tf.Variable(2, dtype=tf.int32)\n",
    "\n",
    "# 设置一个 assign_op\n",
    "assign_op = tf.assign(y, y+1) # 等效于 y = y + 1\n",
    "\n",
    "# We build our multiplication, but this time inside a control dependency scheme\n",
    "with tf.control_dependencies([assign_op]):\n",
    "    # Now,we are under the dependency scope：\n",
    "    # All the operations happening here will only\n",
    "    # happens after the \"assign_op\" has heen computed first\n",
    "    out = tf.multiply(x, y)\n",
    "    \n",
    "with tf.Session() as sess:\n",
    "    sess.run(tf.global_variables_initializer())\n",
    "    for i in range(3):\n",
    "        print(\"output({}):{}\".format(i, sess.run(out, feed_dict={x:1})))"
   ]
  },
  {
   "cell_type": "markdown",
   "metadata": {},
   "source": [
    "## 手动执行依赖操作"
   ]
  },
  {
   "cell_type": "code",
   "execution_count": 4,
   "metadata": {},
   "outputs": [
    {
     "name": "stdout",
     "output_type": "stream",
     "text": [
      "output(0):3\n",
      "output(1):4\n",
      "output(2):5\n"
     ]
    }
   ],
   "source": [
    "tf.reset_default_graph()\n",
    "\n",
    "x = tf.placeholder(tf.int32, shape=[], name='x')\n",
    "y = tf.Variable(2, dtype=tf.int32)\n",
    "\n",
    "# 设置一个 assign_op\n",
    "assign_op = tf.assign(y, y+1) # 等效于 y = y + 1\n",
    "\n",
    "out = tf.multiply(x, y)\n",
    "    \n",
    "with tf.Session() as sess:\n",
    "    sess.run(tf.global_variables_initializer())\n",
    "    for i in range(3):\n",
    "        sess.run(assign_op) # 手动执行依赖操作\n",
    "        print(\"output({}):{}\".format(i, sess.run(out, feed_dict={x:1})))"
   ]
  },
  {
   "cell_type": "code",
   "execution_count": null,
   "metadata": {},
   "outputs": [],
   "source": []
  }
 ],
 "metadata": {
  "kernelspec": {
   "display_name": "Python 3",
   "language": "python",
   "name": "python3"
  },
  "language_info": {
   "codemirror_mode": {
    "name": "ipython",
    "version": 3
   },
   "file_extension": ".py",
   "mimetype": "text/x-python",
   "name": "python",
   "nbconvert_exporter": "python",
   "pygments_lexer": "ipython3",
   "version": "3.5.5"
  },
  "toc": {
   "base_numbering": 1,
   "nav_menu": {},
   "number_sections": true,
   "sideBar": true,
   "skip_h1_title": false,
   "title_cell": "Table of Contents",
   "title_sidebar": "Contents",
   "toc_cell": false,
   "toc_position": {},
   "toc_section_display": true,
   "toc_window_display": false
  }
 },
 "nbformat": 4,
 "nbformat_minor": 2
}
