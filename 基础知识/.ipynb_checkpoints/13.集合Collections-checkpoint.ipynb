{
 "cells": [
  {
   "cell_type": "markdown",
   "metadata": {},
   "source": [
    "# 集合Collections"
   ]
  },
  {
   "cell_type": "markdown",
   "metadata": {},
   "source": [
    "有效的整理 TensorFlow程序中的资源也是计算图的一个重要功能。在一个计算图中，可以通过集合(`collection`)来管理不同类别的资源。比如，`tf.add_to_collection`函可以将资源加入一个或多个集合中，然后通过`tf.get_collection`获取一个集合里面的所有资源。这里的资源可以是张量、变量或者运行 TensorFlow 所需要的队列资源。"
   ]
  },
  {
   "cell_type": "markdown",
   "metadata": {},
   "source": [
    "## `tf.get_collection()`"
   ]
  },
  {
   "cell_type": "markdown",
   "metadata": {},
   "source": [
    "函数原型：`tf.get_collection(key, scope=Name)`。\n",
    "\n",
    "使用默认的计算图，对`Graph.get_collection()`的包装。以列表的形式返回指定 `collection` 里的 `values`.\n",
    "\n",
    "参数：\n",
    "\n",
    "1. key：collection的 key。例如，GraphKeys class 包含标准的 collections 的 names。\n",
    "2. scope：可选项。"
   ]
  },
  {
   "cell_type": "markdown",
   "metadata": {},
   "source": [
    "## `tf.add_to_collection()`"
   ]
  },
  {
   "cell_type": "markdown",
   "metadata": {},
   "source": [
    "函数原型：`tf.add_to_collection()`\n",
    "\n",
    "使用默认的计算图，对 `Graph.add_to_collection` 的包装。把 `value` 添加到 `collections（name）`。"
   ]
  },
  {
   "cell_type": "markdown",
   "metadata": {},
   "source": [
    "## 常用的集合"
   ]
  },
  {
   "cell_type": "markdown",
   "metadata": {},
   "source": [
    "1. tf.GraphKeys.VARIABLES: 所有变量的集合.\n",
    "2. tf.GraphKeys.GLOBAL_VARIABLES: 变量的默认集合。由 `Variable` 和 `get_variable()` 产生的变量将自动存入此集合。一般，`TRAINABLE_VARIABLES` 是 `MODEL_VARIABLES` 的子集，所有的 `MODEL_VARIABLES` 是 `GLOBAL_VARIABLES` 的子集。\n",
    "3. tf.GraphKeys.LOCAL_VARIABLES: 本地变量的子集。通常是临时变量，例如：计数器，使用`tf.contrib.framwork.local_variable`加入此集合.\n",
    "4. tf.GraphKeys.MODEL_VARIABLES: 变量对象的子集。通常用于前向传播的模型中。使用`tf.contrib.framwork.local_variable`加入此集合.\n",
    "5. tf.GraphKeys.TRAINABLE_VARIABLES: 可学习的变量(一般指神经网络中的参数)，模型训练、生成模型可视化内容.\n",
    "6. tf.GraphKeys.SUMMARIES: 日志生成相关的张量,TensorFlow计算可视化.\n",
    "7. tf.GraphKeys.QUEUE_RUNNERS: 处理输入的QueueRunner, 输入处理.\n",
    "8. tf.GraphKeys.MOVING_AVERAGE_VARIABLES: 所有计算了滑动平均值的变量, 计算变量的滑动平均值.\n",
    "9. tf.GraphKeys.REGULARIZATION_LOSSES: 在计算图结构中收集的损失集合, 计算模型损失."
   ]
  },
  {
   "cell_type": "markdown",
   "metadata": {},
   "source": [
    "## 举例说明"
   ]
  },
  {
   "cell_type": "code",
   "execution_count": 10,
   "metadata": {},
   "outputs": [],
   "source": [
    "import tensorflow as tf"
   ]
  },
  {
   "cell_type": "code",
   "execution_count": 11,
   "metadata": {},
   "outputs": [
    {
     "name": "stdout",
     "output_type": "stream",
     "text": [
      "loss1: [<tf.Tensor 'l1_regularizer:0' shape=() dtype=float32>, <tf.Tensor 'l2_regularizer:0' shape=() dtype=float32>, <tf.Tensor 'l1_l2_regularizer:0' shape=() dtype=float32>]\n",
      "loss2: [<tf.Tensor 'l1_regularizer:0' shape=() dtype=float32>, <tf.Tensor 'l2_regularizer:0' shape=() dtype=float32>, <tf.Tensor 'l1_l2_regularizer:0' shape=() dtype=float32>]\n",
      "loss1: [21.0, 45.5, 66.5]\n",
      "loss2: [21.0, 45.5, 66.5]\n"
     ]
    }
   ],
   "source": [
    "tf.reset_default_graph()\n",
    "\n",
    "# 定义一个常量\n",
    "W = tf.constant([1.0, 2.0, 3.0, 4.0, 5.0, 6.0], shape=[2, 3], name=\"const_W\")\n",
    "\n",
    "# 定义三个正则化变量\n",
    "lamda = 1.0\n",
    "L1 = tf.contrib.layers.l1_regularizer(lamda)(W)\n",
    "L2 = tf.contrib.layers.l2_regularizer(lamda)(W)\n",
    "L1_L2 = tf.contrib.layers.l1_l2_regularizer(lamda)(W)\n",
    "\n",
    "# 把正则变量加入\"regularizer_loss1\"、\"regularizer_loss2\" 和 损失函数集合\n",
    "tf.add_to_collection(\"regularizer_loss\", L1)\n",
    "tf.add_to_collection(\"regularizer_loss\", L2)\n",
    "tf.add_to_collection(\"regularizer_loss\", L1_L2)\n",
    "tf.add_to_collection(tf.GraphKeys.REGULARIZATION_LOSSES, L1)\n",
    "tf.add_to_collection(tf.GraphKeys.REGULARIZATION_LOSSES, L2)\n",
    "tf.add_to_collection(tf.GraphKeys.REGULARIZATION_LOSSES, L1_L2)\n",
    "\n",
    "# 显示“regularizer_loss1”、“regularizer_loss2”和标准损失函数集合内的数据\n",
    "# 返回 Tensor 的列表\n",
    "loss1 = tf.get_collection(\"regularizer_loss\")\n",
    "loss2 = tf.get_collection(tf.GraphKeys.REGULARIZATION_LOSSES)\n",
    "print(\"loss1: {}\".format(loss1))\n",
    "print(\"loss2: {}\".format(loss2))\n",
    "\n",
    "with tf.Session() as sess:\n",
    "    print(\"loss1: {}\".format(sess.run(loss1)))\n",
    "    print(\"loss2: {}\".format(sess.run(loss2)))"
   ]
  },
  {
   "cell_type": "code",
   "execution_count": null,
   "metadata": {},
   "outputs": [],
   "source": []
  }
 ],
 "metadata": {
  "kernelspec": {
   "display_name": "Python 3",
   "language": "python",
   "name": "python3"
  },
  "language_info": {
   "codemirror_mode": {
    "name": "ipython",
    "version": 3
   },
   "file_extension": ".py",
   "mimetype": "text/x-python",
   "name": "python",
   "nbconvert_exporter": "python",
   "pygments_lexer": "ipython3",
   "version": "3.5.5"
  },
  "toc": {
   "base_numbering": 1,
   "nav_menu": {},
   "number_sections": true,
   "sideBar": true,
   "skip_h1_title": false,
   "title_cell": "Table of Contents",
   "title_sidebar": "Contents",
   "toc_cell": false,
   "toc_position": {},
   "toc_section_display": true,
   "toc_window_display": false
  }
 },
 "nbformat": 4,
 "nbformat_minor": 2
}
