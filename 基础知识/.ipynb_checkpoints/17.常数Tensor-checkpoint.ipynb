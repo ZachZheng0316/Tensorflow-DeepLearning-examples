{
 "cells": [
  {
   "cell_type": "markdown",
   "metadata": {},
   "source": [
    "# 常数Tensor"
   ]
  },
  {
   "cell_type": "code",
   "execution_count": 1,
   "metadata": {},
   "outputs": [],
   "source": [
    "import tensorflow as tf"
   ]
  },
  {
   "cell_type": "markdown",
   "metadata": {},
   "source": [
    "## Constant Value Tensors"
   ]
  },
  {
   "cell_type": "markdown",
   "metadata": {},
   "source": [
    "方法列表为:\n",
    "\n",
    "1. `tf.zeros()`\n",
    "2. `tf.zeros_like()`\n",
    "3. `tf.ones()`\n",
    "4. `tf.ones_like()`\n",
    "5. `tf.fill()`\n",
    "6. `tf.constant()`"
   ]
  },
  {
   "cell_type": "code",
   "execution_count": 2,
   "metadata": {},
   "outputs": [
    {
     "name": "stdout",
     "output_type": "stream",
     "text": [
      "tf.zeros:[[0. 0. 0.]\n",
      " [0. 0. 0.]]\n",
      "tf.zeros_like:[[0. 0. 0.]\n",
      " [0. 0. 0.]]\n",
      "tf.ones:[[1. 1. 1.]\n",
      " [1. 1. 1.]]\n",
      "tf.ones_like:[[1. 1. 1.]\n",
      " [1. 1. 1.]]\n",
      "tf.fill:[[9 9 9]\n",
      " [9 9 9]]\n",
      "tf.constant:[[1. 2. 3.]\n",
      " [4. 5. 6.]]\n"
     ]
    }
   ],
   "source": [
    "tf.reset_default_graph()\n",
    "\n",
    "x1 = tf.zeros(shape=[2, 3], dtype=tf.float32, name=None)\n",
    "x2 = tf.zeros_like(x1)\n",
    "x3 = tf.ones(shape=[2, 3], dtype=tf.float32, name=None)\n",
    "x4 = tf.ones_like(x2)\n",
    "x5 = tf.fill(dims=[2, 3], value=9)\n",
    "x6 = tf.constant([1.0, 2.0, 3.0, 4.0, 5.0, 6.0], shape=[2, 3])\n",
    "\n",
    "with tf.Session() as sess:\n",
    "    print(\"tf.zeros:{}\".format(x1.eval()))\n",
    "    print(\"tf.zeros_like:{}\".format(x2.eval()))\n",
    "    print(\"tf.ones:{}\".format(x3.eval()))\n",
    "    print(\"tf.ones_like:{}\".format(x4.eval()))\n",
    "    print(\"tf.fill:{}\".format(x5.eval()))\n",
    "    print(\"tf.constant:{}\".format(x6.eval()))"
   ]
  },
  {
   "cell_type": "markdown",
   "metadata": {},
   "source": [
    "## Sequences"
   ]
  },
  {
   "cell_type": "markdown",
   "metadata": {},
   "source": [
    "方法列表为:\n",
    "\n",
    "1. `tf.linspace()`\n",
    "2. `tf.range()`"
   ]
  },
  {
   "cell_type": "code",
   "execution_count": 3,
   "metadata": {},
   "outputs": [
    {
     "name": "stdout",
     "output_type": "stream",
     "text": [
      "tf.linspace:[ 1.  2.  3.  4.  5.  6.  7.  8.  9. 10.]\n",
      "tf.range:[1. 2. 3. 4. 5. 6. 7. 8. 9.]\n"
     ]
    }
   ],
   "source": [
    "tf.reset_default_graph()\n",
    "\n",
    "x1 = tf.linspace(start=1.0, stop=10.0, num=10)\n",
    "x2 = tf.range(start=1.0, limit=10.0, delta=1.0)\n",
    "\n",
    "with tf.Session() as sess:\n",
    "    print(\"tf.linspace:{}\".format(x1.eval()))\n",
    "    print(\"tf.range:{}\".format(x2.eval()))"
   ]
  },
  {
   "cell_type": "markdown",
   "metadata": {},
   "source": [
    "## Random Tensors"
   ]
  },
  {
   "cell_type": "markdown",
   "metadata": {},
   "source": [
    "方法列表为:\n",
    "\n",
    "1. `tf.random_normal`:Outputs random values from a normal distribution.\n",
    "2. `tf.truncated_normal`:Outputs random values from a truncated normal distributio.\n",
    "3. `tf.random_uniform`:Outputs random values from a uniform distributio.\n",
    "4. `tf.random_shuffle`:Randomly shuffles a tensor along its first dimensio.\n",
    "5. `tf.random_crop`:Randomly crops a tensor to a given size.\n",
    "6. `tf.multinomial`:Draws samples from a multinomial distributio.\n",
    "7. `tf.random_gamma`:Draws shape samples from each of the given Gamma distribution(s).\n",
    "8. `tf.set_random_seed`:Sets the graph-level random seed"
   ]
  },
  {
   "cell_type": "code",
   "execution_count": 4,
   "metadata": {},
   "outputs": [
    {
     "name": "stdout",
     "output_type": "stream",
     "text": [
      "tf.random_normal:[[-0.1386252  -0.24789245 -0.22179745]\n",
      " [ 0.9156514   1.1768112  -2.1070724 ]]\n",
      "tf.truncated_normal:[[-1.3978306  -0.16562939 -0.7687699 ]\n",
      " [ 1.327754   -0.17594577  0.4366916 ]]\n",
      "tf.random_uniform:[[0.6164038 6.0531435 9.805503 ]\n",
      " [1.5821779 4.566201  7.6065993]]\n",
      "tf.random_shuffle:[3. 2. 4. 1.]\n",
      "tf.random_crop:[2. 3. 4.]\n",
      "tf.multinomial:[[1 1 0 1 1]]\n",
      "tf.random_gamma:[[0.08046223 0.45518064]\n",
      " [0.06306191 0.92751986]\n",
      " [1.0062762  0.7649951 ]\n",
      " [0.04033575 1.0296742 ]\n",
      " [0.09271713 1.9232417 ]\n",
      " [0.05965098 1.8720796 ]\n",
      " [1.6233451  0.9085234 ]\n",
      " [0.05325522 0.77123183]\n",
      " [0.00520489 0.80084515]\n",
      " [0.34794864 1.9822903 ]]\n"
     ]
    }
   ],
   "source": [
    "tf.reset_default_graph()\n",
    "\n",
    "tf.set_random_seed(1234)\n",
    "x1 = tf.random_normal(shape=[2, 3], mean=0.0, stddev=1.0)\n",
    "x2 = tf.truncated_normal(shape=[2, 3], mean=0.0, stddev=1.0)\n",
    "x3 = tf.random_uniform(shape=[2, 3], minval=0, maxval=10)\n",
    "x4 = tf.random_shuffle(value=[1.0, 2.0, 3.0, 4.0])\n",
    "x5 = tf.random_crop(value=[1.0, 2.0, 3.0, 4.0, 5.0, 6.0], size=[3])\n",
    "x6 = tf.multinomial(logits=tf.log([[10., 10.]]), num_samples=5)\n",
    "x7 = tf.random_gamma(shape=[10], alpha=[0.5, 1.5])\n",
    "\n",
    "with tf.Session() as sess:\n",
    "    print(\"tf.random_normal:{}\".format(x1.eval()))\n",
    "    print(\"tf.truncated_normal:{}\".format(x2.eval()))\n",
    "    print(\"tf.random_uniform:{}\".format(x3.eval()))\n",
    "    print(\"tf.random_shuffle:{}\".format(x4.eval()))\n",
    "    print(\"tf.random_crop:{}\".format(x5.eval()))\n",
    "    print(\"tf.multinomial:{}\".format(x6.eval()))\n",
    "    print(\"tf.random_gamma:{}\".format(x7.eval()))"
   ]
  },
  {
   "cell_type": "code",
   "execution_count": null,
   "metadata": {},
   "outputs": [],
   "source": []
  }
 ],
 "metadata": {
  "kernelspec": {
   "display_name": "Python 3",
   "language": "python",
   "name": "python3"
  },
  "language_info": {
   "codemirror_mode": {
    "name": "ipython",
    "version": 3
   },
   "file_extension": ".py",
   "mimetype": "text/x-python",
   "name": "python",
   "nbconvert_exporter": "python",
   "pygments_lexer": "ipython3",
   "version": "3.5.5"
  },
  "toc": {
   "base_numbering": 1,
   "nav_menu": {},
   "number_sections": true,
   "sideBar": true,
   "skip_h1_title": false,
   "title_cell": "Table of Contents",
   "title_sidebar": "Contents",
   "toc_cell": false,
   "toc_position": {},
   "toc_section_display": true,
   "toc_window_display": false
  }
 },
 "nbformat": 4,
 "nbformat_minor": 2
}
