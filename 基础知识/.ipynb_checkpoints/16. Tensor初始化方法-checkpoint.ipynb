{
 "cells": [
  {
   "cell_type": "markdown",
   "metadata": {},
   "source": [
    "# Tensor初始化方法"
   ]
  },
  {
   "cell_type": "markdown",
   "metadata": {},
   "source": [
    "申请变量 Tensor时，一般使用 `tf.get_variable()`, 用到的初始化方法一般如下:\n",
    "\n",
    "1. `tf.constant_initializer()`:Initializer that generates tensors with constant values.\n",
    "2. `tf.ones_initializer()`:Initializer that generates tensors initialized to $1$.\n",
    "3. `tf.zeros_initializer()`:Initializer that generates tensors initialized to $0$.\n",
    "4. `tf.random_normal_initializer()`:Initializer that generates tensors with a normal distributio.\n",
    "5. `tf.truncated_normal_initializer()`:Initializer that generates a truncated normal distributio.\n",
    "6. `tf.random_uniform_initializer()`:Initializer that generates tensors with a uniform distributio.\n",
    "7. `tf.uniform_unit_scaling_initializer()`:Initializer that generates tensors without scaling varianc."
   ]
  },
  {
   "cell_type": "markdown",
   "metadata": {},
   "source": [
    "## 例子说明"
   ]
  },
  {
   "cell_type": "code",
   "execution_count": 1,
   "metadata": {},
   "outputs": [],
   "source": [
    "import tensorflow as tf"
   ]
  },
  {
   "cell_type": "markdown",
   "metadata": {},
   "source": [
    "### `tf.constant_initializer()`"
   ]
  },
  {
   "cell_type": "markdown",
   "metadata": {},
   "source": [
    "原型:`tf.constant_initializer(value, dtype, verify_shape)`. Initializer that generates tensors with constant values."
   ]
  },
  {
   "cell_type": "code",
   "execution_count": 5,
   "metadata": {},
   "outputs": [
    {
     "name": "stdout",
     "output_type": "stream",
     "text": [
      "fliting: [[0. 1. 2. 3.]\n",
      " [4. 5. 6. 7.]]\n",
      "larger: [[0. 1. 2. 3.]\n",
      " [4. 5. 6. 7.]\n",
      " [7. 7. 7. 7.]]\n"
     ]
    }
   ],
   "source": [
    "tf.reset_default_graph()\n",
    "\n",
    "value = [0.0, 1.0, 2.0, 3.0, 4.0, 5.0, 6.0, 7.0]\n",
    "init = tf.constant_initializer(value=value)\n",
    "\n",
    "x1 = tf.get_variable(\"v1\", shape=[2, 4], initializer=init)\n",
    "x2 = tf.get_variable(\"v2\", shape=[3, 4], initializer=init)\n",
    "#x3 = tf.get_variable(\"v3\", shape=[2, 3], initializer=init)\n",
    "\n",
    "with tf.Session() as sess:\n",
    "    tf.global_variables_initializer().run()\n",
    "    \n",
    "    print(\"fliting: {}\".format(x1.eval()))\n",
    "    print(\"larger: {}\".format(x2.eval()))\n",
    "    #print(\"smaller: {}\".format(x3.eval()))"
   ]
  },
  {
   "cell_type": "markdown",
   "metadata": {},
   "source": [
    "### `tf.ones_initializer()`"
   ]
  },
  {
   "cell_type": "code",
   "execution_count": 6,
   "metadata": {},
   "outputs": [
    {
     "name": "stdout",
     "output_type": "stream",
     "text": [
      "x1: [[1. 1. 1. 1.]\n",
      " [1. 1. 1. 1.]]\n"
     ]
    }
   ],
   "source": [
    "tf.reset_default_graph()\n",
    "\n",
    "init = tf.ones_initializer(dtype=tf.float32)\n",
    "\n",
    "x1 = tf.get_variable(\"x1\", shape=[2, 4], initializer=init)\n",
    "\n",
    "with tf.Session() as sess:\n",
    "    tf.global_variables_initializer().run()\n",
    "    \n",
    "    print(\"x1: {}\".format(x1.eval()))"
   ]
  },
  {
   "cell_type": "markdown",
   "metadata": {},
   "source": [
    "### `tf.zeros_initializer()`"
   ]
  },
  {
   "cell_type": "code",
   "execution_count": 7,
   "metadata": {},
   "outputs": [
    {
     "name": "stdout",
     "output_type": "stream",
     "text": [
      "x1: [[0. 0. 0. 0.]\n",
      " [0. 0. 0. 0.]]\n"
     ]
    }
   ],
   "source": [
    "tf.reset_default_graph()\n",
    "\n",
    "init = tf.zeros_initializer(dtype=tf.float32)\n",
    "\n",
    "x1 = tf.get_variable(\"x1\", shape=[2, 4], initializer=init)\n",
    "\n",
    "with tf.Session() as sess:\n",
    "    tf.global_variables_initializer().run()\n",
    "    \n",
    "    print(\"x1: {}\".format(x1.eval()))"
   ]
  },
  {
   "cell_type": "markdown",
   "metadata": {},
   "source": [
    "### `tf.random_normal_initializer()`"
   ]
  },
  {
   "cell_type": "markdown",
   "metadata": {},
   "source": [
    "原型:`tf.random_normal_initializer(mean=0.0,stddev=1.0,seed=None,dtype=tf.float32)`. Initializer that generates tensors with a normal distributio."
   ]
  },
  {
   "cell_type": "code",
   "execution_count": 14,
   "metadata": {},
   "outputs": [
    {
     "name": "stdout",
     "output_type": "stream",
     "text": [
      "x1: [[-0.7895569  -0.10652571 -0.8467249   1.1024054 ]\n",
      " [ 2.5773494  -0.6237494   1.155529   -0.15168744]]\n"
     ]
    }
   ],
   "source": [
    "tf.reset_default_graph()\n",
    "\n",
    "init = tf.random_normal_initializer()\n",
    "\n",
    "x1 = tf.get_variable(\"x1\", shape=[2, 4], initializer=init)\n",
    "\n",
    "with tf.Session() as sess:\n",
    "    tf.global_variables_initializer().run()\n",
    "    \n",
    "    print(\"x1: {}\".format(x1.eval()))"
   ]
  },
  {
   "cell_type": "markdown",
   "metadata": {},
   "source": [
    "### `tf.truncated_normal_initializer()`"
   ]
  },
  {
   "cell_type": "markdown",
   "metadata": {},
   "source": [
    "原型:`tf.truncated_normal_initializer(mean=0.0,stddev=1.0,seed=None,dtype=tf.float32)`. Initializer that generates a truncated normal distributio."
   ]
  },
  {
   "cell_type": "code",
   "execution_count": 11,
   "metadata": {},
   "outputs": [
    {
     "name": "stdout",
     "output_type": "stream",
     "text": [
      "x1: [[ 0.2831741   1.1158873  -1.7728971   0.15575412]\n",
      " [ 0.22755289  0.30561605  1.1741476   0.87317044]]\n"
     ]
    }
   ],
   "source": [
    "tf.reset_default_graph()\n",
    "\n",
    "init = tf.truncated_normal_initializer()\n",
    "\n",
    "x1 = tf.get_variable(\"x1\", shape=[2, 4], initializer=init)\n",
    "\n",
    "with tf.Session() as sess:\n",
    "    tf.global_variables_initializer().run()\n",
    "    \n",
    "    print(\"x1: {}\".format(x1.eval()))"
   ]
  },
  {
   "cell_type": "markdown",
   "metadata": {},
   "source": [
    "### `tf.random_uniform_initializer()`"
   ]
  },
  {
   "cell_type": "markdown",
   "metadata": {},
   "source": [
    "原型: `tf.tf.random_uniform_initializer(minval=0,maxval=None,seed=None,dtype=tf.float32)`.Initializer that generates tensors with a uniform distributio."
   ]
  },
  {
   "cell_type": "code",
   "execution_count": 12,
   "metadata": {},
   "outputs": [
    {
     "name": "stdout",
     "output_type": "stream",
     "text": [
      "x1: [[-0.57111895 -0.06305406  1.6960198  -0.22203359]\n",
      " [-0.41994503 -1.3260975   0.9160734   1.0524141 ]]\n"
     ]
    }
   ],
   "source": [
    "tf.reset_default_graph()\n",
    "\n",
    "init = tf.random_normal_initializer()\n",
    "\n",
    "x1 = tf.get_variable(\"x1\", shape=[2, 4], initializer=init)\n",
    "\n",
    "with tf.Session() as sess:\n",
    "    tf.global_variables_initializer().run()\n",
    "    \n",
    "    print(\"x1: {}\".format(x1.eval()))"
   ]
  },
  {
   "cell_type": "markdown",
   "metadata": {},
   "source": [
    "### `tf.uniform_unit_scaling_initializer()`"
   ]
  },
  {
   "cell_type": "markdown",
   "metadata": {},
   "source": [
    "原型:`tf.uniform_unit_scaling_initializer(factor=1.0,seed=None,dtype=tf.float32)`. Initializer that generates tensors without scaling varianc."
   ]
  },
  {
   "cell_type": "code",
   "execution_count": 13,
   "metadata": {},
   "outputs": [
    {
     "name": "stdout",
     "output_type": "stream",
     "text": [
      "WARNING:tensorflow:From <ipython-input-13-8e9d6702abfe>:3: UniformUnitScaling.__init__ (from tensorflow.python.ops.init_ops) is deprecated and will be removed in a future version.\n",
      "Instructions for updating:\n",
      "Use tf.initializers.variance_scaling instead with distribution=uniform to get equivalent behavior.\n",
      "x1: [[-0.15356553 -0.58139044 -0.1909126  -0.5064564 ]\n",
      " [ 0.21269357 -0.08922446  0.01677608  0.46847892]]\n"
     ]
    }
   ],
   "source": [
    "tf.reset_default_graph()\n",
    "\n",
    "init = tf.uniform_unit_scaling_initializer()\n",
    "\n",
    "x1 = tf.get_variable(\"x1\", shape=[2, 4], initializer=init)\n",
    "\n",
    "with tf.Session() as sess:\n",
    "    tf.global_variables_initializer().run()\n",
    "    \n",
    "    print(\"x1: {}\".format(x1.eval()))"
   ]
  },
  {
   "cell_type": "code",
   "execution_count": null,
   "metadata": {},
   "outputs": [],
   "source": []
  }
 ],
 "metadata": {
  "kernelspec": {
   "display_name": "Python 3",
   "language": "python",
   "name": "python3"
  },
  "language_info": {
   "codemirror_mode": {
    "name": "ipython",
    "version": 3
   },
   "file_extension": ".py",
   "mimetype": "text/x-python",
   "name": "python",
   "nbconvert_exporter": "python",
   "pygments_lexer": "ipython3",
   "version": "3.5.5"
  },
  "toc": {
   "base_numbering": 1,
   "nav_menu": {},
   "number_sections": true,
   "sideBar": true,
   "skip_h1_title": false,
   "title_cell": "Table of Contents",
   "title_sidebar": "Contents",
   "toc_cell": false,
   "toc_position": {},
   "toc_section_display": true,
   "toc_window_display": false
  }
 },
 "nbformat": 4,
 "nbformat_minor": 2
}
