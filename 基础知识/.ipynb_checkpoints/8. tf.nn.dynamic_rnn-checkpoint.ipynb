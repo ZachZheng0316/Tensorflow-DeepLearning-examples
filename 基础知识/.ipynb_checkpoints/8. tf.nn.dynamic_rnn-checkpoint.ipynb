{
 "cells": [
  {
   "cell_type": "markdown",
   "metadata": {
    "toc": true
   },
   "source": [
    "<h1>Table of Contents<span class=\"tocSkip\"></span></h1>\n",
    "<div class=\"toc\"><ul class=\"toc-item\"><li><span><a href=\"#tf.nn.dynamic_rnn\" data-toc-modified-id=\"tf.nn.dynamic_rnn-1\"><span class=\"toc-item-num\">1&nbsp;&nbsp;</span>tf.nn.dynamic_rnn</a></span></li><li><span><a href=\"#参考资料\" data-toc-modified-id=\"参考资料-2\"><span class=\"toc-item-num\">2&nbsp;&nbsp;</span>参考资料</a></span></li></ul></div>"
   ]
  },
  {
   "cell_type": "markdown",
   "metadata": {},
   "source": [
    "# tf.nn.dynamic_rnn\n",
    "\n",
    "用一个小例子来说明 `tf.nn.dynamic_rnn` 的用法:\n",
    "\n",
    "假设你的输入是 $inputs=[2, 20, 18]$,  其中 $2$ 为 batch_size, 20为截断最大长度, 128 为embedding_size. 可以看出只有两个样例. 假设第一个样例的截断长度为20, 第二个样子的截断长度为13, 剩下的用 `0-padding` 填充. 例如: 在NLP中不同句子的长度, 有的长, 有的短. \n",
    "\n",
    "dynamic_rnn 返回两个参数outputs, last_states, 其中, outputs是[2, 20, 128], 也就是每一个迭代隐状态的输出, last_states是由(c, h)组成的tuple, 均为[batch, 128]。\n",
    "\n",
    "dynamic_rnn有一个参数:sequence_length, 这个参数来指定每个example的长度, 比如上面例子中sequence_langth:[20, 13], 表示第一个examle的长度为20, 第二个example的长度为13, 第二个参数的其余部分用`0-padding`, 对于第二个参数, 超过13以后padding就不计算了,其last_states将复制13步的last_state直到第20步, 而outputs中超过13步的结果将会被置零."
   ]
  },
  {
   "cell_type": "code",
   "execution_count": 12,
   "metadata": {
    "collapsed": true
   },
   "outputs": [],
   "source": [
    "import tensorflow as tf\n",
    "import numpy as np\n",
    "\n",
    "tf.reset_default_graph()"
   ]
  },
  {
   "cell_type": "code",
   "execution_count": 13,
   "metadata": {},
   "outputs": [
    {
     "name": "stdout",
     "output_type": "stream",
     "text": [
      "result_outputs shape:  (2, 10, 3)\n",
      "result_outputs: \n",
      " [[[-0.01063851  0.01748171 -0.08379733]\n",
      "  [-0.00340277 -0.00960592 -0.03479423]\n",
      "  [-0.0253704   0.01941522 -0.18626434]\n",
      "  [-0.02717365 -0.00720103 -0.18333199]\n",
      "  [-0.02976138 -0.02103011 -0.15031428]\n",
      "  [-0.04253727 -0.00632649 -0.20103233]\n",
      "  [-0.04947873 -0.01396211 -0.21166135]\n",
      "  [-0.05547664 -0.01783599 -0.21543861]\n",
      "  [-0.03994731 -0.07020354 -0.13266371]\n",
      "  [-0.04618341 -0.050701   -0.13769976]]\n",
      "\n",
      " [[ 0.02079382 -0.04478659  0.09032885]\n",
      "  [ 0.03235999 -0.06676555  0.15557945]\n",
      "  [ 0.01545323 -0.02326013  0.06964482]\n",
      "  [ 0.0006022   0.00756315 -0.03478671]\n",
      "  [-0.00551326  0.01206128 -0.0675198 ]\n",
      "  [-0.00126666 -0.0071909  -0.02702726]\n",
      "  [ 0.          0.          0.        ]\n",
      "  [ 0.          0.          0.        ]\n",
      "  [ 0.          0.          0.        ]\n",
      "  [ 0.          0.          0.        ]]]\n",
      "\n",
      "result_last_state shape:  (2, 2, 3)\n",
      "result_last_states: \n",
      " LSTMStateTuple(c=array([[-0.09700437, -0.10569769, -0.29588657],\n",
      "       [-0.00249645, -0.01434784, -0.0517046 ]]), h=array([[-0.04618341, -0.050701  , -0.13769976],\n",
      "       [-0.00126666, -0.0071909 , -0.02702726]]))\n"
     ]
    }
   ],
   "source": [
    "# 创建输入数据\n",
    "# X Shape: [2, 10, 1]\n",
    "X = np.random.randn(2, 10, 1)\n",
    "\n",
    "# 第二个的截断长度只为6\n",
    "X[1, 6:] = 0\n",
    "\n",
    "# 指定截断长度\n",
    "X_length = [10, 6]\n",
    "\n",
    "# 建立基础LSTM\n",
    "cell = tf.nn.rnn_cell.BasicLSTMCell(num_units=3)\n",
    "\n",
    "# 扩展RNN网络\n",
    "outputs, last_states = tf.nn.dynamic_rnn(cell=cell, \n",
    "                                         inputs=X, \n",
    "                                         dtype=tf.float64, \n",
    "                                         sequence_length=X_length)\n",
    "\n",
    "config = tf.ConfigProto(allow_soft_placement=True)\n",
    "config.gpu_options.allow_growth = True\n",
    "with tf.Session(config=config) as sess:\n",
    "    # 变量初始化\n",
    "    tf.global_variables_initializer().run()\n",
    "    \n",
    "    # 计算结果\n",
    "    result_outputs, result_last_states = sess.run([outputs, last_states])\n",
    "    \n",
    "    # 打印运算结果\n",
    "    print(\"result_outputs shape: \", np.array(result_outputs).shape)\n",
    "    print(\"result_outputs: \\n\", result_outputs)\n",
    "    print(\"\\nresult_last_state shape: \", np.array(result_last_states).shape)\n",
    "    print(\"result_last_states: \\n\", result_last_states)"
   ]
  },
  {
   "cell_type": "markdown",
   "metadata": {},
   "source": [
    "第一个样例输出了10个数据, 每个数据的的维度为[3]; 第二个样例, 也输出了10个数据, 不过后四个全部为0;\n",
    "\n",
    "状态值的shape为[2, 2, 3]: 第一个2表示样例的个数, 第二个2表示(h, c), 第三个3表示(h, c)的维度为[3]"
   ]
  },
  {
   "cell_type": "markdown",
   "metadata": {},
   "source": [
    "# 参考资料\n",
    "\n",
    "1. 网络"
   ]
  }
 ],
 "metadata": {
  "kernelspec": {
   "display_name": "Python 3",
   "language": "python",
   "name": "python3"
  },
  "language_info": {
   "codemirror_mode": {
    "name": "ipython",
    "version": 3
   },
   "file_extension": ".py",
   "mimetype": "text/x-python",
   "name": "python",
   "nbconvert_exporter": "python",
   "pygments_lexer": "ipython3",
   "version": "3.5.4"
  },
  "toc": {
   "base_numbering": 1,
   "nav_menu": {},
   "number_sections": true,
   "sideBar": true,
   "skip_h1_title": false,
   "title_cell": "Table of Contents",
   "title_sidebar": "Contents",
   "toc_cell": true,
   "toc_position": {},
   "toc_section_display": true,
   "toc_window_display": false
  }
 },
 "nbformat": 4,
 "nbformat_minor": 2
}
