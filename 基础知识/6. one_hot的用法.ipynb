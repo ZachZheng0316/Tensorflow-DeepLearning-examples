{
 "cells": [
  {
   "cell_type": "code",
   "execution_count": 1,
   "metadata": {},
   "outputs": [],
   "source": [
    "import tensorflow as tf"
   ]
  },
  {
   "cell_type": "markdown",
   "metadata": {},
   "source": [
    "假设我们有 $5$ 个样本，这五个样本分别是：\n",
    "\n",
    "1. 行人: 0表示\n",
    "2. 汽车: 1表示\n",
    "3. 皮卡: 2表示\n",
    "4. 行人: 0表示\n",
    "5. 皮卡: 2表示\n",
    "\n",
    "我们把 ${行人，汽车，皮卡}$ 称之为 **结果空间**; 把 ${0, 1, 2}$ 称之为对应 **结果空间** 的 indix(标签)，每一个数字对应着相应的结果。\n",
    "\n",
    "现在把每一个样本的结果用 `one-hot` 的形式表示。"
   ]
  },
  {
   "cell_type": "code",
   "execution_count": 2,
   "metadata": {},
   "outputs": [
    {
     "name": "stdout",
     "output_type": "stream",
     "text": [
      "target1: \n",
      "[[5. 0. 0.]\n",
      " [0. 5. 0.]\n",
      " [0. 0. 5.]\n",
      " [5. 0. 0.]\n",
      " [0. 0. 5.]]\n"
     ]
    }
   ],
   "source": [
    "indices = [0, 1, 2, 0, 2] # 样本的标签 vector\n",
    "depth = 3 # 结果空间的数量\n",
    "target1 = tf.one_hot(indices=indices, depth=depth, on_value=5.0, off_value=0.0, axis=-1)\n",
    "print(\"target1: \\n{}\".format(target1.eval(session=tf.Session())))"
   ]
  },
  {
   "cell_type": "markdown",
   "metadata": {},
   "source": [
    "上式中还有三个参数:`on_value`、`off_value`、`axis`:\n",
    "1. `on_value`: 指定在index处显示的值。默认为 $1.0$;\n",
    "2. `off_value`: 指定在非index处显示的值. 默认为 $0.0$;\n",
    "3. `axis`:指定显示的 shape, 默认为 $-1$;如果 $axis == -1$, 则 $output = [indices.shape, depth]$; 如果 $axis == 0$, 则$output = [depth, indices.shape]$."
   ]
  },
  {
   "cell_type": "code",
   "execution_count": 3,
   "metadata": {},
   "outputs": [
    {
     "name": "stdout",
     "output_type": "stream",
     "text": [
      "target2: \n",
      "[[5. 0. 0. 5. 0.]\n",
      " [0. 5. 0. 0. 0.]\n",
      " [0. 0. 5. 0. 5.]]\n"
     ]
    }
   ],
   "source": [
    "# axis = 0\n",
    "indices = [0, 1, 2, 0, 2] # 样本的标签 vector\n",
    "depth = 3 # 结果空间的数量\n",
    "target2 = tf.one_hot(indices=indices, depth=depth, on_value=5.0, off_value=0.0, axis=0)\n",
    "print(\"target2: \\n{}\".format(target2.eval(session=tf.Session())))"
   ]
  },
  {
   "cell_type": "code",
   "execution_count": null,
   "metadata": {},
   "outputs": [],
   "source": []
  }
 ],
 "metadata": {
  "kernelspec": {
   "display_name": "Python 3",
   "language": "python",
   "name": "python3"
  },
  "language_info": {
   "codemirror_mode": {
    "name": "ipython",
    "version": 3
   },
   "file_extension": ".py",
   "mimetype": "text/x-python",
   "name": "python",
   "nbconvert_exporter": "python",
   "pygments_lexer": "ipython3",
   "version": "3.5.5"
  },
  "toc": {
   "base_numbering": 1,
   "nav_menu": {},
   "number_sections": true,
   "sideBar": true,
   "skip_h1_title": false,
   "title_cell": "Table of Contents",
   "title_sidebar": "Contents",
   "toc_cell": false,
   "toc_position": {},
   "toc_section_display": true,
   "toc_window_display": false
  }
 },
 "nbformat": 4,
 "nbformat_minor": 2
}
