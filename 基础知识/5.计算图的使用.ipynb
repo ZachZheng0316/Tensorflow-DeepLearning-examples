{
 "cells": [
  {
   "cell_type": "markdown",
   "metadata": {
    "toc": true
   },
   "source": [
    "<h1>Table of Contents<span class=\"tocSkip\"></span></h1>\n",
    "<div class=\"toc\"><ul class=\"toc-item\"><li><span><a href=\"#计算图的使用\" data-toc-modified-id=\"计算图的使用-1\"><span class=\"toc-item-num\">1&nbsp;&nbsp;</span>计算图的使用</a></span><ul class=\"toc-item\"><li><span><a href=\"#使用默认的计算图\" data-toc-modified-id=\"使用默认的计算图-1.1\"><span class=\"toc-item-num\">1.1&nbsp;&nbsp;</span>使用默认的计算图</a></span></li><li><span><a href=\"#产生新的计算图\" data-toc-modified-id=\"产生新的计算图-1.2\"><span class=\"toc-item-num\">1.2&nbsp;&nbsp;</span>产生新的计算图</a></span></li><li><span><a href=\"#在计算图中指定计算设备\" data-toc-modified-id=\"在计算图中指定计算设备-1.3\"><span class=\"toc-item-num\">1.3&nbsp;&nbsp;</span>在计算图中指定计算设备</a></span></li></ul></li></ul></div>"
   ]
  },
  {
   "cell_type": "markdown",
   "metadata": {},
   "source": [
    "# 计算图的使用"
   ]
  },
  {
   "cell_type": "markdown",
   "metadata": {},
   "source": [
    "## 使用默认的计算图"
   ]
  },
  {
   "cell_type": "markdown",
   "metadata": {},
   "source": [
    "TensorFlow的程序一般分为两个阶段：**构建计算图**和**执行计算图**。\n",
    "在Tensorflow程序中，系统会自动维护一个默认的计算图，通过`tf.get_default_graph`函数可以获取默认的计算图"
   ]
  },
  {
   "cell_type": "code",
   "execution_count": 1,
   "metadata": {},
   "outputs": [
    {
     "name": "stdout",
     "output_type": "stream",
     "text": [
      "a graph is:  <tensorflow.python.framework.ops.Graph object at 0x000001CCAC562DD8>\n",
      "the default graph is:  <tensorflow.python.framework.ops.Graph object at 0x000001CCAC562DD8>\n"
     ]
    }
   ],
   "source": [
    "import tensorflow as tf\n",
    "import numpy as np\n",
    "\n",
    "a = tf.constant([1.0, 2.0], name='a')\n",
    "b = tf.constant([2.0, 3.0], name='b')\n",
    "result = tf.add(a, b)\n",
    "\n",
    "# 获取张量a所属的计算图和系统默认的计算图\n",
    "# 它们两者应该时相等的\n",
    "print(\"a graph is: \", a.graph)\n",
    "print(\"the default graph is: \", tf.get_default_graph())"
   ]
  },
  {
   "cell_type": "markdown",
   "metadata": {},
   "source": [
    "## 产生新的计算图"
   ]
  },
  {
   "cell_type": "markdown",
   "metadata": {},
   "source": [
    "除了使用默认的计算图以外，TensorFlow支持通过`tf.Graph`函数来生成新的计算图。\n",
    "不同计算图上的张量和运算都不会共享。以下代码示意了在不同计算图上定义和使用变量。"
   ]
  },
  {
   "cell_type": "code",
   "execution_count": 1,
   "metadata": {},
   "outputs": [
    {
     "name": "stdout",
     "output_type": "stream",
     "text": [
      "[0.]\n",
      "[1.]\n"
     ]
    }
   ],
   "source": [
    "import tensorflow as tf\n",
    "\n",
    "g1 = tf.Graph()\n",
    "with g1.as_default():\n",
    "    # 在计算图g1上定义变量\"v\"，并设置值为0\n",
    "    v = tf.get_variable(\"v\", shape=[1], initializer=tf.zeros_initializer())\n",
    "    \n",
    "g2 = tf.Graph()\n",
    "with g2.as_default():\n",
    "    # 在计算图g2上定义变量\"v\"，并设置值为1\n",
    "    v = tf.get_variable(\"v\", shape=[1], initializer=tf.ones_initializer())\n",
    "    \n",
    "# 在计算图g1中读取变量\"v\"的取值\n",
    "with tf.Session(graph=g1) as sess:\n",
    "    # 变量初始化\n",
    "    tf.global_variables_initializer().run()\n",
    "    \n",
    "    with tf.variable_scope(\"\", reuse=True):\n",
    "        # 在计算图g1中，变量\"v\"的取值应该是0，所以下面的结果应该是[0.]\n",
    "        print(sess.run(tf.get_variable(\"v\")))\n",
    "        \n",
    "# 在计算图g2中读取变量\"v\"的取值\n",
    "with tf.Session(graph=g2) as sess:\n",
    "    # 变量初始化\n",
    "    tf.global_variables_initializer().run()\n",
    "    \n",
    "    with tf.variable_scope(\"\", reuse=True):\n",
    "        # 在计算图g1中，变量\"v\"的取值应该是0，所以下面的结果应该是[0.]\n",
    "        print(sess.run(tf.get_variable(\"v\")))\n"
   ]
  },
  {
   "cell_type": "markdown",
   "metadata": {},
   "source": [
    "上面的代码产生了两个计算图，每个计算图中定义了一个名字为 `v` 的变量。在计算图中 `g1` 中，将 `v` 初始化为 $0$ ；在计算图 `g2` 中，将 `v` 初始化为 $1$。可以看到当运行不同的计算图时，`v` 的变量值也不一样。"
   ]
  },
  {
   "cell_type": "markdown",
   "metadata": {},
   "source": [
    "## 在计算图中指定计算设备"
   ]
  },
  {
   "cell_type": "markdown",
   "metadata": {},
   "source": [
    "TensorFlow中的计算图不仅仅可以用来隔离张量和计算，它还提供了管理张量和计算的功能。计算图可以用`tf.Graph.device` 函数来指定运行计算的设备。这是 TensorFlow 使用GPU提供了机制。以下程序可以让加法跑在GPU上。"
   ]
  },
  {
   "cell_type": "code",
   "execution_count": 3,
   "metadata": {},
   "outputs": [
    {
     "name": "stdout",
     "output_type": "stream",
     "text": [
      "[1. 1.]\n"
     ]
    }
   ],
   "source": [
    "import tensorflow as tf\n",
    "\n",
    "with tf.Graph().as_default() as g:\n",
    "    with g.device(\"/gpu:0\"):\n",
    "        a = tf.get_variable(\"a\", shape=[2], initializer=tf.zeros_initializer())\n",
    "        b = tf.get_variable(\"b\", shape=[2], initializer=tf.ones_initializer())\n",
    "        result = tf.add(a, b)\n",
    "\n",
    "# 配置输出参数：打印设备，运行自动计算设备\n",
    "config = tf.ConfigProto(allow_soft_placement=True, log_device_placement=True)\n",
    "with tf.Session(config=config,graph=g) as sess:\n",
    "    # 变量初始化操作\n",
    "    tf.global_variables_initializer().run()\n",
    "    \n",
    "    with tf.variable_scope(\"\", reuse=True):\n",
    "        # 在计算图g中，获取变量result\n",
    "        print(sess.run(result))"
   ]
  }
 ],
 "metadata": {
  "kernelspec": {
   "display_name": "Python 3",
   "language": "python",
   "name": "python3"
  },
  "language_info": {
   "codemirror_mode": {
    "name": "ipython",
    "version": 3
   },
   "file_extension": ".py",
   "mimetype": "text/x-python",
   "name": "python",
   "nbconvert_exporter": "python",
   "pygments_lexer": "ipython3",
   "version": "3.5.5"
  },
  "toc": {
   "base_numbering": 1,
   "nav_menu": {},
   "number_sections": true,
   "sideBar": true,
   "skip_h1_title": false,
   "title_cell": "Table of Contents",
   "title_sidebar": "Contents",
   "toc_cell": true,
   "toc_position": {
    "height": "calc(100% - 180px)",
    "left": "10px",
    "top": "150px",
    "width": "165px"
   },
   "toc_section_display": true,
   "toc_window_display": false
  }
 },
 "nbformat": 4,
 "nbformat_minor": 2
}
