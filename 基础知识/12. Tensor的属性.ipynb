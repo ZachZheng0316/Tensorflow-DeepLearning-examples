{
 "cells": [
  {
   "cell_type": "markdown",
   "metadata": {},
   "source": [
    "# Tensor的属性"
   ]
  },
  {
   "cell_type": "markdown",
   "metadata": {},
   "source": [
    "Tensor常见的属性有:\n",
    "\n",
    "1. Tensor.device\n",
    "2. Tensor.dtype\n",
    "3. Tensor.graph\n",
    "4. Tensor.name\n",
    "5. Tensor.op\n",
    "6. Tensor.shape\n",
    "7. Tensor.value_index"
   ]
  },
  {
   "cell_type": "markdown",
   "metadata": {},
   "source": [
    "Tensor常见的方法有：\n",
    "\n",
    "1. Tensor.eval():Evaluates this tensor in a Session.\n",
    "2. Tensor.get_shape(): alias of Tensor.shape.\n",
    "3. Tensor.set_shape(): update the shape of this tensor, do not change the shape of this tensor."
   ]
  },
  {
   "cell_type": "code",
   "execution_count": 1,
   "metadata": {},
   "outputs": [],
   "source": [
    "import tensorflow as tf"
   ]
  },
  {
   "cell_type": "code",
   "execution_count": 9,
   "metadata": {},
   "outputs": [
    {
     "name": "stdout",
     "output_type": "stream",
     "text": [
      "device: \n",
      "dtype: <dtype: 'float32'>\n",
      "graph: <tensorflow.python.framework.ops.Graph object at 0x0000022974CA7EF0>\n",
      "name: const_a_5:0\n",
      "op: name: \"const_a_5\"\n",
      "op: \"Const\"\n",
      "attr {\n",
      "  key: \"dtype\"\n",
      "  value {\n",
      "    type: DT_FLOAT\n",
      "  }\n",
      "}\n",
      "attr {\n",
      "  key: \"value\"\n",
      "  value {\n",
      "    tensor {\n",
      "      dtype: DT_FLOAT\n",
      "      tensor_shape {\n",
      "        dim {\n",
      "          size: 2\n",
      "        }\n",
      "        dim {\n",
      "          size: 3\n",
      "        }\n",
      "      }\n",
      "      tensor_content: \"\\000\\000\\200?\\000\\000\\000@\\000\\000@@\\000\\000\\200@\\000\\000\\240@\\000\\000\\300@\"\n",
      "    }\n",
      "  }\n",
      "}\n",
      "\n",
      "shape: (2, 3)\n",
      "value_index: 0\n",
      "\n",
      "\n",
      "eval(): [[1. 2. 3.]\n",
      " [4. 5. 6.]]\n",
      "set_shape((3,2)): None\n",
      "get_shape(): (2, 3)\n"
     ]
    }
   ],
   "source": [
    "a = tf.constant(value=[[1.0, 2.0, 3.0], [4.0, 5.0, 6.0]], dtype=tf.float32, shape=None, name=\"const_a\")\n",
    "\n",
    "print(\"device: {}\".format(a.device))\n",
    "print(\"dtype: {}\".format(a.dtype))\n",
    "print(\"graph: {}\".format(a.graph))\n",
    "print(\"name: {}\".format(a.name))\n",
    "print(\"op: {}\".format(a.op))\n",
    "print(\"shape: {}\".format(a.shape))\n",
    "print(\"value_index: {}\".format(a.value_index))\n",
    "print(\"\\n\")\n",
    "print(\"eval(): {}\".format(a.eval(session=tf.Session())))\n",
    "print(\"set_shape((3,2)): {}\".format(a.set_shape(shape=(2,3))))\n",
    "print(\"get_shape(): {}\".format(a.get_shape()))"
   ]
  },
  {
   "cell_type": "markdown",
   "metadata": {},
   "source": [
    "`Tensor.set_shape` 使用说明：用来明确指明 Tensor 的 shape，而不是改变 Tensor 的 Shape。"
   ]
  },
  {
   "cell_type": "markdown",
   "metadata": {},
   "source": [
    "```\n",
    "_, image_data = tf.TFRecordReader(...).read(...)\n",
    "image = tf.image.decode_png(image_data, channels=3)\n",
    "\n",
    "# The height and width dimensions of `image` are data dependent, and\n",
    "# cannot be computed without executing the op.\n",
    "print(image.shape)\n",
    "==> TensorShape([Dimension(None), Dimension(None), Dimension(3)])\n",
    "\n",
    "# We know that each image in this dataset is 28 x 28 pixels.\n",
    "image.set_shape([28, 28, 3])\n",
    "print(image.shape)\n",
    "==> TensorShape([Dimension(28), Dimension(28), Dimension(3)])\n",
    "```"
   ]
  },
  {
   "cell_type": "markdown",
   "metadata": {},
   "source": []
  },
  {
   "cell_type": "code",
   "execution_count": null,
   "metadata": {},
   "outputs": [],
   "source": []
  }
 ],
 "metadata": {
  "kernelspec": {
   "display_name": "Python 3",
   "language": "python",
   "name": "python3"
  },
  "language_info": {
   "codemirror_mode": {
    "name": "ipython",
    "version": 3
   },
   "file_extension": ".py",
   "mimetype": "text/x-python",
   "name": "python",
   "nbconvert_exporter": "python",
   "pygments_lexer": "ipython3",
   "version": "3.5.5"
  },
  "toc": {
   "base_numbering": 1,
   "nav_menu": {},
   "number_sections": true,
   "sideBar": true,
   "skip_h1_title": false,
   "title_cell": "Table of Contents",
   "title_sidebar": "Contents",
   "toc_cell": false,
   "toc_position": {},
   "toc_section_display": true,
   "toc_window_display": false
  }
 },
 "nbformat": 4,
 "nbformat_minor": 2
}
