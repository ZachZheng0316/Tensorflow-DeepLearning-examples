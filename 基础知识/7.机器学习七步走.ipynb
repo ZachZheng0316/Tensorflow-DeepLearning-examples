{
 "cells": [
  {
   "cell_type": "markdown",
   "metadata": {
    "toc": true
   },
   "source": [
    "<h1>Table of Contents<span class=\"tocSkip\"></span></h1>\n",
    "<div class=\"toc\"><ul class=\"toc-item\"><li><span><a href=\"#机器学习七步走\" data-toc-modified-id=\"机器学习七步走-1\"><span class=\"toc-item-num\">1&nbsp;&nbsp;</span>机器学习七步走</a></span><ul class=\"toc-item\"><li><span><a href=\"#搜集数据\" data-toc-modified-id=\"搜集数据-1.1\"><span class=\"toc-item-num\">1.1&nbsp;&nbsp;</span>搜集数据</a></span></li><li><span><a href=\"#数据准备\" data-toc-modified-id=\"数据准备-1.2\"><span class=\"toc-item-num\">1.2&nbsp;&nbsp;</span>数据准备</a></span></li><li><span><a href=\"#选择模型\" data-toc-modified-id=\"选择模型-1.3\"><span class=\"toc-item-num\">1.3&nbsp;&nbsp;</span>选择模型</a></span></li><li><span><a href=\"#训练模型\" data-toc-modified-id=\"训练模型-1.4\"><span class=\"toc-item-num\">1.4&nbsp;&nbsp;</span>训练模型</a></span></li><li><span><a href=\"#评估模型\" data-toc-modified-id=\"评估模型-1.5\"><span class=\"toc-item-num\">1.5&nbsp;&nbsp;</span>评估模型</a></span></li><li><span><a href=\"#参数微调\" data-toc-modified-id=\"参数微调-1.6\"><span class=\"toc-item-num\">1.6&nbsp;&nbsp;</span>参数微调</a></span></li><li><span><a href=\"#预测\" data-toc-modified-id=\"预测-1.7\"><span class=\"toc-item-num\">1.7&nbsp;&nbsp;</span>预测</a></span></li></ul></li><li><span><a href=\"#参考资料\" data-toc-modified-id=\"参考资料-2\"><span class=\"toc-item-num\">2&nbsp;&nbsp;</span>参考资料</a></span></li></ul></div>"
   ]
  },
  {
   "cell_type": "markdown",
   "metadata": {},
   "source": [
    "# 机器学习七步走\n",
    "\n",
    "## 搜集数据\n",
    "\n",
    "这一步最重要, 数据的数量和质量决定了最终形成的预测模型的好坏。\n",
    "\n",
    "## 数据准备\n",
    "\n",
    "第一步:把数据分为**训练数据**、**交叉验证数据**和**测试数据**;\n",
    "\n",
    "第二步:调整数据形式:例如, 去重、规范化、纠错等.\n",
    "\n",
    "## 选择模型\n",
    "\n",
    "结合问题选择合适的模型\n",
    "\n",
    "## 训练模型\n",
    "\n",
    "## 评估模型\n",
    "\n",
    "## 参数微调\n",
    "\n",
    "## 预测"
   ]
  },
  {
   "cell_type": "markdown",
   "metadata": {},
   "source": [
    "# 参考资料\n",
    "\n",
    "1. 网络"
   ]
  },
  {
   "cell_type": "code",
   "execution_count": null,
   "metadata": {
    "collapsed": true
   },
   "outputs": [],
   "source": []
  }
 ],
 "metadata": {
  "kernelspec": {
   "display_name": "Python 3",
   "language": "python",
   "name": "python3"
  },
  "language_info": {
   "codemirror_mode": {
    "name": "ipython",
    "version": 3
   },
   "file_extension": ".py",
   "mimetype": "text/x-python",
   "name": "python",
   "nbconvert_exporter": "python",
   "pygments_lexer": "ipython3",
   "version": "3.5.5"
  },
  "toc": {
   "base_numbering": 1,
   "nav_menu": {},
   "number_sections": true,
   "sideBar": true,
   "skip_h1_title": false,
   "title_cell": "Table of Contents",
   "title_sidebar": "Contents",
   "toc_cell": true,
   "toc_position": {},
   "toc_section_display": true,
   "toc_window_display": false
  }
 },
 "nbformat": 4,
 "nbformat_minor": 2
}
