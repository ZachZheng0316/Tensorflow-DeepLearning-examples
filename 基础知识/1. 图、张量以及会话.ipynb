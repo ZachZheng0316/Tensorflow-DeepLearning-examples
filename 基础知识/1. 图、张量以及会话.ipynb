{
 "cells": [
  {
   "cell_type": "markdown",
   "metadata": {
    "toc": true
   },
   "source": [
    "<h1>Table of Contents<span class=\"tocSkip\"></span></h1>\n",
    "<div class=\"toc\"><ul class=\"toc-item\"><li><span><a href=\"#1.定义两个不同的图\" data-toc-modified-id=\"1.定义两个不同的图-1\"><span class=\"toc-item-num\">1&nbsp;&nbsp;</span>1.定义两个不同的图</a></span></li><li><span><a href=\"#2.张量的使用\" data-toc-modified-id=\"2.张量的使用-2\"><span class=\"toc-item-num\">2&nbsp;&nbsp;</span>2.张量的使用</a></span></li><li><span><a href=\"#3.会话的使用\" data-toc-modified-id=\"3.会话的使用-3\"><span class=\"toc-item-num\">3&nbsp;&nbsp;</span>3.会话的使用</a></span><ul class=\"toc-item\"><li><span><a href=\"#3.1-创建和关闭会话\" data-toc-modified-id=\"3.1-创建和关闭会话-3.1\"><span class=\"toc-item-num\">3.1&nbsp;&nbsp;</span>3.1 创建和关闭会话</a></span></li><li><span><a href=\"#3.2-使用with-statement-来创建会话\" data-toc-modified-id=\"3.2-使用with-statement-来创建会话-3.2\"><span class=\"toc-item-num\">3.2&nbsp;&nbsp;</span>3.2 使用with statement 来创建会话</a></span></li><li><span><a href=\"#3.3-指定默认会话\" data-toc-modified-id=\"3.3-指定默认会话-3.3\"><span class=\"toc-item-num\">3.3&nbsp;&nbsp;</span>3.3 指定默认会话</a></span></li></ul></li><li><span><a href=\"#4.使用tf.InteractiveSession构建会话\" data-toc-modified-id=\"4.使用tf.InteractiveSession构建会话-4\"><span class=\"toc-item-num\">4&nbsp;&nbsp;</span>4.使用tf.InteractiveSession构建会话</a></span></li><li><span><a href=\"#5.通过ConfigPrto配置会话\" data-toc-modified-id=\"5.通过ConfigPrto配置会话-5\"><span class=\"toc-item-num\">5&nbsp;&nbsp;</span>5.通过ConfigPrto配置会话</a></span></li></ul></div>"
   ]
  },
  {
   "cell_type": "markdown",
   "metadata": {},
   "source": [
    "# 定义两个不同的图\n",
    "\n",
    "TensorFlow 默认存在一个计算图(graph)和会话(session);计算图只有加载在会话中，才能进行计算."
   ]
  },
  {
   "cell_type": "code",
   "execution_count": 1,
   "metadata": {
    "collapsed": true
   },
   "outputs": [],
   "source": [
    "import tensorflow as tf"
   ]
  },
  {
   "cell_type": "code",
   "execution_count": 2,
   "metadata": {},
   "outputs": [
    {
     "name": "stdout",
     "output_type": "stream",
     "text": [
      "[0.]\n",
      "[1.]\n"
     ]
    }
   ],
   "source": [
    "# 清空计算图\n",
    "tf.reset_default_graph()\n",
    "\n",
    "# 建立计算图g1\n",
    "g1 = tf.Graph()\n",
    "# 把g1设置为默认计算图\n",
    "with g1.as_default():\n",
    "    # 申请变量v, 设置初始值为0\n",
    "    v = tf.get_variable(\"v\", shape=[1], initializer=tf.zeros_initializer())\n",
    "    \n",
    "# 建立计算图g2\n",
    "g2 = tf.Graph()\n",
    "# 把g2设置为默认计算图\n",
    "with g2.as_default():\n",
    "    # 建立变量v，初始值为1\n",
    "    v = tf.get_variable(\"v\", shape=[1], initializer=tf.ones_initializer())\n",
    "    \n",
    "# 建立会话并加载计算图g1\n",
    "with tf.Session(graph = g1) as sess:\n",
    "    # 变量初始化\n",
    "    tf.global_variables_initializer().run()\n",
    "    \n",
    "    # 访问变量v\n",
    "    with tf.variable_scope(\"\", reuse=True):\n",
    "        print(sess.run(tf.get_variable(\"v\")))\n",
    "        \n",
    "# 建立会话并加载计算图g2\n",
    "with tf.Session(graph = g2) as sess:\n",
    "    # 变量初始化\n",
    "    tf.global_variables_initializer().run()\n",
    "    \n",
    "    # 访问变量v\n",
    "    with tf.variable_scope(\"\", reuse=True):\n",
    "        print(sess.run(tf.get_variable(\"v\")))"
   ]
  },
  {
   "cell_type": "markdown",
   "metadata": {},
   "source": [
    "# 张量的使用"
   ]
  },
  {
   "cell_type": "code",
   "execution_count": 6,
   "metadata": {},
   "outputs": [
    {
     "name": "stdout",
     "output_type": "stream",
     "text": [
      "Tensor(\"Add:0\", shape=(2,), dtype=float32)\n",
      "[ 3.  5.]\n"
     ]
    }
   ],
   "source": [
    "# 情况计算图\n",
    "tf.reset_default_graph()\n",
    "\n",
    "# 建立张量\n",
    "a = tf.constant([1.0, 2.0], name=\"a\")\n",
    "b = tf.constant([2.0, 3.0], name=\"b\")\n",
    "result = tf.add(a, b)\n",
    "# 打印Tensor result\n",
    "print(result)\n",
    "\n",
    "# 建立会话\n",
    "sess = tf.InteractiveSession()\n",
    "\n",
    "# 打印result的结果\n",
    "print(result.eval())\n",
    "\n",
    "# 关闭会话\n",
    "sess.close()"
   ]
  },
  {
   "cell_type": "markdown",
   "metadata": {},
   "source": [
    "# 会话的使用\n",
    "\n",
    "## 普通方式创建会话\n",
    "\n",
    "以普通方式创建会话，需要手动关闭会话。"
   ]
  },
  {
   "cell_type": "code",
   "execution_count": 7,
   "metadata": {},
   "outputs": [
    {
     "name": "stdout",
     "output_type": "stream",
     "text": [
      "[ 3.  5.]\n"
     ]
    }
   ],
   "source": [
    "# 创建一个会话\n",
    "sess = tf.Session()\n",
    "\n",
    "# 使用会话得到之前的结果\n",
    "print(sess.run(result))\n",
    "\n",
    "# 关闭会话是的本次运行中使用的资源可以被释放\n",
    "sess.close()"
   ]
  },
  {
   "cell_type": "markdown",
   "metadata": {},
   "source": [
    "## 使用with statement 来创建会话"
   ]
  },
  {
   "cell_type": "code",
   "execution_count": 8,
   "metadata": {},
   "outputs": [
    {
     "name": "stdout",
     "output_type": "stream",
     "text": [
      "[ 3.  5.]\n"
     ]
    }
   ],
   "source": [
    "with tf.Session() as sess:\n",
    "    print(sess.run(result))"
   ]
  },
  {
   "cell_type": "markdown",
   "metadata": {},
   "source": [
    "## 指定默认会话"
   ]
  },
  {
   "cell_type": "code",
   "execution_count": 9,
   "metadata": {},
   "outputs": [
    {
     "name": "stdout",
     "output_type": "stream",
     "text": [
      "[ 3.  5.]\n"
     ]
    }
   ],
   "source": [
    "sess = tf.Session() # 创建一个会话\n",
    "with sess.as_default():\n",
    "    print(result.eval())"
   ]
  },
  {
   "cell_type": "code",
   "execution_count": 11,
   "metadata": {},
   "outputs": [
    {
     "name": "stdout",
     "output_type": "stream",
     "text": [
      "[ 3.  5.]\n",
      "[ 3.  5.]\n"
     ]
    }
   ],
   "source": [
    "# 建立一个会话\n",
    "sess = tf.Session()\n",
    "\n",
    "# 获取张量的数据:有两种方法\n",
    "print(sess.run(result))\n",
    "print(result.eval(session=sess))\n",
    "\n",
    "# 关闭会话\n",
    "sess.close()"
   ]
  },
  {
   "cell_type": "markdown",
   "metadata": {},
   "source": [
    "## 使用tf.InteractiveSession构建会话"
   ]
  },
  {
   "cell_type": "code",
   "execution_count": 12,
   "metadata": {},
   "outputs": [
    {
     "name": "stdout",
     "output_type": "stream",
     "text": [
      "[ 3.  5.]\n"
     ]
    }
   ],
   "source": [
    "# 构建会话\n",
    "sess = tf.InteractiveSession()\n",
    "print(result.eval())\n",
    "sess.close()"
   ]
  },
  {
   "cell_type": "markdown",
   "metadata": {},
   "source": [
    "# 通过ConfigPrto配置会话"
   ]
  },
  {
   "cell_type": "markdown",
   "metadata": {},
   "source": [
    "通过 ConfigProto 可以配置类似并行的线程数、GPU分配策略、运算超时时间等参数。在这些参数中最常用的有两个:第一个是`allow_soft_placement`，这是一个`bool`类型的参数，当它为`True`时，在以下任意一个条件成立时，GPU上的运算可以放到CPU上进行：\n",
    "1. 运算无法在GPU上运行；\n",
    "2. 没有GPU资源(比如运算被指定在第二个GPU上，但是机器上只有一个GPU)；\n",
    "3. 运算输入包含对CPU计算结果的引用；\n",
    "这个参数默认为`False`，但是为了使得代码移植性更强，在有GPU的环境下，这个参数一般被设置为`True`。\n",
    "\n",
    "第二个使用的比较多的配置参数为`log_device_placement`.这也是一个配置参数, 当它为 True时日志中将会记录每个节点被安排在哪个设备上以方便调试。而在生产环境中将这个参数设置为`False`可以减少日志量。"
   ]
  },
  {
   "cell_type": "code",
   "execution_count": 3,
   "metadata": {
    "collapsed": true
   },
   "outputs": [],
   "source": [
    "# 配置会话参数\n",
    "config = tf.ConfigProto(allow_soft_placement=True, log_device_placement=True)\n",
    "config.gpu_options.allow_growth = True # 允许动态分配内存\n",
    "\n",
    "# 建立会话\n",
    "sess1 = tf.InteractiveSession(config=config)\n",
    "sess2 = tf.Session(config=config)\n",
    "\n",
    "# 关闭会话\n",
    "sess1.close()\n",
    "sess2.close()"
   ]
  },
  {
   "cell_type": "code",
   "execution_count": null,
   "metadata": {
    "collapsed": true
   },
   "outputs": [],
   "source": []
  }
 ],
 "metadata": {
  "kernelspec": {
   "display_name": "Python 3",
   "language": "python",
   "name": "python3"
  },
  "language_info": {
   "codemirror_mode": {
    "name": "ipython",
    "version": 3
   },
   "file_extension": ".py",
   "mimetype": "text/x-python",
   "name": "python",
   "nbconvert_exporter": "python",
   "pygments_lexer": "ipython3",
   "version": "3.6.1"
  },
  "toc": {
   "base_numbering": 1,
   "nav_menu": {},
   "number_sections": true,
   "sideBar": true,
   "skip_h1_title": false,
   "title_cell": "Table of Contents",
   "title_sidebar": "Contents",
   "toc_cell": true,
   "toc_position": {},
   "toc_section_display": true,
   "toc_window_display": false
  }
 },
 "nbformat": 4,
 "nbformat_minor": 2
}
