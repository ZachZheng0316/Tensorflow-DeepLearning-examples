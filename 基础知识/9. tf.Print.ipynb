{
 "cells": [
  {
   "cell_type": "markdown",
   "metadata": {
    "toc": true
   },
   "source": [
    "<h1>Table of Contents<span class=\"tocSkip\"></span></h1>\n",
    "<div class=\"toc\"><ul class=\"toc-item\"><li><span><a href=\"#Python中的print\" data-toc-modified-id=\"Python中的print-1\"><span class=\"toc-item-num\">1&nbsp;&nbsp;</span>Python中的print</a></span></li><li><span><a href=\"#tf.Print函数\" data-toc-modified-id=\"tf.Print函数-2\"><span class=\"toc-item-num\">2&nbsp;&nbsp;</span>tf.Print函数</a></span></li><li><span><a href=\"#参考资料\" data-toc-modified-id=\"参考资料-3\"><span class=\"toc-item-num\">3&nbsp;&nbsp;</span>参考资料</a></span></li></ul></div>"
   ]
  },
  {
   "cell_type": "markdown",
   "metadata": {},
   "source": [
    "# Python中的print\n",
    "\n",
    "使用TensorFlow时, 一定要记得所有的东西最终都体现为图的计算. 也就是说如果使用Python的print命令来输出TensorFlow的某个操作, 得到的结果仅仅是这个操作的相关描述, 因为当前还没有值被传入这个操作. print命令还常常会显示该节点所期望且已知的维度."
   ]
  },
  {
   "cell_type": "code",
   "execution_count": 4,
   "metadata": {
    "collapsed": true
   },
   "outputs": [],
   "source": [
    "import tensorflow as tf"
   ]
  },
  {
   "cell_type": "code",
   "execution_count": 5,
   "metadata": {},
   "outputs": [
    {
     "name": "stdout",
     "output_type": "stream",
     "text": [
      "Tensor(\"Const_4:0\", shape=(2, 2), dtype=int32)\n"
     ]
    }
   ],
   "source": [
    "a = tf.constant([[4, 4], [3, 3]])\n",
    "print(a)"
   ]
  },
  {
   "cell_type": "markdown",
   "metadata": {},
   "source": [
    "# tf.Print函数\n",
    "\n",
    "其主要作用是打印节点的数据.\n",
    "\n",
    "通常我们认为 `print` 被附加在某些值、操作所在之处，让它执行之后又再回到原来的操作流当中。如下图所示:\n",
    "\n",
    "![9_1](9_1.jpg)\n",
    "\n",
    "在 TensorFlow 逻辑里，只有需要被执行的图节点才会计算其输出值。所以如果你的输出语句悬于图中某个节点之处，则它根本不会执行。\n",
    "\n",
    "`print`的正确的摆放位置如下:\n",
    "\n",
    "![9_2](9_2.jpg)\n",
    "\n",
    "具体实现方式是将输入节点作为第一个参数传入，然后把 `tf.Print` 函数的返回值赋值给即将作为下一节点输入的变量。这样就能够把输出语句嵌入图的执行流当中了。（强调一下，把返回值传入下一个节点极其重要，因为一旦你不这么做，当前的输出语句仍然悬在某个节点上，而不是嵌入了流当中）。\n",
    "\n",
    "与常见 print 命令另一处不同是，我们引入 tf.Print 只是给出了它被执行的时机（即该节点在图中被执行的时机）。然而，你能输入的内容并不会受到太大的限制。\n",
    "\n",
    "也就是说，你只需确定在图中的哪里要执行输出命令，但是却可以一次将所有可以访问的节点都输出出来。这通过第二个参数来实现：它是一个节点数组。通常我们会用与 tf.Print 第一参数相同的节点，但是我们也可以包含更多的节点在里面(如下例所示: )\n",
    "\n",
    "还可以在上述第二个参数后面加上第三个参数，一则提示信息。通过它，你能够在输出的字符串之前附着一些提示，这样就便于在输出日志中找到特定的内容了."
   ]
  },
  {
   "cell_type": "code",
   "execution_count": 6,
   "metadata": {},
   "outputs": [],
   "source": [
    "input1 = tf.constant([[1, 1], [1, 1]])\n",
    "input2 = tf.constant([[2, 2], [2, 2]])\n",
    "input3 = tf.constant([[4, 4], [4, 4]])\n",
    "node1 = tf.add(input1, input2)\n",
    "# 打印input1 和 input3的数据\n",
    "print_output = tf.Print(node1, data=[input1, input3], message=\"data: \\n\")\n",
    "output = tf.multiply(print_output, input3)\n",
    "\n",
    "with tf.Session() as sess:\n",
    "    sess.run(output)"
   ]
  },
  {
   "cell_type": "markdown",
   "metadata": {},
   "source": [
    "注意，在使用 Jupyter notebook 时，输出内容在其 console 的 stderr 中，不是在 notebook 每个代码格子的执行输出中。一定要注意这一点，否则会找不到输出的内容.\n",
    "\n",
    "另一个要注意的地方是：如果你在输入函数中使用了 tf.Print，则一定要注意控制传入的数据量，否则你会陷入不停滚动输出界面的窘境。\n",
    "\n",
    "我常常会在输入函数中使用 tf.Print，这样便于调试到底什么数据送入了训练循环中。这里不用 Python 的 print 是因为它仅仅在输入函数图被构建时执行一次。"
   ]
  },
  {
   "cell_type": "markdown",
   "metadata": {},
   "source": [
    "# 参考资料\n",
    "\n",
    "1. 网络"
   ]
  }
 ],
 "metadata": {
  "kernelspec": {
   "display_name": "Python 3",
   "language": "python",
   "name": "python3"
  },
  "language_info": {
   "codemirror_mode": {
    "name": "ipython",
    "version": 3
   },
   "file_extension": ".py",
   "mimetype": "text/x-python",
   "name": "python",
   "nbconvert_exporter": "python",
   "pygments_lexer": "ipython3",
   "version": "3.5.4"
  },
  "toc": {
   "base_numbering": 1,
   "nav_menu": {},
   "number_sections": true,
   "sideBar": true,
   "skip_h1_title": false,
   "title_cell": "Table of Contents",
   "title_sidebar": "Contents",
   "toc_cell": true,
   "toc_position": {},
   "toc_section_display": true,
   "toc_window_display": false
  }
 },
 "nbformat": 4,
 "nbformat_minor": 2
}
