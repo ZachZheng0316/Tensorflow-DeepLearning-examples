{
 "cells": [
  {
   "cell_type": "markdown",
   "metadata": {},
   "source": [
    "# 三层简单神经网络\n",
    "\n",
    "网络结构为:\n",
    "\n",
    "| 输入层 | 隐含层 | 输出层 |\n",
    "| ----- | ------ | ------|\n",
    "| 2     | 3      | 1     |"
   ]
  },
  {
   "cell_type": "code",
   "execution_count": 1,
   "metadata": {
    "collapsed": true
   },
   "outputs": [],
   "source": [
    "import tensorflow as tf"
   ]
  },
  {
   "cell_type": "markdown",
   "metadata": {},
   "source": [
    "## 不使用placehold"
   ]
  },
  {
   "cell_type": "code",
   "execution_count": 10,
   "metadata": {},
   "outputs": [
    {
     "name": "stdout",
     "output_type": "stream",
     "text": [
      "[[1.6550071]\n",
      " [2.1338608]\n",
      " [2.6127148]]\n"
     ]
    }
   ],
   "source": [
    "# 模拟输入值, 尺寸为[3, 2], 3个样本\n",
    "X = tf.constant([0.1,0.2, 0.3, 0.4, 0.5, 0.6], shape=[3, 2])\n",
    "\n",
    "# 定义超参数\n",
    "W1 = tf.Variable(tf.random_normal(shape=[2, 3], stddev=1, seed=1))\n",
    "B1 = tf.Variable(tf.random_normal(shape=[3,], stddev=1, seed=1))\n",
    "W2 = tf.Variable(tf.random_normal(shape=[3, 1], stddev=1, seed=1))\n",
    "B2 = tf.Variable(tf.random_normal(shape=[1,], stddev=1, seed=1))\n",
    "\n",
    "# 构建前向传播计算图\n",
    "Z1 = tf.add(tf.matmul(X, W1), B1)\n",
    "A1 = tf.nn.relu(Z1)\n",
    "Z2 = tf.add(tf.matmul(A1, W2), B2)\n",
    "A2 = tf.nn.relu(Z2)\n",
    "\n",
    "# 配置会话参数\n",
    "config = tf.ConfigProto(allow_soft_placement=True, log_device_placement=True)\n",
    "with tf.Session(config=config) as sess:\n",
    "    # 变量初始化\n",
    "    tf.global_variables_initializer().run()\n",
    "    \n",
    "    # 输出结果\n",
    "    print(sess.run(A2))\n",
    "    # 等价\n",
    "    # print(A2.eval(session=sess))"
   ]
  },
  {
   "cell_type": "markdown",
   "metadata": {
    "collapsed": true
   },
   "source": [
    "## 使用placeholder"
   ]
  },
  {
   "cell_type": "code",
   "execution_count": 14,
   "metadata": {},
   "outputs": [
    {
     "name": "stdout",
     "output_type": "stream",
     "text": [
      "[[1.6550071]\n",
      " [2.1338608]\n",
      " [2.6127148]]\n"
     ]
    }
   ],
   "source": [
    "# 重置计算图\n",
    "tf.reset_default_graph()\n",
    "\n",
    "# 定义placeholder:不确定输入样本的个数\n",
    "X = tf.placeholder(tf.float32, shape=(None, 2), name=\"input\")\n",
    "\n",
    "# 定义超参数\n",
    "W1 = tf.Variable(tf.random_normal(shape=[2, 3], stddev=1, seed=1))\n",
    "B1 = tf.Variable(tf.random_normal(shape=[3,], stddev=1, seed=1))\n",
    "W2 = tf.Variable(tf.random_normal(shape=[3, 1], stddev=1, seed=1))\n",
    "B2 = tf.Variable(tf.random_normal(shape=[1,], stddev=1, seed=1))\n",
    "\n",
    "# 定义前向传播过程\n",
    "A1 = tf.nn.relu_layer(x=X, weights=W1, biases=B1)\n",
    "A2 = tf.nn.relu_layer(x=A1, weights=W2, biases=B2)\n",
    "\n",
    "# 配置输出\n",
    "config = tf.ConfigProto(allow_soft_placement=True, log_device_placement=True)\n",
    "with tf.Session(config=config) as sess:\n",
    "    # 变量初始化\n",
    "    tf.global_variables_initializer().run()\n",
    "    \n",
    "    # 打印结果\n",
    "    print(sess.run(A2, feed_dict={X: [[0.1, 0.2],[0.3,0.4],[0.5,0.6]]}))"
   ]
  },
  {
   "cell_type": "code",
   "execution_count": null,
   "metadata": {
    "collapsed": true
   },
   "outputs": [],
   "source": []
  }
 ],
 "metadata": {
  "kernelspec": {
   "display_name": "Python 3",
   "language": "python",
   "name": "python3"
  },
  "language_info": {
   "codemirror_mode": {
    "name": "ipython",
    "version": 3
   },
   "file_extension": ".py",
   "mimetype": "text/x-python",
   "name": "python",
   "nbconvert_exporter": "python",
   "pygments_lexer": "ipython3",
   "version": "3.6.1"
  }
 },
 "nbformat": 4,
 "nbformat_minor": 2
}
