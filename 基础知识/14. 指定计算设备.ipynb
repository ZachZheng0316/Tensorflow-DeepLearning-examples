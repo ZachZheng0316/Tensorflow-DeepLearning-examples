{
 "cells": [
  {
   "cell_type": "markdown",
   "metadata": {},
   "source": [
    "# 指定计算设备"
   ]
  },
  {
   "cell_type": "markdown",
   "metadata": {},
   "source": [
    "指定计算设备的函数为:`tf.device(device_name_or_function)`,此函数为此函数是对`tf.Graph.device` 函数的包装。"
   ]
  },
  {
   "cell_type": "markdown",
   "metadata": {},
   "source": [
    "指定运行每一个操作的设备，这个设备可以时本地的 `CPU` 或者 `GPU`，也可以是某一台远程的服务器。TensorFlow 会给每一台可用的设备指定一个可用的名字，`tf.device` 函数会通过设备的名称来指定执行的运算的设备。比如：`cpu` 在 TensorFlow 中的名称为 `/cpu:0`. 在默认情况下，即使机器有再多个 `CPU` ，TensorFlow 也不会区分它们，所有 `CPU` 设备名字都使用 `/cpu:0` 作为名称。而一台机器上不同 `gpu` 的名称不同，第 $n$ 个 `gpu` 在 TensorFlow 中的名称为 `/gpu:n`。比如第一个 `gpu` 的名称为 `/gpu:0`，第二个 `gpu` 的名称为 `/gpu:2`，以此类推。\n",
    "<br>\n",
    "在配置好 `GPU` 环境的 TensorFlow 中，如果操作没有明确指定运行设备，那么 TensorFlow 会优先选择 `GPU`。"
   ]
  },
  {
   "cell_type": "markdown",
   "metadata": {},
   "source": [
    "不同版本的 TensorFlow 对 `gpu` 的支持不一样，如果程序中全部使用强制指定设备的方式会降低程序的可移植性。在 TensorFlow 的 kernel中定义了那些操作可以跑在 `GPU` 上。比如可以在`variable_ops.cc` 程序中找到以下定义："
   ]
  },
  {
   "cell_type": "markdown",
   "metadata": {},
   "source": [
    "# define REGISTER_GPU_KERNEELS(type):\n",
    "    REGISTER_KERNEL_BUILDER(\n",
    "    Name(\"Variable\").Device(DEVICE_GPU).TypeConstraint(type)(\"dtype\"), VariableOp);\n",
    "...\n",
    "TF_CALL_GPU_NUMBER_TYPES(REGISTER_GPU_KERNELS);"
   ]
  },
  {
   "cell_type": "markdown",
   "metadata": {},
   "source": [
    "从这段定义可以看出 `GPU` 只在部分数据类型上支持 `tf.Variable` 操作。一般只支持`tf.float16`,`tf.float32`和`double`参数。为避免报错，TensorFlow在生成会话时可以指定`allow_soft_placement`参数，当 `allow_soft_placement` 参数设置为 `True` 时，如果运算无法由 `GPU`执行时，那么 TensorFlow 会自动将运算放到 `CPU` 上执行。"
   ]
  },
  {
   "cell_type": "markdown",
   "metadata": {},
   "source": [
    "## 例子说明"
   ]
  },
  {
   "cell_type": "code",
   "execution_count": 1,
   "metadata": {},
   "outputs": [],
   "source": [
    "import tensorflow as tf"
   ]
  },
  {
   "cell_type": "markdown",
   "metadata": {},
   "source": [
    "### 不指定设备"
   ]
  },
  {
   "cell_type": "code",
   "execution_count": 6,
   "metadata": {},
   "outputs": [
    {
     "name": "stdout",
     "output_type": "stream",
     "text": [
      "[[2. 4.]\n",
      " [6. 8.]]\n"
     ]
    }
   ],
   "source": [
    "tf.reset_default_graph()\n",
    "\n",
    "a = tf.constant([1.0, 2.0, 3.0, 4.0], shape=[2, 2], name='a')\n",
    "b = tf.constant([1.0, 2.0, 3.0, 4.0], shape=[2, 2], name='b')\n",
    "c = tf.add(a, b, name='add')\n",
    "\n",
    "# 通过log_device_placement参数来记录运行每一个运算设备\n",
    "config = tf.ConfigProto(log_device_placement=True) \n",
    "sess = tf.Session(config=config)\n",
    "print(sess.run(c)) # "
   ]
  },
  {
   "cell_type": "markdown",
   "metadata": {},
   "source": [
    "在终端显示结果如下(删除了不必要的显示)：\n",
    "```\n",
    "add: (Add): /job:localhost/replica:0/task:0/device:GPU:0\n",
    "a: (Const): /job:localhost/replica:0/task:0/device:GPU:0\n",
    "b: (Const): /job:localhost/replica:0/task:0/device:GPU:0\n",
    "```"
   ]
  },
  {
   "cell_type": "markdown",
   "metadata": {},
   "source": [
    "### 通过`tf.device`指定特定的计算设备"
   ]
  },
  {
   "cell_type": "code",
   "execution_count": 7,
   "metadata": {},
   "outputs": [
    {
     "name": "stdout",
     "output_type": "stream",
     "text": [
      "[2. 4. 6. 8.]\n"
     ]
    }
   ],
   "source": [
    "tf.reset_default_graph()\n",
    "\n",
    "# 通过tf.device将运算指定到特定的设备上\n",
    "with tf.device(\"/cpu:0\"):\n",
    "    a = tf.constant([1.0, 2.0, 3.0, 4.0], shape=[4], name='a')\n",
    "    b = tf.constant([1.0, 2.0, 3.0, 4.0], shape=[4], name='b')\n",
    "with tf.device(\"/gpu:0\"):\n",
    "    c = tf.add(a, b, name=\"add\")\n",
    "\n",
    "# 通过log_device_placement参数来记录每一次运算的设备\n",
    "config = tf.ConfigProto(log_device_placement=True)\n",
    "sess = tf.Session(config=config)\n",
    "\n",
    "# 输出结果c\n",
    "print(sess.run(c))"
   ]
  },
  {
   "cell_type": "markdown",
   "metadata": {},
   "source": [
    "在终端显示结果如下(删除了不必要的显示):\n",
    "\n",
    "```\n",
    "add: (Add): /job:localhost/replica:0/task:0/device:GPU:0\n",
    "a: (Const): /job:localhost/replica:0/task:0/device:CPU:0\n",
    "b: (Const): /job:localhost/replica:0/task:0/device:CPU:0\n",
    "```"
   ]
  },
  {
   "cell_type": "markdown",
   "metadata": {},
   "source": [
    "### 在`CPU` 和 `GPU` 上分别建立整型运算"
   ]
  },
  {
   "cell_type": "code",
   "execution_count": 9,
   "metadata": {},
   "outputs": [],
   "source": [
    "tf.reset_default_graph()\n",
    "\n",
    "# 在cpu上建立一个整型变量\n",
    "a_cpu = tf.Variable(0, name='a_cpu')\n",
    "\n",
    "# 在gpu上建立一个整型变量\n",
    "with tf.device(\"/gpu:0\"):\n",
    "    # 在gpu上无法建立整型变量\n",
    "    a_gpu = tf.Variable(0, name='a_gpu')\n",
    "\n",
    "# 通过allow_soft_placement参数自动将无法放在GPU上操作的放回cpu上\n",
    "# 通过log_device_placement参数来记录每一次运算的设备\n",
    "config = tf.ConfigProto(allow_soft_placement = True, log_device_placement=True)\n",
    "sess = tf.Session(config=config)\n",
    "\n",
    "# 变量初始化\n",
    "sess.run(tf.global_variables_initializer())"
   ]
  },
  {
   "cell_type": "markdown",
   "metadata": {},
   "source": [
    "终端显示结果如下(删除了不必要的显示):\n",
    "\n",
    "```\n",
    "a_cpu: (VariableV2): /job:localhost/replica:0/task:0/device:CPU:0\n",
    "a_gpu: (VariableV2): /job:localhost/replica:0/task:0/device:CPU:0\n",
    "```"
   ]
  },
  {
   "cell_type": "markdown",
   "metadata": {},
   "source": [
    "由上述结果可知：我们让计算图在 `GPU` 上建立一个整型变量 `a_gpu`，但实际上整型变量是在 `CPU` 上建立的，这是为什么呢？因为 `GPU` 不支持建立整型变量。"
   ]
  }
 ],
 "metadata": {
  "kernelspec": {
   "display_name": "Python 3",
   "language": "python",
   "name": "python3"
  },
  "language_info": {
   "codemirror_mode": {
    "name": "ipython",
    "version": 3
   },
   "file_extension": ".py",
   "mimetype": "text/x-python",
   "name": "python",
   "nbconvert_exporter": "python",
   "pygments_lexer": "ipython3",
   "version": "3.5.5"
  },
  "toc": {
   "base_numbering": 1,
   "nav_menu": {},
   "number_sections": true,
   "sideBar": true,
   "skip_h1_title": false,
   "title_cell": "Table of Contents",
   "title_sidebar": "Contents",
   "toc_cell": false,
   "toc_position": {},
   "toc_section_display": true,
   "toc_window_display": false
  }
 },
 "nbformat": 4,
 "nbformat_minor": 2
}
