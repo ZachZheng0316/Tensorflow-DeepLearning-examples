{
 "cells": [
  {
   "cell_type": "markdown",
   "metadata": {},
   "source": [
    "#### 1.假设我们输入的矩阵为[5, 5, 3]"
   ]
  },
  {
   "cell_type": "code",
   "execution_count": 3,
   "metadata": {},
   "outputs": [
    {
     "name": "stdout",
     "output_type": "stream",
     "text": [
      "Matrix shape is:  (5, 5, 3)\n",
      "Matrix data is:  <memory at 0x00000221F9BACD68>\n"
     ]
    }
   ],
   "source": [
    "import tensorflow as tf\n",
    "import numpy as np\n",
    "\n",
    "# 构建[5, 5, 3]的矩阵\n",
    "M = np.random.randint(-10, 10, size=[5, 5, 3])\n",
    "\n",
    "# 打印矩阵的数据\n",
    "print(\"Matrix shape is: \", M.shape)\n",
    "print(\"Matrix data is: \", M.data)"
   ]
  },
  {
   "cell_type": "markdown",
   "metadata": {},
   "source": [
    "#### 2.定义卷积过滤器，为6@[5, 5, 3]"
   ]
  },
  {
   "cell_type": "code",
   "execution_count": 5,
   "metadata": {
    "collapsed": true
   },
   "outputs": [],
   "source": [
    "# 通过tf.get_variable()函数创建过滤器\n",
    "# 这里申明的参数为4维变量，\n",
    "# 前两个参数表示过滤尺寸\n",
    "# 第三个参数表示输入层的深度\n",
    "# 第四个参数表示过滤器的个数\n",
    "filter_weight = tf.get_variable(\"weights\",\n",
    "                               shape=[5, 5, 3, 6],\n",
    "                               initializer=tf.truncated_normal_initializer(stddev=0.1))\n",
    "# 设置偏置项\n",
    "biases = tf.get_variable(\"biases\", shape=[6], \n",
    "                         initializer=tf.constant_initializer(0.1))"
   ]
  },
  {
   "cell_type": "markdown",
   "metadata": {},
   "source": [
    "#### 3.调整输入的格式符合TensorFlow的要求"
   ]
  },
  {
   "cell_type": "code",
   "execution_count": 6,
   "metadata": {
    "collapsed": true
   },
   "outputs": [],
   "source": [
    "M = np.asarray(M, dtype='float32') # 调整类型\n",
    "M = M.reshape(1, 5, 5, 3)"
   ]
  },
  {
   "cell_type": "markdown",
   "metadata": {},
   "source": [
    "#### 4.计算矩阵通过卷积层过滤和池化层过滤器计算后的结果"
   ]
  },
  {
   "cell_type": "code",
   "execution_count": null,
   "metadata": {
    "collapsed": true
   },
   "outputs": [],
   "source": [
    "# 构建输入节点\n",
    "# [1, None, None, None]:\n",
    "# 第一个维度：表示batch的大小\n",
    "# 后面三个维度：表示图片尺寸的大小\n",
    "x = tf.placeholder('tf.float32', [1, None, None, None])\n",
    "\n",
    "# 构建卷积层\n",
    "# tf.nn.conv2d提供了一个非常方便的函数来实现卷积层前向传播算法。\n",
    "# 第一个参数：为当前层的节点矩阵。注意这个节点矩阵是一个四维矩阵，\n",
    "# 后面三维对应一个节点矩阵，第一维对应一个输入batch\n",
    "# 比如：input[0, :, :, :]表示第一张图片；\n",
    "# input[1, :, :, :]表示第二张图片；后续以此类推\n",
    "# 第二个参数提供了卷积层的权重，\n",
    "# 第三个参数为不同维度上的步长,虽然第三个参数提供的是一个长度为4的数组，\n",
    "# 但是第一维和最后一维的数字一定是1.这是因为卷积的步长只对矩阵的长宽有效\n",
    "# 最后一个参数是填充(padding)的方法，TensorFlow中提供SAME或者VALID两种选择。\n",
    "# 其中SAME表示添加全0填充，VALID表示不添加"
   ]
  }
 ],
 "metadata": {
  "kernelspec": {
   "display_name": "Python 3",
   "language": "python",
   "name": "python3"
  },
  "language_info": {
   "codemirror_mode": {
    "name": "ipython",
    "version": 3
   },
   "file_extension": ".py",
   "mimetype": "text/x-python",
   "name": "python",
   "nbconvert_exporter": "python",
   "pygments_lexer": "ipython3",
   "version": "3.5.4"
  }
 },
 "nbformat": 4,
 "nbformat_minor": 2
}
