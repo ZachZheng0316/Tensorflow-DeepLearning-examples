{
 "cells": [
  {
   "cell_type": "markdown",
   "metadata": {
    "toc": true
   },
   "source": [
    "<h1>Table of Contents<span class=\"tocSkip\"></span></h1>\n",
    "<div class=\"toc\"><ul class=\"toc-item\"><li><span><a href=\"#1.加载库文件\" data-toc-modified-id=\"1.加载库文件-1\"><span class=\"toc-item-num\">1&nbsp;&nbsp;</span>1.加载库文件</a></span></li><li><span><a href=\"#2.整理数据\" data-toc-modified-id=\"2.整理数据-2\"><span class=\"toc-item-num\">2&nbsp;&nbsp;</span>2.整理数据</a></span></li><li><span><a href=\"#3.读取整理的数据\" data-toc-modified-id=\"3.读取整理的数据-3\"><span class=\"toc-item-num\">3&nbsp;&nbsp;</span>3.读取整理的数据</a></span></li></ul></div>"
   ]
  },
  {
   "cell_type": "markdown",
   "metadata": {},
   "source": [
    "#### 1.加载库文件"
   ]
  },
  {
   "cell_type": "code",
   "execution_count": 1,
   "metadata": {
    "collapsed": true
   },
   "outputs": [],
   "source": [
    "import glob\n",
    "import numpy as np\n",
    "import os"
   ]
  },
  {
   "cell_type": "markdown",
   "metadata": {},
   "source": [
    "#### 2.整理数据"
   ]
  },
  {
   "cell_type": "code",
   "execution_count": 13,
   "metadata": {},
   "outputs": [
    {
     "name": "stdout",
     "output_type": "stream",
     "text": [
      "daisy images num:  633\n",
      "dandelion images num:  898\n",
      "roses images num:  641\n",
      "sunflowers images num:  699\n",
      "tulips images num:  799\n",
      "\n",
      "\n",
      "training_images nums:  2573\n",
      "validation_images nums:  736\n",
      "testing_images nums:  361\n"
     ]
    }
   ],
   "source": [
    "flower_photes_path = \"../../../datasets/flower_photos\"\n",
    "flower_output_path = \"../../../datasets/flower_photos/output.npy\"\n",
    "\n",
    "validation_percent = 20\n",
    "testing_percent = 10\n",
    "\n",
    "training_images = []\n",
    "training_labels = []\n",
    "validation_images = []\n",
    "validation_labels = []\n",
    "testing_images = []\n",
    "testing_labels = []\n",
    "\n",
    "dirs_list = [x[0] for x in os.walk(flower_photes_path)]\n",
    "\n",
    "is_root = True\n",
    "\n",
    "for dir_path in dirs_list:\n",
    "    # 去除根目录\n",
    "    if is_root:\n",
    "        is_root = False\n",
    "        continue\n",
    "        \n",
    "    label = os.path.basename(dir_path)\n",
    "        \n",
    "    # 获取目录下的所有文件\n",
    "    postfixs = ['jpg', 'jpeg', 'bmp', 'JPE', 'JPEG']\n",
    "    files_list = [] # 存储所有文件的列表\n",
    "    for postfix in postfixs:\n",
    "        file_glob = os.path.join(flower_photes_path, label, \"*.\" + postfix)\n",
    "        files_list.extend(glob.glob(file_glob))\n",
    "    if not files_list:\n",
    "        continue\n",
    "    \n",
    "    i = 0\n",
    "    # 对图片进行分类\n",
    "    for file in files_list:\n",
    "        i += 1\n",
    "        \n",
    "        name = os.path.basename(file)\n",
    "        flower_path = flower_photes_path + \"/\" + label + \"/\" + name\n",
    "        \n",
    "        # 随机划分数据\n",
    "        chance = np.random.randint(100)\n",
    "        \n",
    "        if chance < testing_percent:\n",
    "            testing_images.append(flower_path)\n",
    "            testing_labels.append(label)\n",
    "        elif chance < validation_percent + testing_percent:\n",
    "            validation_images.append(flower_path)\n",
    "            validation_labels.append(label)\n",
    "        else:\n",
    "            training_images.append(flower_path)\n",
    "            training_labels.append(label)\n",
    "    print(label, \"images num: \", i)\n",
    "    \n",
    "print(\"\\n\")\n",
    "print(\"training_images nums: \", len(training_images))\n",
    "print(\"validation_images nums: \", len(validation_images))\n",
    "print(\"testing_images nums: \", len(testing_images)) \n",
    "    \n",
    "# 随机化训练集\n",
    "state = np.random.get_state()\n",
    "np.random.shuffle(training_images)\n",
    "np.random.set_state(state)\n",
    "np.random.shuffle(training_labels)\n",
    "\n",
    "output = np.asarray([training_images, training_labels,\n",
    "                     validation_images, validation_labels,\n",
    "                     testing_images, testing_labels])\n",
    "\n",
    "np.save(flower_output_path, output) "
   ]
  },
  {
   "cell_type": "markdown",
   "metadata": {
    "collapsed": true
   },
   "source": [
    "#### 3.读取整理的数据"
   ]
  },
  {
   "cell_type": "code",
   "execution_count": 14,
   "metadata": {},
   "outputs": [
    {
     "name": "stdout",
     "output_type": "stream",
     "text": [
      "training_images nums:  2573\n",
      "validation_images nums:  736\n",
      "testing_images nums:  361\n"
     ]
    }
   ],
   "source": [
    "output = np.load(flower_output_path)\n",
    "\n",
    "training_images = output[0]\n",
    "training_labels = output[1]\n",
    "validation_images = output[2]\n",
    "validation_labels = output[3]\n",
    "testing_images = output[4]\n",
    "testing_labels = output[5]\n",
    "\n",
    "print(\"training_images nums: \", len(training_images))\n",
    "print(\"validation_images nums: \", len(validation_images))\n",
    "print(\"testing_images nums: \", len(testing_images)) "
   ]
  },
  {
   "cell_type": "code",
   "execution_count": null,
   "metadata": {
    "collapsed": true
   },
   "outputs": [],
   "source": []
  }
 ],
 "metadata": {
  "kernelspec": {
   "display_name": "Python 3",
   "language": "python",
   "name": "python3"
  },
  "language_info": {
   "codemirror_mode": {
    "name": "ipython",
    "version": 3
   },
   "file_extension": ".py",
   "mimetype": "text/x-python",
   "name": "python",
   "nbconvert_exporter": "python",
   "pygments_lexer": "ipython3",
   "version": "3.5.4"
  },
  "toc": {
   "base_numbering": 1,
   "nav_menu": {},
   "number_sections": true,
   "sideBar": true,
   "skip_h1_title": false,
   "title_cell": "Table of Contents",
   "title_sidebar": "Contents",
   "toc_cell": true,
   "toc_position": {},
   "toc_section_display": true,
   "toc_window_display": false
  }
 },
 "nbformat": 4,
 "nbformat_minor": 2
}
