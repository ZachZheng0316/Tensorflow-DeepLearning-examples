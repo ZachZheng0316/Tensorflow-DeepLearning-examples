{
 "cells": [
  {
   "cell_type": "code",
   "execution_count": 1,
   "metadata": {
    "collapsed": true
   },
   "outputs": [],
   "source": [
    "import tensorflow as tf\n",
    "import numpy as np"
   ]
  },
  {
   "cell_type": "markdown",
   "metadata": {},
   "source": [
    "#### 1.假设我们输入的矩阵为[5, 5, 3]"
   ]
  },
  {
   "cell_type": "code",
   "execution_count": 3,
   "metadata": {},
   "outputs": [
    {
     "name": "stdout",
     "output_type": "stream",
     "text": [
      "Matrix shape is:  (5, 5, 3)\n",
      "Matrix data is:  <memory at 0x000001CDFFCD9D68>\n"
     ]
    }
   ],
   "source": [
    "import tensorflow as tf\n",
    "import numpy as np\n",
    "\n",
    "# 构建[5, 5, 3]的矩阵\n",
    "M = np.random.randint(-10, 10, size=[5, 5, 3])\n",
    "\n",
    "# 打印矩阵的数据\n",
    "print(\"Matrix shape is: \", M.shape)\n",
    "print(\"Matrix data is: \", M.data)"
   ]
  },
  {
   "cell_type": "markdown",
   "metadata": {},
   "source": [
    "#### 2.定义卷积过滤器，为1@[5, 5, 3]"
   ]
  },
  {
   "cell_type": "code",
   "execution_count": 4,
   "metadata": {
    "collapsed": true
   },
   "outputs": [],
   "source": [
    "# 通过tf.get_variable()函数创建过滤器\n",
    "# 这里申明的参数为4维变量，\n",
    "# 前两个参数表示过滤尺寸\n",
    "# 第三个参数表示输入层的深度\n",
    "# 第四个参数表示过滤器的个数\n",
    "filter_weight = tf.get_variable(\"weights\",\n",
    "                               shape=[5, 5, 3, 1],\n",
    "                               initializer=tf.constant_initializer(1.0))\n",
    "# 设置偏置项\n",
    "biases = tf.get_variable(\"biases\", shape=[1], \n",
    "                         initializer=tf.constant_initializer(0.1))"
   ]
  },
  {
   "cell_type": "markdown",
   "metadata": {},
   "source": [
    "#### 3.调整输入的格式符合TensorFlow的要求"
   ]
  },
  {
   "cell_type": "code",
   "execution_count": 5,
   "metadata": {
    "collapsed": true
   },
   "outputs": [],
   "source": [
    "M = np.asarray(M, dtype='float32') # 调整类型\n",
    "M = M.reshape(1, 5, 5, 3)"
   ]
  },
  {
   "cell_type": "markdown",
   "metadata": {},
   "source": [
    "#### 4.计算矩阵通过卷积层过滤和池化层过滤器计算后的结果"
   ]
  },
  {
   "cell_type": "code",
   "execution_count": 6,
   "metadata": {},
   "outputs": [
    {
     "name": "stdout",
     "output_type": "stream",
     "text": [
      "convoluted_M: \n",
      " [[[[  6.0999999 ]\n",
      "   [ -7.9000001 ]\n",
      "   [ -9.89999962]]\n",
      "\n",
      "  [[-36.90000153]\n",
      "   [-21.89999962]\n",
      "   [-12.89999962]]\n",
      "\n",
      "  [[-29.89999962]\n",
      "   [-30.89999962]\n",
      "   [-24.89999962]]]]\n",
      "pooled_M: \n",
      " [[[[ 7.  1.  4.]\n",
      "   [ 9.  7.  7.]\n",
      "   [-1.  5.  3.]]\n",
      "\n",
      "  [[ 9.  7.  8.]\n",
      "   [ 5.  7.  9.]\n",
      "   [ 5.  8. -3.]]\n",
      "\n",
      "  [[ 0.  8.  9.]\n",
      "   [-2.  8. -7.]\n",
      "   [ 6.  9. -1.]]]]\n"
     ]
    }
   ],
   "source": [
    "# 构建输入节点\n",
    "# [1, None, None, None]:\n",
    "# 第一个维度：表示batch的大小\n",
    "# 后面三个维度：表示图片尺寸的大小\n",
    "x = tf.placeholder(tf.float32, [1, None, None, None])\n",
    "\n",
    "# 构建卷积层\n",
    "# tf.nn.conv2d提供了一个非常方便的函数来实现卷积层前向传播算法。\n",
    "# 第一个参数：为当前层的节点矩阵。注意这个节点矩阵是一个四维矩阵，\n",
    "# 后面三维对应一个节点矩阵，第一维对应一个输入batch\n",
    "# 比如：input[0, :, :, :]表示第一张图片；\n",
    "# input[1, :, :, :]表示第二张图片；后续以此类推\n",
    "# 第二个参数提供了卷积层的权重，\n",
    "# 第三个参数为不同维度上的步长,虽然第三个参数提供的是一个长度为4的数组，\n",
    "# 但是第一维和最后一维的数字一定是1.这是因为卷积的步长只对矩阵的长宽有效\n",
    "# 最后一个参数是填充(padding)的方法，TensorFlow中提供SAME或者VALID两种选择。\n",
    "# 其中SAME表示添加全0填充，VALID表示不添加\n",
    "conv = tf.nn.conv2d(x, filter_weight, strides=[1, 2, 2, 1], padding='SAME')\n",
    "\n",
    "# tf.nn.bias_add提供了一个方便的函数给每一个节点加上偏置项。\n",
    "# 注意这里不能直接使用加法\n",
    "# 因为矩阵上不同位置的节点上都需要加上同样的偏置项\n",
    "layer = tf.nn.bias_add(conv, biases)\n",
    "\n",
    "# 构建池化层\n",
    "# tf.nn.max_pool实现了最大池化层的前向传播。\n",
    "# ksize：提供了过滤器的尺寸，四维矩阵，第一个参数与最后一个参数必须为1\n",
    "# strides：提供了步长信息，四维矩阵，第一个参数和最后一个参数必须为1，\n",
    "# 常见池化层过滤器尺寸为[1,2,2,1]或者[1,3,3,1]\n",
    "# padding：提供了是否使用全零填充\n",
    "# tf.nn.avg_pool实现了平均池化。参数与tf.nn.max_pool()函数一样\n",
    "pool = tf.nn.max_pool(x, ksize=[1, 2, 2, 1], strides=[1, 2, 2, 1], padding='SAME')\n",
    "\n",
    "# 建立会话\n",
    "config = tf.ConfigProto(allow_soft_placement=True)\n",
    "config.gpu_options.allow_growth=True\n",
    "with tf.Session(config=config) as sess:\n",
    "    # 变量初始化\n",
    "    tf.global_variables_initializer().run()\n",
    "    \n",
    "    # 计算卷积层\n",
    "    convoluted_M = sess.run(layer, feed_dict={x:M})\n",
    "    \n",
    "    # 计算池化层\n",
    "    pooled_M = sess.run(pool, feed_dict={x:M})\n",
    "    \n",
    "    # 打印结果\n",
    "    print(\"convoluted_M: \\n\", convoluted_M)\n",
    "    print(\"pooled_M: \\n\", pooled_M)"
   ]
  },
  {
   "cell_type": "code",
   "execution_count": null,
   "metadata": {
    "collapsed": true
   },
   "outputs": [],
   "source": []
  }
 ],
 "metadata": {
  "kernelspec": {
   "display_name": "Python 3",
   "language": "python",
   "name": "python3"
  },
  "language_info": {
   "codemirror_mode": {
    "name": "ipython",
    "version": 3
   },
   "file_extension": ".py",
   "mimetype": "text/x-python",
   "name": "python",
   "nbconvert_exporter": "python",
   "pygments_lexer": "ipython3",
   "version": "3.5.4"
  }
 },
 "nbformat": 4,
 "nbformat_minor": 2
}
